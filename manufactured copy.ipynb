{
 "cells": [
  {
   "cell_type": "code",
   "execution_count": 1,
   "id": "25184f44",
   "metadata": {},
   "outputs": [],
   "source": [
    "using Gridap\n",
    "using GridapMakie, CairoMakie, FileIO\n",
    "using Gridap.FESpaces\n",
    "using Gridap.ReferenceFEs\n",
    "using Gridap.Arrays\n",
    "using Gridap.Algebra\n",
    "using Gridap.Geometry\n",
    "using Gridap.Fields\n",
    "using Gridap.CellData\n",
    "using FillArrays\n",
    "using Test\n",
    "using InteractiveUtils\n",
    "using PyPlot\n",
    "using JSON3\n",
    "using Dates\n",
    "# using Interpolations"
   ]
  },
  {
   "cell_type": "code",
   "execution_count": 2,
   "id": "4f409095",
   "metadata": {},
   "outputs": [
    {
     "data": {
      "text/plain": [
       "get_control_int (generic function with 1 method)"
      ]
     },
     "metadata": {},
     "output_type": "display_data"
    }
   ],
   "source": [
    "include(\"Julia_functions/indicator_chi.jl\")\n",
    "include(\"Julia_functions/cost_fun.jl\")\n",
    "include(\"Julia_functions/gradient_descent.jl\")\n",
    "include(\"Julia_functions/solvers.jl\")\n",
    "include(\"Julia_functions/find.jl\")\n",
    "include(\"Julia_functions/res_plot.jl\")\n",
    "include(\"Julia_functions/get_domain.jl\")\n",
    "include(\"Julia_functions/get_price_temp.jl\")\n",
    "include(\"Julia_functions/post_processing.jl\")"
   ]
  },
  {
   "cell_type": "code",
   "execution_count": null,
   "id": "a452990d",
   "metadata": {},
   "outputs": [
    {
     "data": {
      "text/plain": [
       "GenericTransientFESolution()"
      ]
     },
     "metadata": {},
     "output_type": "display_data"
    }
   ],
   "source": [
    "# --- Problemparametere ---\n",
    "h = 1.0\n",
    "k = 1.0\n",
    "ρ = 1.0\n",
    "c = 1.0\n",
    "θ = 0.5\n",
    "Δt = 0.05\n",
    "t0 = 0.0\n",
    "tF = 1.0\n",
    "h_wall = 1.0\n",
    "\n",
    "# --- Manufactured solution og avledede størrelser ---\n",
    "T_exact(x, t) = sin(x[1] + x[2] + t)\n",
    "T_t(x, t) = cos(x[1] + x[2] + t)\n",
    "ΔT(x, t) = -2 * sin(x[1] + x[2] + t)\n",
    "Q(x, t) = T_t(x, t) - ΔT(x, t)\n",
    "\n",
    "T_out_up(x, t) = cos(x[1] + x[2] + t) - T_exact(x, t)\n",
    "T_out_down(x, t) = -cos(x[1] + x[2] + t) - T_exact(x, t)\n",
    "T_out_left(x, t) = -cos(x[1] + x[2] + t) - T_exact(x, t)\n",
    "T_out_right(x, t) = cos(x[1] + x[2] + t) - T_exact(x, t)\n",
    "\n",
    "Qt(t) = x -> Q(x, t)\n",
    "\n",
    "# --- Initialtilstand ---\n",
    "TIni(x) = T_exact(x, t0)\n",
    "\n",
    "# --- Geometri og mesh ---\n",
    "domain = (0.0, 1.0, 0.0, 1.0)\n",
    "partition = (25, 25)\n",
    "model = CartesianDiscreteModel(domain, partition)\n",
    "\n",
    "labels = get_face_labeling(model)\n",
    "add_tag_from_tags!(labels, \"left\", [1,3,7])\n",
    "add_tag_from_tags!(labels, \"right\", [2,4,8])\n",
    "add_tag_from_tags!(labels, \"bottom\", [5])\n",
    "add_tag_from_tags!(labels, \"top\", [6])\n",
    "\n",
    "Ω = Triangulation(model)\n",
    "Γ_up = BoundaryTriangulation(model, tags=\"top\")\n",
    "Γ_down = BoundaryTriangulation(model, tags=\"bottom\")\n",
    "Γ_left = BoundaryTriangulation(model, tags=\"left\")\n",
    "Γ_right = BoundaryTriangulation(model, tags=\"right\")\n",
    "\n",
    "order = 1\n",
    "degree = 2 * order\n",
    "dΩ = Measure(Ω, degree)\n",
    "dΓ_up = Measure(Γ_up, degree)\n",
    "dΓ_down = Measure(Γ_down, degree)\n",
    "dΓ_left = Measure(Γ_left, degree)\n",
    "dΓ_right = Measure(Γ_right, degree)\n",
    "\n",
    "# --- Rom og FE-definisjon ---\n",
    "reffe = ReferenceFE(lagrangian, Float64, order)\n",
    "\n",
    "Testspace = TestFESpace(model, reffe; conformity=:H1)\n",
    "Trialspace = TransientTrialFESpace(Testspace)\n",
    "\n",
    "# --- Svak form ---\n",
    "a_dt(t, dT, v) = ∫(c * dT * v * ρ) * dΩ\n",
    "\n",
    "a_SE(t, T, v) = ∫(k * ∇(T) ⋅ ∇(v)) * dΩ +\n",
    "                ∫(h_wall * T * v) * dΓ_up +\n",
    "                ∫(h_wall * T * v) * dΓ_down +\n",
    "                ∫(h_wall * T * v) * dΓ_left +\n",
    "                ∫(h_wall * T * v) * dΓ_right\n",
    "\n",
    "l_SE(t, v) = ∫(Qt(t) * v) * dΩ +\n",
    "             ∫(x -> T_out_up(x, t) * h_wall * v(x)) * dΓ_up +\n",
    "             ∫(x -> T_out_down(x, t) * h_wall * v(x)) * dΓ_down +\n",
    "             ∫(x -> T_out_left(x, t) * h_wall * v(x)) * dΓ_left +\n",
    "             ∫(x -> T_out_right(x, t) * h_wall * v(x)) * dΓ_right\n",
    "\n",
    "# --- Operator og løsning ---\n",
    "ls = LUSolver()\n",
    "solver = ThetaMethod(ls, Δt, θ)\n",
    "\n",
    "op = TransientLinearFEOperator((a_dt, a_SE), l_SE, Trialspace, Testspace, constant_forms=(true, true))\n",
    "\n",
    "T0 = interpolate(TIni, Trialspace)\n",
    "T = solve(solver, op, t0, tF, T0)"
   ]
  },
  {
   "cell_type": "code",
   "execution_count": null,
   "id": "461b90a3",
   "metadata": {},
   "outputs": [
    {
     "ename": "UndefVarError",
     "evalue": "UndefVarError: `timesteps` not defined in `Main`\nSuggestion: check for spelling errors or missing imports.",
     "output_type": "error",
     "traceback": [
      "UndefVarError: `timesteps` not defined in `Main`\n",
      "Suggestion: check for spelling errors or missing imports.\n",
      "\n",
      "Stacktrace:\n",
      " [1] top-level scope\n",
      "   @ c:\\Users\\Bruker\\Documents\\NTNU\\8. Semester\\MiA\\Cost-Optimization-of-Room-Heating-MiA-\\jl_notebook_cell_df34fa98e69747e1a8f8a730347b8e2f_W4sZmlsZQ==.jl:3"
     ]
    }
   ],
   "source": [
    "# Definer tidsstegene og løsningen\n",
    "T = [(t0, T0)]  # Start med initialbetingelsen\n",
    "for (t, TT) in zip(timesteps, computed_solutions)\n",
    "    push!(T, (t, FEFunction(Trialspace, copy(get_free_dof_values(TT)))))\n",
    "end\n",
    "\n",
    "# Lagre løsningene som VTK-filer og lag PVD-filen\n",
    "if !isdir(\"tmp_M\")\n",
    "    mkdir(\"tmp_M\")\n",
    "end\n",
    "\n",
    "createpvd(\"results_M\") do pvd\n",
    "    # Lagre den initiale løsningen ved t = t0\n",
    "    pvd[0] = createvtk(Ω, \"tmp_M/results_0.vtu\", cellfields=[\"T\" => T0])\n",
    "    \n",
    "    # Lagre løsningene for hvert tidssteg\n",
    "    for (tn, (t, TT)) in enumerate(T)\n",
    "        # Hent FE-funksjonen for løsningen ved tidssteg t\n",
    "        Tn = FEFunction(Trialspace, copy(get_free_dof_values(TT)))\n",
    "        \n",
    "        # Lagre løsningen som en VTK-fil\n",
    "        pvd[tn] = createvtk(Ω, \"tmp_M/results_$tn.vtu\", cellfields=[\"T\" => Tn])\n",
    "    end\n",
    "end\n",
    "\n"
   ]
  }
 ],
 "metadata": {
  "kernelspec": {
   "display_name": "Julia 1.11.3",
   "language": "julia",
   "name": "julia-1.11"
  },
  "language_info": {
   "file_extension": ".jl",
   "mimetype": "application/julia",
   "name": "julia",
   "version": "1.11.3"
  }
 },
 "nbformat": 4,
 "nbformat_minor": 5
}
