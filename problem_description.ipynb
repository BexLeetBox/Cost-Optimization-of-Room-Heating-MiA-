{
 "cells": [
  {
   "cell_type": "markdown",
   "metadata": {},
   "source": [
    "# Optimal control - Room"
   ]
  },
  {
   "cell_type": "markdown",
   "metadata": {},
   "source": [
    "The goal of the project is to minimize the energy cost of preheating a room.\n",
    "\n",
    "This is achieved by minimizing the cost function $J(q)$:\n",
    "\n",
    "$$J(q) = \\frac{1}{2}\\left\\| \\chi_{[T,T_{end}]}(T-T_d) \\right\\|_{L^2(\\Omega\\times(0,T))} + \\frac{\\gamma}{2}\\int_{0}^{T_{end}}\\int_{\\Omega}^{}(P(t)q(\\bar{x},t))^2d\\Omega \\to \\min $$\n"
   ]
  },
  {
   "cell_type": "markdown",
   "metadata": {},
   "source": [
    "$$\\text{s.t}= \\left\\{ \\begin{array}{cl}\n",
    "T_t - \\nabla(k(\\hat{x})\\nabla T) = q(\\bar{x},t) \\quad \\text{on} \\ \\Omega \\\\ \\\\\n",
    "\\nabla T \\overrightarrow{n} = h(T-T_{out})\n",
    "\\end{array} \\right. $$"
   ]
  },
  {
   "cell_type": "markdown",
   "metadata": {},
   "source": [
    "- $q(\\bar{x},t)$: Space fixed $(\\bar{x})$ control variable representing the heat source distribution over time.\n",
    "- $P(t)$: Energy price function \n",
    "- $T_{out}(t)$: Outside temperature \n",
    "- $T_d(t)$: Desired room temperature"
   ]
  },
  {
   "cell_type": "markdown",
   "metadata": {},
   "source": [
    "### Bilinear form\n",
    "\n",
    "$$ \\int_{\\Omega}^{}(T_t - \\nabla(k(\\hat{x})\\nabla T))\\varphi =\\int_{\\Omega}^{} q(\\bar{x},t)\\varphi $$\n",
    "\n",
    "$$ \\int_{\\Omega}^{}T_t +k\\nabla T \\nabla \\varphi - \\int_{\\partial\\Omega}^{}k\\nabla T\\overrightarrow{n}\\varphi =a(T,\\varphi) $$\n",
    "\n",
    "$$ \\int_{\\Omega}^{}T_t +k\\nabla T \\nabla \\varphi - \\int_{\\partial\\Omega}^{}k(h(T-T_{out}))\\varphi =a(T,\\varphi) $$"
   ]
  }
 ],
 "metadata": {
  "language_info": {
   "name": "python"
  }
 },
 "nbformat": 4,
 "nbformat_minor": 2
}
