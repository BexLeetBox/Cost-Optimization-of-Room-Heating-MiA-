{
 "cells": [
  {
   "cell_type": "markdown",
   "metadata": {},
   "source": [
    "#### Import Julia packages"
   ]
  },
  {
   "cell_type": "code",
   "execution_count": 371,
   "metadata": {},
   "outputs": [],
   "source": [
    "import Pkg\n",
    "# Pkg.add(\"JSON3\")\n",
    "#Pkg.add(\"Interpolations\")"
   ]
  },
  {
   "cell_type": "code",
   "execution_count": 372,
   "metadata": {},
   "outputs": [],
   "source": [
    "using Gridap\n",
    "using GridapMakie, CairoMakie, FileIO\n",
    "using Gridap.FESpaces\n",
    "using Gridap.ReferenceFEs\n",
    "using Gridap.Arrays\n",
    "using Gridap.Algebra\n",
    "using Gridap.Geometry\n",
    "using Gridap.Fields\n",
    "using Gridap.CellData\n",
    "using FillArrays\n",
    "using Test\n",
    "using InteractiveUtils\n",
    "using PyPlot\n",
    "using JSON3\n",
    "using Dates\n",
    "using Interpolations"
   ]
  },
  {
   "cell_type": "code",
   "execution_count": 373,
   "metadata": {},
   "outputs": [
    {
     "data": {
      "text/plain": [
       "_update_labels_locally! (generic function with 1 method)"
      ]
     },
     "metadata": {},
     "output_type": "display_data"
    }
   ],
   "source": [
    "function mark_nodes(f,model::DiscreteModel)\n",
    "  topo   = get_grid_topology(model)\n",
    "  coords = get_vertex_coordinates(topo)\n",
    "  mask = map(f,coords)\n",
    "  return mask\n",
    "end\n",
    "function update_labels!(e::Integer,model::CartesianDiscreteModel,f_Γ::Function,name::String)\n",
    "    mask = mark_nodes(f_Γ,model)\n",
    "    _update_labels_locally!(e,model,mask,name)\n",
    "    nothing\n",
    "end\n",
    "function _update_labels_locally!(e,model::CartesianDiscreteModel{2},mask,name)\n",
    "  topo   = get_grid_topology(model)\n",
    "  labels = get_face_labeling(model)\n",
    "  cell_to_entity = labels.d_to_dface_to_entity[end]\n",
    "  entity = maximum(cell_to_entity) + e\n",
    "  # Vertices\n",
    "  vtxs_Γ = findall(mask)\n",
    "  vtx_edge_connectivity = Array(get_faces(topo,0,1)[vtxs_Γ])\n",
    "  # Edges\n",
    "  edge_entries = [findall(x->any(x .∈  vtx_edge_connectivity[1:end.!=j]),\n",
    "    vtx_edge_connectivity[j]) for j = 1:length(vtx_edge_connectivity)]\n",
    "  edge_Γ = unique(reduce(vcat,getindex.(vtx_edge_connectivity,edge_entries),init=[]))\n",
    "  labels.d_to_dface_to_entity[1][vtxs_Γ] .= entity\n",
    "  labels.d_to_dface_to_entity[2][edge_Γ] .= entity\n",
    "  add_tag!(labels,name,[entity])\n",
    "  return cell_to_entity\n",
    "end"
   ]
  },
  {
   "cell_type": "markdown",
   "metadata": {},
   "source": [
    "#### Import Custom functions"
   ]
  },
  {
   "cell_type": "code",
   "execution_count": 374,
   "metadata": {},
   "outputs": [
    {
     "data": {
      "text/plain": [
       "get_price_temp (generic function with 1 method)"
      ]
     },
     "metadata": {},
     "output_type": "display_data"
    }
   ],
   "source": [
    "#include(\"Julia_functions/solution_animation.jl\")\n",
    "include(\"Julia_functions/indicator_chi.jl\")\n",
    "include(\"Julia_functions/cost_fun.jl\")\n",
    "include(\"Julia_functions/gradient_descent.jl\")\n",
    "include(\"Julia_functions/solvers.jl\")\n",
    "include(\"Julia_functions/find.jl\")\n",
    "include(\"Julia_functions/res_plot.jl\")\n",
    "include(\"Julia_functions/get_domain.jl\")\n",
    "include(\"Julia_functions/get_price_temp.jl\")"
   ]
  },
  {
   "cell_type": "markdown",
   "metadata": {},
   "source": [
    "#### Read JSON File"
   ]
  },
  {
   "cell_type": "code",
   "execution_count": 375,
   "metadata": {},
   "outputs": [
    {
     "data": {
      "text/plain": [
       "(5, 3, Any[(0.3, 1.3, \"Top\"), (3.3, 4.3, \"Top\")], Any[(0.4, 1.3, \"Right\")], [[0.2, 2.0, 0.1, 0.3]])"
      ]
     },
     "metadata": {},
     "output_type": "display_data"
    }
   ],
   "source": [
    "width, height, windows, doors, heating_elem = get_room(\"Boundry.json\")"
   ]
  },
  {
   "cell_type": "code",
   "execution_count": 376,
   "metadata": {},
   "outputs": [
    {
     "data": {
      "text/plain": [
       "(Any[0.01669, 0.01319, 0.00967, 0.01037, 0.02006, 0.02314, 0.01764, 0.01828, 0.01869, 0.01863, 0.01817, 0.01777], Any[0.19048, 0.15054, 0.11036, 0.11835, 0.22894, 0.2641, 0.20133, 0.20863, 0.21331, 0.21262, 0.20737, 0.20281], Any[282.15, 282.34999999999997, 282.25, 282.34999999999997, 282.15, 281.45, 280.65, 280.84999999999997, 280.75, 280.45, 280.25, 279.95], Any[10, 11, 12, 13, 14, 15, 16, 17, 18, 19, 20, 21])"
      ]
     },
     "metadata": {},
     "output_type": "display_data"
    }
   ],
   "source": [
    "price_EUR, price_NOK, T_out, hour_lst = get_price_temp(\"WeatherandEnergy.json\")"
   ]
  },
  {
   "cell_type": "markdown",
   "metadata": {},
   "source": [
    "#### Boundary conditions"
   ]
  },
  {
   "cell_type": "code",
   "execution_count": 377,
   "metadata": {},
   "outputs": [
    {
     "data": {
      "text/plain": [
       "generate_f_Γ (generic function with 1 method)"
      ]
     },
     "metadata": {},
     "output_type": "display_data"
    }
   ],
   "source": [
    "function generate_f_Γ(bound, width, height)\n",
    "    return function (x)\n",
    "        any(\n",
    "            (b[3] == \"Top\"    && (b[1] ≤ x[1] ≤ b[2]) && (x[2] ≈ height)) ||\n",
    "            (b[3] == \"Bottom\" && (b[1] ≤ x[1] ≤ b[2]) && (x[2] ≈ 0)) ||\n",
    "            (b[3] == \"Left\"   && (b[1] ≤ x[2] ≤ b[2]) && (x[1] ≈ 0)) ||\n",
    "            (b[3] == \"Right\"  && (b[1] ≤ x[2] ≤ b[2]) && (x[1] ≈ width))\n",
    "            for b in bound\n",
    "        )\n",
    "    end\n",
    "end"
   ]
  },
  {
   "cell_type": "code",
   "execution_count": 378,
   "metadata": {},
   "outputs": [
    {
     "data": {
      "text/plain": [
       "f_Γ_wall (generic function with 1 method)"
      ]
     },
     "metadata": {},
     "output_type": "display_data"
    }
   ],
   "source": [
    "f_Γ_w = generate_f_Γ(windows, width, height)\n",
    "f_Γ_d = generate_f_Γ(doors, width, height)\n",
    "f_Γ_wall(x) = !(f_Γ_w(x) || f_Γ_d(x))"
   ]
  },
  {
   "cell_type": "markdown",
   "metadata": {},
   "source": [
    "#### Domain & Discretization"
   ]
  },
  {
   "cell_type": "code",
   "execution_count": 379,
   "metadata": {},
   "outputs": [
    {
     "data": {
      "text/plain": [
       "UnconstrainedFESpace()"
      ]
     },
     "metadata": {},
     "output_type": "display_data"
    }
   ],
   "source": [
    "domain = (0, width , 0, height)\n",
    "partition = (25,25)\n",
    "model = CartesianDiscreteModel(domain,partition) \n",
    "update_labels!(1, model, f_Γ_w, \"window\")\n",
    "update_labels!(2, model, f_Γ_d, \"door\")\n",
    "update_labels!(3, model, f_Γ_wall, \"wall\")\n",
    "\n",
    "order = 1\n",
    "degree = 2*order\n",
    "\n",
    "Ω = Triangulation(model)\n",
    "dΩ = Measure(Ω, degree)\n",
    "\n",
    "Γ_w = BoundaryTriangulation(model, tags=\"window\")\n",
    "dΓ_w = Measure(Γ_w, degree)\n",
    "\n",
    "Γ_d = BoundaryTriangulation(model, tags=\"door\")\n",
    "dΓ_d = Measure(Γ_d, degree)\n",
    "\n",
    "Γ_wall = BoundaryTriangulation(model, tags=\"wall\")\n",
    "dΓ_wall = Measure(Γ_wall, degree)\n",
    "\n",
    "reffe = ReferenceFE(lagrangian,Float64,order)\n",
    "Testspace = TestFESpace(model,reffe,conformity=:H1)                         \n",
    "Trialspace = TransientTrialFESpace(Testspace)                                \n",
    "Uspace = FESpace(model, reffe, conformity=:H1)\n",
    "\n",
    "# fig = CairoMakie.plot(Ω)\n",
    "# scatter!(Ω, marker=:circle, markersize=20, color=:blue) \n",
    "# display(fig)"
   ]
  },
  {
   "cell_type": "code",
   "execution_count": 380,
   "metadata": {},
   "outputs": [
    {
     "data": {
      "text/plain": [
       "get_temp_function (generic function with 1 method)"
      ]
     },
     "metadata": {},
     "output_type": "display_data"
    }
   ],
   "source": [
    "function get_price_function(price_NOK, tF,σ=0.001)\n",
    "    time = LinRange(0, tF, length(price_NOK))  # Lager tidsintervall\n",
    "    \n",
    "    return function (t)\n",
    "        for i in 1:length(time)-1\n",
    "            if t >= time[i] && t < time[i+1]\n",
    "                return price_NOK[i]*σ\n",
    "            end\n",
    "        end\n",
    "        return price_NOK[end]*σ  # Returnerer siste verdi hvis t er større enn siste tidsverdi\n",
    "    end\n",
    "end\n",
    "\n",
    "function get_temp_function(temp, tF)\n",
    "    time = LinRange(0, tF, length(temp))  # Lager tidsintervall\n",
    "    \n",
    "    return function (t)\n",
    "        for i in 1:length(time)-1\n",
    "            if t >= time[i] && t < time[i+1]\n",
    "                return temp[i]\n",
    "            end\n",
    "        end\n",
    "        return temp[end]  # Returnerer siste verdi hvis t er større enn siste tidsverdi\n",
    "    end\n",
    "end"
   ]
  },
  {
   "cell_type": "markdown",
   "metadata": {},
   "source": [
    "#### Time parameters"
   ]
  },
  {
   "cell_type": "code",
   "execution_count": null,
   "metadata": {},
   "outputs": [
    {
     "data": {
      "text/plain": [
       "5"
      ]
     },
     "metadata": {},
     "output_type": "display_data"
    }
   ],
   "source": [
    "t0 = 0.0    # Start time\n",
    "tF = 10.0   # End time\n",
    "Δt = 0.05   # Timestep"
   ]
  },
  {
   "cell_type": "markdown",
   "metadata": {},
   "source": [
    "#### Room parameters"
   ]
  },
  {
   "cell_type": "code",
   "execution_count": null,
   "metadata": {},
   "outputs": [
    {
     "data": {
      "text/plain": [
       "SingleFieldFEFunction():\n",
       " num_cells: 625\n",
       " DomainStyle: ReferenceDomain()\n",
       " Triangulation: BodyFittedTriangulation()\n",
       " Triangulation id: 18197695399889677620"
      ]
     },
     "metadata": {},
     "output_type": "display_data"
    }
   ],
   "source": [
    "h_wall(x) = 0.22*1000            # [W/m^2K]\n",
    "h_window(x) = 1.2*1000\n",
    "h_door(x) = 1.0*1000\n",
    "\n",
    "ρ(x)=1.225\n",
    "c(x)=1020.0\n",
    "k(x)=0.025*1000\n",
    "\n",
    "h = (h_wall, h_window, h_door) \n",
    "constants = (c, ρ, k, h) \n",
    "\n",
    "#Toutdoor(x,t)=273.0\n",
    "#Tout(t)=x->Toutdoor(x,t)\n",
    "\n",
    "Tout = get_temp_function(T_out, tF)\n",
    "\n",
    "price = get_price_function(price_NOK, tF)\n",
    "\n",
    "Tini(x)=297.0\n",
    "\n",
    "TIni=interpolate_everywhere(Tini, Uspace(t0))\n",
    "Tfin=interpolate_everywhere(297.0, Uspace(tF))"
   ]
  },
  {
   "cell_type": "markdown",
   "metadata": {},
   "source": [
    "#### Controll parameter"
   ]
  },
  {
   "cell_type": "code",
   "execution_count": 383,
   "metadata": {},
   "outputs": [
    {
     "data": {
      "text/plain": [
       "heating_elements (generic function with 1 method)"
      ]
     },
     "metadata": {},
     "output_type": "display_data"
    }
   ],
   "source": [
    "function heating_elements(heating_elem)\n",
    "    return function (x) sum(χ(x[1], elem[1], elem[2]) * χ(x[2], elem[3], elem[4]) for elem in heating_elem) end\n",
    "end"
   ]
  },
  {
   "cell_type": "code",
   "execution_count": 384,
   "metadata": {},
   "outputs": [
    {
     "data": {
      "text/plain": [
       "Qt (generic function with 1 method)"
      ]
     },
     "metadata": {},
     "output_type": "display_data"
    }
   ],
   "source": [
    "#q_pos(x) = χ(x[1], 0.21, 1.73) * χ(x[2], 0.13, 0.16)\n",
    "q_pos = heating_elements(heating_elem)\n",
    "Q(x,t)=χ(t,0.0,100.0)*3000.0*q_pos(x)*0.0\n",
    "Qt(t)=x->Q(x,t)"
   ]
  },
  {
   "cell_type": "markdown",
   "metadata": {},
   "source": [
    "#### Solver parameters"
   ]
  },
  {
   "cell_type": "code",
   "execution_count": 385,
   "metadata": {},
   "outputs": [
    {
     "data": {
      "text/plain": [
       "Proj (generic function with 2 methods)"
      ]
     },
     "metadata": {},
     "output_type": "display_data"
    }
   ],
   "source": [
    "L2norm(u)=√((tF-t0)*∑(Δt*∑(∫(uu⋅uu)*dΩ) for (t,uu) in u))\n",
    "L2skp(u)=(tF-t0)*∑(Δt*∑(∫(uu⋅uu)*dΩ) for (t,uu) in u)\n",
    "\n",
    "γ = 5000.0\n",
    "\n",
    "Proj(a,b,z) = min(max(a,z),b)\n",
    "a=0.0\n",
    "b=2000.0\n",
    "Proj(z) = [(t,FEFunction(Uspace,map(x->Proj(a,b,x), get_free_dof_values(zz)))) for (t,zz) in z]"
   ]
  },
  {
   "cell_type": "markdown",
   "metadata": {},
   "source": [
    "#### Test Gradient DEs"
   ]
  },
  {
   "cell_type": "code",
   "execution_count": null,
   "metadata": {},
   "outputs": [
    {
     "name": "stdout",
     "output_type": "stream",
     "text": [
      "T computed\n",
      "W computed\n",
      "entered for loop, E=1.0488299004633555e7, k = 1\n",
      "α = 1.0, new_cost = 1.0488299004633555e7\n",
      "α = 0.5, new_cost = 1.8504818503374055e8\n",
      "α = 0.25, new_cost = 1.8504818503374055e8\n",
      "α = 0.125, new_cost = 1.8504818503374055e8\n",
      "α = 0.0625, new_cost = 1.8504818503374055e8\n",
      "α = 0.03125, new_cost = 1.8504818503374055e8\n",
      "α = 0.015625, new_cost = 1.8504818503374055e8\n",
      "α = 0.0078125, new_cost = 1.5448349456520194e8\n",
      "α = 0.00390625, new_cost = 7.932844898088145e7\n",
      "α = 0.001953125, new_cost = 3.549620459333078e7\n",
      "α = 0.0009765625, new_cost = 1.7445711201243356e7\n",
      "α = 0.00048828125, new_cost = 1.1422966745243767e7\n",
      "entered for loop, E=9.888024181997884e6, k = 2\n",
      "α = 1.0, new_cost = 9.888024181997884e6\n",
      "α = 0.5, new_cost = 1.0472420658394158e7"
     ]
    }
   ],
   "source": [
    "(Ts,qs,Ws,costs) = GradientDescent(;solveSE=SEsolver, \n",
    "solveAE=AEsolver, \n",
    "spaces=(Trialspace, Testspace, Uspace), \n",
    "dΩ=dΩ, \n",
    "dΓ=(dΓ_w,dΓ_d,dΓ_wall), \n",
    "Q=Qt, \n",
    "J=E, \n",
    "∇f=∇e, \n",
    "P=Proj, \n",
    "s_min=s_min,\n",
    "sminargs=nothing, \n",
    "saveall=false, \n",
    "tol=1e-5, \n",
    "iter_max=10,\n",
    "armijoparas=(ρ=1/2, α_0=1.0, α_min=1e-5, σ=1e-4), \n",
    "Δt=Δt, \n",
    "t0=t0,\n",
    "tF=tF,\n",
    "Tout=Tout,\n",
    "constants=constants,\n",
    "Tfin=Tfin,\n",
    "q_pos=q_pos)"
   ]
  },
  {
   "cell_type": "code",
   "execution_count": null,
   "metadata": {},
   "outputs": [],
   "source": [
    "# Opprett en mappe for midlertidige filer hvis den ikke eksisterer\n",
    "if !isdir(\"tmp\")\n",
    "    mkdir(\"tmp\")\n",
    "end\n",
    "\n",
    "# Initialtilstanden og resten av tidsløsningene\n",
    "# uh0 = solution[1][2]  # Første element er (t0, T0), vi henter T0\n",
    "# uh  = solution[2:end]  # De resterende løsningene\n",
    "\n",
    "\n",
    "uh = Ts\n",
    "# Lagre resultater i Paraview-format (VTK)\n",
    "createpvd(\"results\") do pvd\n",
    "    # Første løsning (t=0)\n",
    "    # pvd[0] = createvtk(Ω, \"tmp/results_0.vtu\", cellfields=[\"u\" => uh0])\n",
    "\n",
    "    # Lagrer løsninger for hver tidssteg\n",
    "    for (tn, uhn) in uh\n",
    "        pvd[tn] = createvtk(Ω, \"tmp/results_$tn.vtu\", cellfields=[\"u\" => uhn])\n",
    "    end\n",
    "end\n"
   ]
  },
  {
   "cell_type": "code",
   "execution_count": null,
   "metadata": {},
   "outputs": [],
   "source": [
    "function get_temperature_int(Ts, width, height)\n",
    "\ttmp = []\n",
    "\tfor temp in Ts\n",
    "\tpush!(tmp, ∑(∫(temp[2])*dΩ))\n",
    "\tend\n",
    "\treturn tmp / (width * height)\n",
    "end"
   ]
  },
  {
   "cell_type": "code",
   "execution_count": null,
   "metadata": {},
   "outputs": [],
   "source": [
    "function get_control_int(qs)\n",
    "    q = []\n",
    "\tfor u in qs\n",
    "\tpush!(q, ∑(∫(u[2])*dΩ))\n",
    "\tend\n",
    "\treturn q\n",
    "end"
   ]
  },
  {
   "cell_type": "code",
   "execution_count": null,
   "metadata": {},
   "outputs": [],
   "source": [
    "T = get_temperature_int(Ts, width, height)\n",
    "q = get_control_int(qs)"
   ]
  },
  {
   "cell_type": "code",
   "execution_count": null,
   "metadata": {},
   "outputs": [],
   "source": [
    "result_plot()"
   ]
  },
  {
   "cell_type": "code",
   "execution_count": null,
   "metadata": {},
   "outputs": [],
   "source": []
  }
 ],
 "metadata": {
  "kernelspec": {
   "display_name": "Julia 1.11.3",
   "language": "julia",
   "name": "julia-1.11"
  },
  "language_info": {
   "file_extension": ".jl",
   "mimetype": "application/julia",
   "name": "julia",
   "version": "1.11.3"
  }
 },
 "nbformat": 4,
 "nbformat_minor": 2
}
