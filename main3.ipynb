{
 "cells": [
  {
   "cell_type": "markdown",
   "metadata": {},
   "source": [
    "#### Import Julia packages"
   ]
  },
  {
   "cell_type": "code",
   "execution_count": 109,
   "metadata": {},
   "outputs": [],
   "source": [
    "# import Pkg\n",
    "# Pkg.add(\"JSON3\")\n",
    "# Pkg.add(\"Interpolations\")"
   ]
  },
  {
   "cell_type": "code",
   "execution_count": 110,
   "metadata": {},
   "outputs": [],
   "source": [
    "using Gridap\n",
    "using GridapMakie, CairoMakie, FileIO\n",
    "using Gridap.FESpaces\n",
    "using Gridap.ReferenceFEs\n",
    "using Gridap.Arrays\n",
    "using Gridap.Algebra\n",
    "using Gridap.Geometry\n",
    "using Gridap.Fields\n",
    "using Gridap.CellData\n",
    "using FillArrays\n",
    "using Test\n",
    "using InteractiveUtils\n",
    "using PyPlot\n",
    "using JSON3\n",
    "using Dates\n",
    "using Interpolations"
   ]
  },
  {
   "cell_type": "markdown",
   "metadata": {},
   "source": [
    "#### Import Custom functions"
   ]
  },
  {
   "cell_type": "code",
   "execution_count": 111,
   "metadata": {},
   "outputs": [
    {
     "data": {
      "text/plain": [
       "get_control_int (generic function with 1 method)"
      ]
     },
     "metadata": {},
     "output_type": "display_data"
    }
   ],
   "source": [
    "include(\"Julia_functions/indicator_chi.jl\")\n",
    "include(\"Julia_functions/cost_fun.jl\")\n",
    "include(\"Julia_functions/gradient_descent.jl\")\n",
    "include(\"Julia_functions/solvers.jl\")\n",
    "include(\"Julia_functions/find.jl\")\n",
    "include(\"Julia_functions/res_plot.jl\")\n",
    "include(\"Julia_functions/get_domain.jl\")\n",
    "include(\"Julia_functions/get_price_temp.jl\")\n",
    "include(\"Julia_functions/post_processing.jl\")"
   ]
  },
  {
   "cell_type": "markdown",
   "metadata": {},
   "source": [
    "#### Read JSON File"
   ]
  },
  {
   "cell_type": "code",
   "execution_count": 112,
   "metadata": {},
   "outputs": [
    {
     "data": {
      "text/plain": [
       "(5, 3, Any[(0.75125, 2.32125, \"Left\"), (0.73125, 2.32125, \"Right\")], Any[(0.235, 0.655, \"Top\")], [[2.005, 3.435, 0.12125, 0.20125], [1.765, 3.215, 2.82125, 2.89125]])"
      ]
     },
     "metadata": {},
     "output_type": "display_data"
    }
   ],
   "source": [
    "width, height, windows, doors, heating_elem = get_room(\"Boundary.json\")"
   ]
  },
  {
   "cell_type": "code",
   "execution_count": 113,
   "metadata": {},
   "outputs": [
    {
     "data": {
      "text/plain": [
       "(Any[0.01669, 0.01319, 0.00967, 0.01037, 0.02006, 0.02314, 0.01764, 0.01828, 0.01869, 0.01863, 0.01817, 0.01777], Any[0.19048, 0.15054, 0.11036, 0.11835, 0.22894, 0.2641, 0.20133, 0.20863, 0.21331, 0.21262, 0.20737, 0.20281], Any[282.15, 282.34999999999997, 282.25, 282.34999999999997, 282.15, 281.45, 280.65, 280.84999999999997, 280.75, 280.45, 280.25, 279.95], Any[10, 11, 12, 13, 14, 15, 16, 17, 18, 19, 20, 21])"
      ]
     },
     "metadata": {},
     "output_type": "display_data"
    }
   ],
   "source": [
    "price_EUR, price_NOK, T_out, hour_lst = get_price_temp(\"WeatherandEnergy.json\")"
   ]
  },
  {
   "cell_type": "markdown",
   "metadata": {},
   "source": [
    "#### Boundary conditions"
   ]
  },
  {
   "cell_type": "code",
   "execution_count": 114,
   "metadata": {},
   "outputs": [
    {
     "data": {
      "text/plain": [
       "f_Γ_wall (generic function with 1 method)"
      ]
     },
     "metadata": {},
     "output_type": "display_data"
    }
   ],
   "source": [
    "f_Γ_w = generate_f_Γ(windows, width, height)\n",
    "f_Γ_d = generate_f_Γ(doors, width, height)\n",
    "f_Γ_wall(x) = !(f_Γ_w(x) || f_Γ_d(x))"
   ]
  },
  {
   "cell_type": "markdown",
   "metadata": {},
   "source": [
    "#### Domain & Discretization"
   ]
  },
  {
   "cell_type": "code",
   "execution_count": 115,
   "metadata": {},
   "outputs": [
    {
     "data": {
      "text/plain": [
       "UnconstrainedFESpace()"
      ]
     },
     "metadata": {},
     "output_type": "display_data"
    }
   ],
   "source": [
    "domain = (0, width , 0, height)\n",
    "partition = (25,25)\n",
    "model = CartesianDiscreteModel(domain,partition) \n",
    "update_labels!(1, model, f_Γ_w, \"window\")\n",
    "update_labels!(2, model, f_Γ_d, \"door\")\n",
    "update_labels!(3, model, f_Γ_wall, \"wall\")\n",
    "\n",
    "order = 1\n",
    "degree = 2*order\n",
    "\n",
    "Ω = Triangulation(model)\n",
    "dΩ = Measure(Ω, degree)\n",
    "\n",
    "Γ_w = BoundaryTriangulation(model, tags=\"window\")\n",
    "dΓ_w = Measure(Γ_w, degree)\n",
    "\n",
    "Γ_d = BoundaryTriangulation(model, tags=\"door\")\n",
    "dΓ_d = Measure(Γ_d, degree)\n",
    "\n",
    "Γ_wall = BoundaryTriangulation(model, tags=\"wall\")\n",
    "dΓ_wall = Measure(Γ_wall, degree)\n",
    "\n",
    "reffe = ReferenceFE(lagrangian,Float64,order)\n",
    "Testspace = TestFESpace(model,reffe,conformity=:H1)                         \n",
    "Trialspace = TransientTrialFESpace(Testspace)                                \n",
    "Uspace = FESpace(model, reffe, conformity=:H1)\n",
    "\n",
    "# fig = CairoMakie.plot(Ω)\n",
    "# scatter!(Ω, marker=:circle, markersize=20, color=:blue) \n",
    "# display(fig)"
   ]
  },
  {
   "cell_type": "markdown",
   "metadata": {},
   "source": [
    "#### Time parameters"
   ]
  },
  {
   "cell_type": "code",
   "execution_count": 116,
   "metadata": {},
   "outputs": [
    {
     "data": {
      "text/plain": [
       "10.0"
      ]
     },
     "metadata": {},
     "output_type": "display_data"
    }
   ],
   "source": [
    "t0 = 0.0    # Start time\n",
    "tF = 28000/2   # End time\n",
    "Δt = 10.0   # Timestep"
   ]
  },
  {
   "cell_type": "markdown",
   "metadata": {},
   "source": [
    "#### Room parameters"
   ]
  },
  {
   "cell_type": "code",
   "execution_count": 117,
   "metadata": {},
   "outputs": [
    {
     "data": {
      "text/plain": [
       "SingleFieldFEFunction():\n",
       " num_cells: 625\n",
       " DomainStyle: ReferenceDomain()\n",
       " Triangulation: BodyFittedTriangulation()\n",
       " Triangulation id: 6100148612406583128"
      ]
     },
     "metadata": {},
     "output_type": "display_data"
    }
   ],
   "source": [
    "timescale = 2\n",
    "h_wall(x) = 0.22*timescale*0.05            # [W/m^2K]\n",
    "h_window(x) = 1.2*timescale*0.05\n",
    "h_door(x) = 1.0*timescale*0.05\n",
    "\n",
    "ρ(x)=1.225\n",
    "c(x)=1020.0\n",
    "k(x)=15*timescale\n",
    "\n",
    "h = (h_wall, h_window, h_door) \n",
    "constants = (c, ρ, k, h) \n",
    "\n",
    "#Toutdoor(x,t)=273.0\n",
    "#Tout(t)=x->Toutdoor(x,t)\n",
    "\n",
    "Tout = get_temp_function(T_out, tF)\n",
    "\n",
    "# price = t->1-χ(t,2,8)\n",
    "\n",
    "Tini(x)=297.0\n",
    "\n",
    "TIni=interpolate_everywhere(Tini, Uspace(t0))\n",
    "Tfin=interpolate_everywhere(297.0, Uspace(tF))"
   ]
  },
  {
   "cell_type": "markdown",
   "metadata": {},
   "source": [
    "#### Controll parameter"
   ]
  },
  {
   "cell_type": "code",
   "execution_count": 118,
   "metadata": {},
   "outputs": [
    {
     "data": {
      "text/plain": [
       "Qt (generic function with 1 method)"
      ]
     },
     "metadata": {},
     "output_type": "display_data"
    }
   ],
   "source": [
    "#q_pos(x) = χ(x[1], 0.21, 1.73) * χ(x[2], 0.13, 0.16)\n",
    "q_pos = heating_elements(heating_elem)\n",
    "Q(x,t)=χ(t,0.0,100.0)*3000.0*q_pos(x)*0.0\n",
    "Qt(t)=x->Q(x,t)"
   ]
  },
  {
   "cell_type": "markdown",
   "metadata": {},
   "source": [
    "#### Solver parameters"
   ]
  },
  {
   "cell_type": "code",
   "execution_count": null,
   "metadata": {},
   "outputs": [
    {
     "data": {
      "text/plain": [
       "Proj (generic function with 2 methods)"
      ]
     },
     "metadata": {},
     "output_type": "display_data"
    }
   ],
   "source": [
    "L2norm(u)=√((tF-t0)*∑(Δt*∑(∫(uu⋅uu)*dΩ) for (t,uu) in u))\n",
    "L2skp(u)=(tF-t0)*∑(Δt*∑(∫(uu⋅uu)*dΩ) for (t,uu) in u)\n",
    "\n",
    "\n",
    "Proj(a,b,z) = min(max(a,z),b)\n",
    "a=0.0\n",
    "b=1000.0*timescale\n",
    "Proj(z) = [(t,FEFunction(Uspace,map(x->Proj(a,b,x), get_free_dof_values(zz)))) for (t,zz) in z]"
   ]
  },
  {
   "cell_type": "markdown",
   "metadata": {},
   "source": [
    "#### Test Gradient DEs"
   ]
  },
  {
   "cell_type": "code",
   "execution_count": null,
   "metadata": {},
   "outputs": [
    {
     "name": "stdout",
     "output_type": "stream",
     "text": [
      "T computed\n",
      "W computed\n",
      "entered for loop, E=4.656579518323541e6, k = 1\n",
      "α = 1, new_cost = 4.656579518323541e6, L2fgrad = 2.2107685777712777e7, interm = 0.0\n",
      "entered for loop, E=2.3671043180023464e6, k = 2\n",
      "α = 1, new_cost = 2.3671043180023464e6, L2fgrad = 1.5762231360335307e7, interm = 0.0\n",
      "entered for loop, E=1.2033124844604237e6, k = 3\n",
      "α = 1, new_cost = 1.2033124844604237e6, L2fgrad = 1.1238127204010606e7, interm = 0.0\n",
      "entered for loop, E=621555.3635615098, k = 4\n",
      "α = 1, new_cost = 621555.3635615098, L2fgrad = 8.0766769213997265e6, interm = 0.0\n",
      "entered for loop, E=335206.92163202993, k = 5\n",
      "α = 1, new_cost = 335206.92163202993, L2fgrad = 5.930933196513598e6, interm = 0.0\n"
     ]
    },
    {
     "data": {
      "text/plain": [
       "(Tuple{Float64, SingleFieldFEFunction{GenericCellField{ReferenceDomain}}}[(0.0, SingleFieldFEFunction()), (10.0, SingleFieldFEFunction()), (20.0, SingleFieldFEFunction()), (30.0, SingleFieldFEFunction()), (40.0, SingleFieldFEFunction()), (50.0, SingleFieldFEFunction()), (60.0, SingleFieldFEFunction()), (70.0, SingleFieldFEFunction()), (80.0, SingleFieldFEFunction()), (90.0, SingleFieldFEFunction())  …  (13910.0, SingleFieldFEFunction()), (13920.0, SingleFieldFEFunction()), (13930.0, SingleFieldFEFunction()), (13940.0, SingleFieldFEFunction()), (13950.0, SingleFieldFEFunction()), (13960.0, SingleFieldFEFunction()), (13970.0, SingleFieldFEFunction()), (13980.0, SingleFieldFEFunction()), (13990.0, SingleFieldFEFunction()), (14000.0, SingleFieldFEFunction())], Tuple{Float64, SingleFieldFEFunction{GenericCellField{ReferenceDomain}}}[(0.0, SingleFieldFEFunction()), (10.0, SingleFieldFEFunction()), (20.0, SingleFieldFEFunction()), (30.0, SingleFieldFEFunction()), (40.0, SingleFieldFEFunction()), (50.0, SingleFieldFEFunction()), (60.0, SingleFieldFEFunction()), (70.0, SingleFieldFEFunction()), (80.0, SingleFieldFEFunction()), (90.0, SingleFieldFEFunction())  …  (13910.0, SingleFieldFEFunction()), (13920.0, SingleFieldFEFunction()), (13930.0, SingleFieldFEFunction()), (13940.0, SingleFieldFEFunction()), (13950.0, SingleFieldFEFunction()), (13960.0, SingleFieldFEFunction()), (13970.0, SingleFieldFEFunction()), (13980.0, SingleFieldFEFunction()), (13990.0, SingleFieldFEFunction()), (14000.0, SingleFieldFEFunction())], Tuple{Float64, SingleFieldFEFunction{GenericCellField{ReferenceDomain}}}[(14000.0, SingleFieldFEFunction()), (13990.0, SingleFieldFEFunction()), (13980.0, SingleFieldFEFunction()), (13970.0, SingleFieldFEFunction()), (13960.0, SingleFieldFEFunction()), (13950.0, SingleFieldFEFunction()), (13940.0, SingleFieldFEFunction()), (13930.0, SingleFieldFEFunction()), (13920.0, SingleFieldFEFunction()), (13910.0, SingleFieldFEFunction())  …  (90.0, SingleFieldFEFunction()), (80.0, SingleFieldFEFunction()), (70.0, SingleFieldFEFunction()), (60.0, SingleFieldFEFunction()), (50.0, SingleFieldFEFunction()), (40.0, SingleFieldFEFunction()), (30.0, SingleFieldFEFunction()), (20.0, SingleFieldFEFunction()), (10.0, SingleFieldFEFunction()), (14000.0, SingleFieldFEFunction())], 185807.98786493184)"
      ]
     },
     "metadata": {},
     "output_type": "display_data"
    }
   ],
   "source": [
    "price = get_price_function(price_NOK, tF, 1/timescale*0.0)\n",
    "γ = 5000.0\n",
    "\n",
    "(Ts,qs,Ws,costs) = GradientDescent(;solveSE=SEsolver, \n",
    "solveAE=AEsolver, \n",
    "spaces=(Trialspace, Testspace, Uspace), \n",
    "dΩ=dΩ, \n",
    "dΓ=(dΓ_w,dΓ_d,dΓ_wall), \n",
    "Q=Qt, \n",
    "J=E, \n",
    "∇f=∇e, \n",
    "P=Proj, \n",
    "s_min=s_min,\n",
    "sminargs=nothing, \n",
    "saveall=false, \n",
    "tol=1e-5, \n",
    "iter_max=5,\n",
    "armijoparas=(ρ=0.1, α_0=1, α_min=1e-5, σ=0.0), \n",
    "Δt=Δt, \n",
    "t0=t0,\n",
    "tF=tF,\n",
    "Tout=Tout,\n",
    "constants=constants,\n",
    "Tfin=Tfin,\n",
    "q_pos=q_pos)"
   ]
  },
  {
   "cell_type": "code",
   "execution_count": 134,
   "metadata": {},
   "outputs": [
    {
     "name": "stdout",
     "output_type": "stream",
     "text": [
      "T computed\n",
      "W computed\n",
      "entered for loop, E=1.862709462269693e13, k = 1\n",
      "α = 0.01, new_cost = 1.862709462269693e13, L2fgrad = 8.843074261750662e13, interm = 0.0\n",
      "α = 0.001, new_cost = 2.979478895391136e14, L2fgrad = 8.843074261750662e13, interm = 0.0\n",
      "α = 0.0001, new_cost = 2.979478895391136e14, L2fgrad = 8.843074261750662e13, interm = 0.0\n",
      "α = 1.0e-5, new_cost = 2.979478895391136e14, L2fgrad = 8.843074261750662e13, interm = 0.0\n",
      "α = 1.0000000000000002e-6, new_cost = 2.6133190326801753e14, L2fgrad = 8.843074261750662e13, interm = 0.0\n",
      "entered for loop, E=1.6657666225131209e13, k = 2\n",
      "α = 0.01, new_cost = 1.6657666225131209e13, L2fgrad = 8.361118733966088e13, interm = 0.0\n",
      "α = 0.001, new_cost = 1.8626318073294164e13, L2fgrad = 8.361118733966088e13, interm = 0.0\n",
      "α = 0.0001, new_cost = 1.8626318073294164e13, L2fgrad = 8.361118733966088e13, interm = 0.0\n",
      "α = 1.0e-5, new_cost = 1.8626318073294164e13, L2fgrad = 8.361118733966088e13, interm = 0.0\n",
      "α = 1.0000000000000002e-6, new_cost = 1.8626318073294164e13, L2fgrad = 8.361118733966088e13, interm = 0.0\n",
      "entered for loop, E=1.1222524849204779e11, k = 3\n",
      "α = 0.01, new_cost = 1.1222524849204779e11, L2fgrad = 6.818732236675878e12, interm = 0.0\n",
      "α = 0.001, new_cost = 2.979478895391136e14, L2fgrad = 6.818732236675878e12, interm = 0.0\n",
      "α = 0.0001, new_cost = 2.979478895391136e14, L2fgrad = 6.818732236675878e12, interm = 0.0\n",
      "α = 1.0e-5, new_cost = 2.16331961860284e14, L2fgrad = 6.818732236675878e12, interm = 0.0\n",
      "α = 1.0000000000000002e-6, new_cost = 1.1331040389891729e13, L2fgrad = 6.818732236675878e12, interm = 0.0\n"
     ]
    },
    {
     "data": {
      "text/plain": [
       "(Tuple{Float64, SingleFieldFEFunction{GenericCellField{ReferenceDomain}}}[(0.0, SingleFieldFEFunction()), (10.0, SingleFieldFEFunction()), (20.0, SingleFieldFEFunction()), (30.0, SingleFieldFEFunction()), (40.0, SingleFieldFEFunction()), (50.0, SingleFieldFEFunction()), (60.0, SingleFieldFEFunction()), (70.0, SingleFieldFEFunction()), (80.0, SingleFieldFEFunction()), (90.0, SingleFieldFEFunction())  …  (13910.0, SingleFieldFEFunction()), (13920.0, SingleFieldFEFunction()), (13930.0, SingleFieldFEFunction()), (13940.0, SingleFieldFEFunction()), (13950.0, SingleFieldFEFunction()), (13960.0, SingleFieldFEFunction()), (13970.0, SingleFieldFEFunction()), (13980.0, SingleFieldFEFunction()), (13990.0, SingleFieldFEFunction()), (14000.0, SingleFieldFEFunction())], Tuple{Float64, SingleFieldFEFunction{GenericCellField{ReferenceDomain}}}[(0.0, SingleFieldFEFunction()), (10.0, SingleFieldFEFunction()), (20.0, SingleFieldFEFunction()), (30.0, SingleFieldFEFunction()), (40.0, SingleFieldFEFunction()), (50.0, SingleFieldFEFunction()), (60.0, SingleFieldFEFunction()), (70.0, SingleFieldFEFunction()), (80.0, SingleFieldFEFunction()), (90.0, SingleFieldFEFunction())  …  (13910.0, SingleFieldFEFunction()), (13920.0, SingleFieldFEFunction()), (13930.0, SingleFieldFEFunction()), (13940.0, SingleFieldFEFunction()), (13950.0, SingleFieldFEFunction()), (13960.0, SingleFieldFEFunction()), (13970.0, SingleFieldFEFunction()), (13980.0, SingleFieldFEFunction()), (13990.0, SingleFieldFEFunction()), (14000.0, SingleFieldFEFunction())], Tuple{Float64, SingleFieldFEFunction{GenericCellField{ReferenceDomain}}}[(14000.0, SingleFieldFEFunction()), (13990.0, SingleFieldFEFunction()), (13980.0, SingleFieldFEFunction()), (13970.0, SingleFieldFEFunction()), (13960.0, SingleFieldFEFunction()), (13950.0, SingleFieldFEFunction()), (13940.0, SingleFieldFEFunction()), (13930.0, SingleFieldFEFunction()), (13920.0, SingleFieldFEFunction()), (13910.0, SingleFieldFEFunction())  …  (90.0, SingleFieldFEFunction()), (80.0, SingleFieldFEFunction()), (70.0, SingleFieldFEFunction()), (60.0, SingleFieldFEFunction()), (50.0, SingleFieldFEFunction()), (40.0, SingleFieldFEFunction()), (30.0, SingleFieldFEFunction()), (20.0, SingleFieldFEFunction()), (10.0, SingleFieldFEFunction()), (14000.0, SingleFieldFEFunction())], 4.111381983193146e9)"
      ]
     },
     "metadata": {},
     "output_type": "display_data"
    }
   ],
   "source": [
    "price = get_price_function(price_NOK, tF, 1/timescale*10)\n",
    "γ = 1e10\n",
    "\n",
    "(Ts,qs,Ws,costs) = GradientDescent(;solveSE=SEsolver, \n",
    "solveAE=AEsolver, \n",
    "spaces=(Trialspace, Testspace, Uspace), \n",
    "dΩ=dΩ, \n",
    "dΓ=(dΓ_w,dΓ_d,dΓ_wall), \n",
    "Q=qs, \n",
    "J=E, \n",
    "∇f=∇e, \n",
    "P=Proj, \n",
    "s_min=s_min,\n",
    "sminargs=nothing, \n",
    "saveall=false, \n",
    "tol=1e-5, \n",
    "iter_max=3,\n",
    "armijoparas=(ρ=0.1, α_0=0.001, α_min=1e-7, σ=0.0), \n",
    "Δt=Δt, \n",
    "t0=t0,\n",
    "tF=tF,\n",
    "Tout=Tout,\n",
    "constants=constants,\n",
    "Tfin=Tfin,\n",
    "q_pos=q_pos)"
   ]
  },
  {
   "cell_type": "code",
   "execution_count": null,
   "metadata": {},
   "outputs": [
    {
     "name": "stdout",
     "output_type": "stream",
     "text": [
      "T computed\n",
      "W computed\n",
      "entered for loop, E=1.862703172503071e13, k = 1\n",
      "α = 0.001, new_cost = 1.862703172503071e13, L2fgrad = 8.843074269550086e13, interm = 0.0\n",
      "α = 0.0001, new_cost = 2.979478895391136e14, L2fgrad = 8.843074269550086e13, interm = 0.0\n",
      "α = 1.0e-5, new_cost = 2.979478895391136e14, L2fgrad = 8.843074269550086e13, interm = 0.0\n",
      "α = 1.0000000000000002e-6, new_cost = 2.633847301631295e14, L2fgrad = 8.843074269550086e13, interm = 0.0\n",
      "α = 1.0000000000000002e-7, new_cost = 1.9743522262079258e13, L2fgrad = 8.843074269550086e13, interm = 0.0\n",
      "entered for loop, E=2.986684957966273e11, k = 2\n",
      "α = 0.001, new_cost = 2.986684957966273e11, L2fgrad = 1.1158866731567521e13, interm = 0.0\n",
      "α = 0.0001, new_cost = 1.8626318073294164e13, L2fgrad = 1.1158866731567521e13, interm = 0.0\n",
      "α = 1.0e-5, new_cost = 1.8626318073294164e13, L2fgrad = 1.1158866731567521e13, interm = 0.0\n",
      "α = 1.0000000000000002e-6, new_cost = 1.5725421478677363e13, L2fgrad = 1.1158866731567521e13, interm = 0.0\n",
      "entered for loop, E=8.138245660560214e9, k = 3\n",
      "α = 0.001, new_cost = 8.138245660560214e9, L2fgrad = 1.6568555769292017e12, interm = 0.0\n",
      "α = 0.0001, new_cost = 2.956120552495979e14, L2fgrad = 1.6568555769292017e12, interm = 0.0\n",
      "α = 1.0e-5, new_cost = 4.260417612234306e13, L2fgrad = 1.6568555769292017e12, interm = 0.0\n",
      "α = 1.0000000000000002e-6, new_cost = 7.17314353795457e11, L2fgrad = 1.6568555769292017e12, interm = 0.0\n",
      "entered for loop, E=1.784394437934019e9, k = 4\n"
     ]
    }
   ],
   "source": [
    "price = get_price_function(price_NOK, tF, 1/timescale*10)\n",
    "γ = 1e10\n",
    "\n",
    "(Ts,qs,Ws,costs) = GradientDescent(;solveSE=SEsolver, \n",
    "solveAE=AEsolver, \n",
    "spaces=(Trialspace, Testspace, Uspace), \n",
    "dΩ=dΩ, \n",
    "dΓ=(dΓ_w,dΓ_d,dΓ_wall), \n",
    "Q=qs, \n",
    "J=E, \n",
    "∇f=∇e, \n",
    "P=Proj, \n",
    "s_min=s_min,\n",
    "sminargs=nothing, \n",
    "saveall=false, \n",
    "tol=1e-5, \n",
    "iter_max=10,\n",
    "armijoparas=(ρ=0.1, α_0=0.001, α_min=1e-7, σ=0.0), \n",
    "Δt=Δt, \n",
    "t0=t0,\n",
    "tF=tF,\n",
    "Tout=Tout,\n",
    "constants=constants,\n",
    "Tfin=Tfin,\n",
    "q_pos=q_pos)"
   ]
  },
  {
   "cell_type": "code",
   "execution_count": null,
   "metadata": {},
   "outputs": [],
   "source": [
    "# Opprett en mappe for midlertidige filer hvis den ikke eksisterer\n",
    "if !isdir(\"tmp\")\n",
    "    mkdir(\"tmp\")\n",
    "end\n",
    "\n",
    "# Initialtilstanden og resten av tidsløsningene\n",
    "# uh0 = solution[1][2]  # Første element er (t0, T0), vi henter T0\n",
    "# uh  = solution[2:end]  # De resterende løsningene\n",
    "\n",
    "\n",
    "uh = Ts\n",
    "# Lagre resultater i Paraview-format (VTK)\n",
    "createpvd(\"results\") do pvd\n",
    "    # Første løsning (t=0)\n",
    "    # pvd[0] = createvtk(Ω, \"tmp/results_0.vtu\", cellfields=[\"u\" => uh0])\n",
    "\n",
    "    # Lagrer løsninger for hver tidssteg\n",
    "    for (tn, uhn) in uh\n",
    "        pvd[tn] = createvtk(Ω, \"tmp/results_$tn.vtu\", cellfields=[\"u\" => uhn])\n",
    "    end\n",
    "end\n"
   ]
  },
  {
   "cell_type": "code",
   "execution_count": null,
   "metadata": {},
   "outputs": [],
   "source": [
    "T = get_temperature_int(Ts, width, height)\n",
    "q = get_control_int(qs)\n",
    "result_plot()"
   ]
  }
 ],
 "metadata": {
  "kernelspec": {
   "display_name": "Julia 1.11.3",
   "language": "julia",
   "name": "julia-1.11"
  },
  "language_info": {
   "file_extension": ".jl",
   "mimetype": "application/julia",
   "name": "julia",
   "version": "1.11.3"
  }
 },
 "nbformat": 4,
 "nbformat_minor": 2
}
