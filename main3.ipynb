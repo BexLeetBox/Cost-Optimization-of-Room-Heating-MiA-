{
 "cells": [
  {
   "cell_type": "markdown",
   "metadata": {},
   "source": [
    "#### Import Julia packages"
   ]
  },
  {
   "cell_type": "code",
   "execution_count": null,
   "metadata": {},
   "outputs": [],
   "source": [
    "# import Pkg\n",
    "# Pkg.add(\"JSON3\")\n",
    "# Pkg.add(\"Interpolations\")"
   ]
  },
  {
   "cell_type": "code",
   "execution_count": 1,
   "metadata": {},
   "outputs": [],
   "source": [
    "using Gridap\n",
    "using GridapMakie, CairoMakie, FileIO\n",
    "using Gridap.FESpaces\n",
    "using Gridap.ReferenceFEs\n",
    "using Gridap.Arrays\n",
    "using Gridap.Algebra\n",
    "using Gridap.Geometry\n",
    "using Gridap.Fields\n",
    "using Gridap.CellData\n",
    "using FillArrays\n",
    "using Test\n",
    "using InteractiveUtils\n",
    "using PyPlot\n",
    "using JSON3\n",
    "using Dates\n",
    "using Makie\n",
    "# using Interpolations"
   ]
  },
  {
   "cell_type": "markdown",
   "metadata": {},
   "source": [
    "#### Import Custom functions"
   ]
  },
  {
   "cell_type": "code",
   "execution_count": 2,
   "metadata": {},
   "outputs": [
    {
     "data": {
      "text/plain": [
       "get_control_int (generic function with 1 method)"
      ]
     },
     "metadata": {},
     "output_type": "display_data"
    }
   ],
   "source": [
    "include(\"Julia_functions/indicator_chi.jl\")\n",
    "include(\"Julia_functions/cost_fun.jl\")\n",
    "include(\"Julia_functions/gradient_descent.jl\")\n",
    "include(\"Julia_functions/solvers.jl\")\n",
    "include(\"Julia_functions/find.jl\")\n",
    "include(\"Julia_functions/res_plot.jl\")\n",
    "include(\"Julia_functions/get_domain.jl\")\n",
    "include(\"Julia_functions/get_price_temp.jl\")\n",
    "include(\"Julia_functions/post_processing.jl\")"
   ]
  },
  {
   "cell_type": "markdown",
   "metadata": {},
   "source": [
    "#### Read JSON File"
   ]
  },
  {
   "cell_type": "code",
   "execution_count": 3,
   "metadata": {},
   "outputs": [
    {
     "data": {
      "text/plain": [
       "(5, 3, Any[(0.75125, 2.32125, \"Left\"), (0.73125, 2.32125, \"Right\")], Any[(0.235, 0.655, \"Top\")], [[2.005, 3.435, 0.10125, 0.20125], [1.765, 3.215, 2.80125, 2.92125]])"
      ]
     },
     "metadata": {},
     "output_type": "display_data"
    }
   ],
   "source": [
    "width, height, windows, doors, heating_elem = get_room(\"Boundary.json\")"
   ]
  },
  {
   "cell_type": "code",
   "execution_count": 4,
   "metadata": {},
   "outputs": [
    {
     "data": {
      "text/plain": [
       "(Any[0.11781, 0.11106, 0.10592, 0.10341, 0.10836, 0.10655, 0.16935, 0.43496, 0.39644], Any[1.38209, 1.3029, 1.2426, 1.21315, 1.27123, 1.24999, 1.98673, 5.10273, 4.65084], Any[282.15, 282.34999999999997, 282.25, 282.34999999999997, 282.15, 281.45, 280.65, 280.84999999999997, 280.75], Any[10, 11, 12, 13, 14, 15, 16, 17, 18])"
      ]
     },
     "metadata": {},
     "output_type": "display_data"
    }
   ],
   "source": [
    "# price_EUR, price_NOK, T_out, hour_lst = get_price_temp(\"WeatherandEnergy.json\")\n",
    "price_EUR, price_NOK, T_out, hour_lst = get_price_temp(\"WeatherandEnergy.json\")"
   ]
  },
  {
   "cell_type": "markdown",
   "metadata": {},
   "source": [
    "#### Boundary conditions"
   ]
  },
  {
   "cell_type": "code",
   "execution_count": 5,
   "metadata": {},
   "outputs": [
    {
     "data": {
      "text/plain": [
       "f_Γ_wall (generic function with 1 method)"
      ]
     },
     "metadata": {},
     "output_type": "display_data"
    }
   ],
   "source": [
    "f_Γ_w = generate_f_Γ(windows, width, height)\n",
    "f_Γ_d = generate_f_Γ(doors, width, height)\n",
    "f_Γ_wall(x) = !(f_Γ_w(x) || f_Γ_d(x))"
   ]
  },
  {
   "cell_type": "markdown",
   "metadata": {},
   "source": [
    "#### Domain & Discretization"
   ]
  },
  {
   "cell_type": "code",
   "execution_count": 6,
   "metadata": {},
   "outputs": [
    {
     "data": {
      "text/plain": [
       "UnconstrainedFESpace()"
      ]
     },
     "metadata": {},
     "output_type": "display_data"
    }
   ],
   "source": [
    "domain = (0, width , 0, height)\n",
    "partition = (25,25)\n",
    "model = CartesianDiscreteModel(domain,partition)\n",
    "update_labels!(1, model, f_Γ_w, \"window\")\n",
    "update_labels!(2, model, f_Γ_d, \"door\")\n",
    "update_labels!(3, model, f_Γ_wall, \"wall\")\n",
    "\n",
    "order = 1\n",
    "degree = 2*order\n",
    "\n",
    "Ω = Triangulation(model)\n",
    "dΩ = Measure(Ω, degree)\n",
    "\n",
    "Γ_w = BoundaryTriangulation(model, tags=\"window\")\n",
    "dΓ_w = Measure(Γ_w, degree)\n",
    "\n",
    "Γ_d = BoundaryTriangulation(model, tags=\"door\")\n",
    "dΓ_d = Measure(Γ_d, degree)\n",
    "\n",
    "Γ_wall = BoundaryTriangulation(model, tags=\"wall\")\n",
    "dΓ_wall = Measure(Γ_wall, degree)\n",
    "\n",
    "reffe = ReferenceFE(lagrangian,Float64,order)\n",
    "Testspace = TestFESpace(model,reffe,conformity=:H1)                         \n",
    "Trialspace = TransientTrialFESpace(Testspace)                                \n",
    "Uspace = FESpace(model, reffe, conformity=:H1)\n",
    "\n",
    "# fig = CairoMakie.plot(Ω)\n",
    "# scatter!(Ω, marker=:circle, markersize=20, color=:blue) \n",
    "# display(fig)"
   ]
  },
  {
   "cell_type": "markdown",
   "metadata": {},
   "source": [
    "#### Time parameters"
   ]
  },
  {
   "cell_type": "code",
   "execution_count": 7,
   "metadata": {},
   "outputs": [
    {
     "data": {
      "text/plain": [
       "10"
      ]
     },
     "metadata": {},
     "output_type": "display_data"
    }
   ],
   "source": [
    "t0 = 0.0    # Start time\n",
    "tF = 28800   # End time\n",
    "Δt = 10"
   ]
  },
  {
   "cell_type": "markdown",
   "metadata": {},
   "source": [
    "#### Room parameters"
   ]
  },
  {
   "cell_type": "code",
   "execution_count": 8,
   "metadata": {},
   "outputs": [
    {
     "data": {
      "text/plain": [
       "SingleFieldFEFunction():\n",
       " num_cells: 625\n",
       " DomainStyle: ReferenceDomain()\n",
       " Triangulation: BodyFittedTriangulation()\n",
       " Triangulation id: 72839904782225152"
      ]
     },
     "metadata": {},
     "output_type": "display_data"
    }
   ],
   "source": [
    "h_wall(x) = 0.22*0.02           # [W/m^2K]\n",
    "h_window(x) = 1.2*0.02\n",
    "h_door(x) = 1.0*0.02 #mindre?\n",
    "\n",
    "ρ(x)=1.225\n",
    "c(x)=1020.0\n",
    "k(x)=5#3.5\n",
    "\n",
    "\n",
    "h = (h_wall, h_window, h_door) \n",
    "constants = (c, ρ, k, h) \n",
    "\n",
    "\n",
    "Tout = get_temp_function(T_out, tF)\n",
    "\n",
    "Tini(x)=273.15 + 22.0\n",
    "\n",
    "TIni=interpolate_everywhere(Tini, Uspace(t0))\n",
    "Tfin=interpolate_everywhere(Tini, Uspace(tF))"
   ]
  },
  {
   "cell_type": "markdown",
   "metadata": {},
   "source": [
    "#### Controll parameter"
   ]
  },
  {
   "cell_type": "code",
   "execution_count": 9,
   "metadata": {},
   "outputs": [
    {
     "data": {
      "text/plain": [
       "Qt (generic function with 1 method)"
      ]
     },
     "metadata": {},
     "output_type": "display_data"
    }
   ],
   "source": [
    "q_pos = heating_elements(heating_elem)\n",
    "\n",
    "Q(x,t)=0\n",
    "Qt(t)=x->Q(x,t)"
   ]
  },
  {
   "cell_type": "markdown",
   "metadata": {},
   "source": [
    "#### Solver parameters"
   ]
  },
  {
   "cell_type": "code",
   "execution_count": 14,
   "metadata": {},
   "outputs": [
    {
     "name": "stdout",
     "output_type": "stream",
     "text": [
      "100.79999999999991\n"
     ]
    },
    {
     "data": {
      "text/plain": [
       "Proj (generic function with 2 methods)"
      ]
     },
     "metadata": {},
     "output_type": "display_data"
    }
   ],
   "source": [
    "L2norm(u)=√(Δt*((∑(∫(u[1][2]⋅u[1][2])*dΩ)+∑(∫(u[end][2]⋅u[end][2])*dΩ))/2 + ∑(∑(∫(u[k][2]⋅u[k][2])*dΩ) for k=2:length(u)-1)))\n",
    "L2skp(u)=Δt*((∑(∫(u[1][2]⋅u[1][2])*dΩ)+∑(∫(u[end][2]⋅u[end][2])*dΩ))/2 + ∑(∑(∫(u[k][2]⋅u[k][2])*dΩ) for k=2:length(u)-1))\n",
    "get_control_int(qs) = [∑(∫(u)*dΩ) for (t,u) in qs] ./ ∑(∫(q_pos)*dΩ)\n",
    "get_temperature_int(Ts) = [∑(∫(temp)*dΩ) for (t,temp) in Ts] ./ ∑(∫(1)*dΩ)\n",
    "\n",
    "\n",
    "Proj(a,b,z) = min(max(a,z),b)\n",
    "a=0.0\n",
    "b=400*(∑(∫(q_pos)*dΩ))\n",
    "println(b)\n",
    "Proj(z) = [(t,FEFunction(Uspace,map(x->Proj(a,b,x), get_free_dof_values(zz)))) for (t,zz) in z]"
   ]
  },
  {
   "cell_type": "markdown",
   "metadata": {},
   "source": [
    "#### Test Gradient DEs"
   ]
  },
  {
   "cell_type": "code",
   "execution_count": 15,
   "metadata": {},
   "outputs": [
    {
     "name": "stdout",
     "output_type": "stream",
     "text": [
      "T computed\n",
      "W computed\n",
      "entered for loop, E=1.0206448244085511e6, k = 1\n",
      "α = 10, new_cost = 650139.5368795452, L2fgrad = 3910.3730253480253, interm = 0.0\n",
      "entered for loop, E=650139.5368795452, k = 2\n",
      "α = 10, new_cost = 416904.2188409222, L2fgrad = 3116.3977715302926, interm = 0.0\n"
     ]
    },
    {
     "data": {
      "text/plain": [
       "(Tuple{Float64, SingleFieldFEFunction{GenericCellField{ReferenceDomain}}}[(0.0, SingleFieldFEFunction()), (10.0, SingleFieldFEFunction()), (20.0, SingleFieldFEFunction()), (30.0, SingleFieldFEFunction()), (40.0, SingleFieldFEFunction()), (50.0, SingleFieldFEFunction()), (60.0, SingleFieldFEFunction()), (70.0, SingleFieldFEFunction()), (80.0, SingleFieldFEFunction()), (90.0, SingleFieldFEFunction())  …  (28710.0, SingleFieldFEFunction()), (28720.0, SingleFieldFEFunction()), (28730.0, SingleFieldFEFunction()), (28740.0, SingleFieldFEFunction()), (28750.0, SingleFieldFEFunction()), (28760.0, SingleFieldFEFunction()), (28770.0, SingleFieldFEFunction()), (28780.0, SingleFieldFEFunction()), (28790.0, SingleFieldFEFunction()), (28800.0, SingleFieldFEFunction())], Tuple{Float64, SingleFieldFEFunction{GenericCellField{ReferenceDomain}}}[(0.0, SingleFieldFEFunction()), (10.0, SingleFieldFEFunction()), (20.0, SingleFieldFEFunction()), (30.0, SingleFieldFEFunction()), (40.0, SingleFieldFEFunction()), (50.0, SingleFieldFEFunction()), (60.0, SingleFieldFEFunction()), (70.0, SingleFieldFEFunction()), (80.0, SingleFieldFEFunction()), (90.0, SingleFieldFEFunction())  …  (28710.0, SingleFieldFEFunction()), (28720.0, SingleFieldFEFunction()), (28730.0, SingleFieldFEFunction()), (28740.0, SingleFieldFEFunction()), (28750.0, SingleFieldFEFunction()), (28760.0, SingleFieldFEFunction()), (28770.0, SingleFieldFEFunction()), (28780.0, SingleFieldFEFunction()), (28790.0, SingleFieldFEFunction()), (28800.0, SingleFieldFEFunction())], Tuple{Real, SingleFieldFEFunction{GenericCellField{ReferenceDomain}}}[(0.0, SingleFieldFEFunction()), (10.0, SingleFieldFEFunction()), (20.0, SingleFieldFEFunction()), (30.0, SingleFieldFEFunction()), (40.0, SingleFieldFEFunction()), (50.0, SingleFieldFEFunction()), (60.0, SingleFieldFEFunction()), (70.0, SingleFieldFEFunction()), (80.0, SingleFieldFEFunction()), (90.0, SingleFieldFEFunction())  …  (28710.0, SingleFieldFEFunction()), (28720.0, SingleFieldFEFunction()), (28730.0, SingleFieldFEFunction()), (28740.0, SingleFieldFEFunction()), (28750.0, SingleFieldFEFunction()), (28760.0, SingleFieldFEFunction()), (28770.0, SingleFieldFEFunction()), (28780.0, SingleFieldFEFunction()), (28790.0, SingleFieldFEFunction()), (28800, SingleFieldFEFunction())], [1.0206448244085511e6, 650139.5368795452, 416904.2188409222])"
      ]
     },
     "metadata": {},
     "output_type": "display_data"
    }
   ],
   "source": [
    "price = t -> 0\n",
    "\n",
    "γ = 1.225*1020\n",
    "Q(x,t)= 0\n",
    "Qt(t)=x->Q(x,t)\n",
    "\n",
    "(Ts,qs,Ws,costs) = GradientDescent(;solveSE=SEsolver, \n",
    "solveAE=AEsolver, \n",
    "spaces=(Trialspace, Testspace, Uspace), \n",
    "dΩ=dΩ, \n",
    "dΓ=(dΓ_w,dΓ_d,dΓ_wall), \n",
    "Q=Qt, \n",
    "J=E, \n",
    "∇f=∇e, \n",
    "P=Proj, \n",
    "s_min=s_min,\n",
    "sminargs=nothing, \n",
    "saveall=false, \n",
    "tol=1e-5, \n",
    "iter_max=2,\n",
    "armijoparas=(ρ=0.5, α_0=10, α_min=1e-3, σ=0.0), \n",
    "Δt=Δt, \n",
    "t0=t0,\n",
    "tF=tF,\n",
    "Tout=Tout,\n",
    "constants=constants,\n",
    "Tfin=Tfin,\n",
    "q_pos=q_pos)"
   ]
  },
  {
   "cell_type": "code",
   "execution_count": 12,
   "metadata": {},
   "outputs": [],
   "source": [
    "# price = t -> 0\n",
    "# c1_zero = (plot_costs2(costs))\n",
    "# CairoMakie.save(\"price_zero_convergence.png\", c1_zero)\n",
    "\n",
    "\n",
    "# Q_int = get_control_int(qs)\n",
    "# T_int = get_temperature_int(Ts)\n",
    "# c2_zero = result_plot2(;T_int,Q_int,t0,tF,hour_lst,price_NOK,T_out)\n",
    "# CairoMakie.save(\"price_zero_result.png\", c2_zero)"
   ]
  },
  {
   "cell_type": "code",
   "execution_count": null,
   "metadata": {},
   "outputs": [],
   "source": [
    "price = t -> 0.4 + χ(t,-1,3000)*2 + χ(t,10000,15000)*2 + χ(t,23000,28800+1)*2\n",
    "γ = 1.225*1020*2\n",
    "\n",
    "(Ts2,qs2,Ws2,costs2) = GradientDescent(;solveSE=SEsolver, \n",
    "solveAE=AEsolver, \n",
    "spaces=(Trialspace, Testspace, Uspace), \n",
    "dΩ=dΩ, \n",
    "dΓ=(dΓ_w,dΓ_d,dΓ_wall), \n",
    "Q=Qt, \n",
    "J=E, \n",
    "∇f=∇e, \n",
    "P=Proj, \n",
    "s_min=s_min,\n",
    "sminargs=nothing, \n",
    "saveall=false, \n",
    "tol=1e-5, \n",
    "iter_max=100,\n",
    "armijoparas=(ρ=0.5, α_0=10.0, α_min=1e-4, σ=0.0), \n",
    "Δt=Δt, \n",
    "t0=t0,\n",
    "tF=tF,\n",
    "Tout=Tout,\n",
    "constants=constants,\n",
    "Tfin=Tfin,\n",
    "q_pos=q_pos)"
   ]
  },
  {
   "cell_type": "code",
   "execution_count": null,
   "metadata": {},
   "outputs": [],
   "source": [
    "price = t -> 0.4 + χ(t,-1,3000)*2 + χ(t,10000,15000)*2 + χ(t,23000,28800+1)*2\n",
    "\n",
    "# c1_step = (plot_costs(costs2))\n",
    "c1_step = (plot_costs2(costs2))\n",
    "\n",
    "CairoMakie.save(\"price_step_convergence.png\", c1_step)\n",
    "\n",
    "\n",
    "Q_int = get_control_int(qs2)\n",
    "T_int = get_temperature_int(Ts2)\n",
    "c2_step = result_plot2(;T_int,Q_int,t0,tF,hour_lst,price_NOK,T_out)\n",
    "CairoMakie.save(\"price_step_result.png\", c2_step)\n",
    "\n"
   ]
  },
  {
   "cell_type": "code",
   "execution_count": null,
   "metadata": {},
   "outputs": [],
   "source": [
    "price = get_price_function(price_NOK, tF, 1)\n",
    "γ = 1.225*1020*3\n",
    "\n",
    "(Ts3,qs3,Ws3,costs3) = GradientDescent(;solveSE=SEsolver, \n",
    "solveAE=AEsolver, \n",
    "spaces=(Trialspace, Testspace, Uspace), \n",
    "dΩ=dΩ, \n",
    "dΓ=(dΓ_w,dΓ_d,dΓ_wall), \n",
    "Q=Qt, \n",
    "J=E, \n",
    "∇f=∇e, \n",
    "P=Proj, \n",
    "s_min=s_min,\n",
    "sminargs=nothing, \n",
    "saveall=false, \n",
    "tol=1e-5, \n",
    "iter_max=100,\n",
    "armijoparas=(ρ=0.5, α_0=10, α_min=1e-4, σ=0.0), \n",
    "Δt=Δt, \n",
    "t0=t0,\n",
    "tF=tF,\n",
    "Tout=Tout,\n",
    "constants=constants,\n",
    "Tfin=Tfin,\n",
    "q_pos=q_pos)"
   ]
  },
  {
   "cell_type": "code",
   "execution_count": null,
   "metadata": {},
   "outputs": [],
   "source": [
    "price = get_price_function(price_NOK, tF, 1)\n",
    "\n",
    "# c1_real = (plot_costs(costs3))\n",
    "c1_real = (plot_costs2(costs3))\n",
    "\n",
    "CairoMakie.save(\"price_real_convergence.png\", c1_real)\n",
    "\n",
    "Q_int = get_control_int(qs3)\n",
    "T_int = get_temperature_int(Ts3)\n",
    "c2_real = result_plot2(;T_int,Q_int,t0,tF,hour_lst,price_NOK,T_out)\n",
    "CairoMakie.save(\"price_real_result.png\", c2_real)\n"
   ]
  },
  {
   "cell_type": "code",
   "execution_count": null,
   "metadata": {},
   "outputs": [],
   "source": [
    "price = t -> 1\n",
    "γ = 1.225*1020*2\n",
    "\n",
    "(Ts4,qs4,Ws4,costs4) = GradientDescent(;solveSE=SEsolver, \n",
    "solveAE=AEsolver, \n",
    "spaces=(Trialspace, Testspace, Uspace), \n",
    "dΩ=dΩ, \n",
    "dΓ=(dΓ_w,dΓ_d,dΓ_wall), \n",
    "Q=Qt, \n",
    "J=E, \n",
    "∇f=∇e, \n",
    "P=Proj, \n",
    "s_min=s_min,\n",
    "sminargs=nothing, \n",
    "saveall=false, \n",
    "tol=1e-5, \n",
    "iter_max=100,\n",
    "armijoparas=(ρ=0.5, α_0=20, α_min=1e-5, σ=0.0), \n",
    "Δt=Δt, \n",
    "t0=t0,\n",
    "tF=tF,\n",
    "Tout=Tout,\n",
    "constants=constants,\n",
    "Tfin=Tfin,\n",
    "q_pos=q_pos)"
   ]
  },
  {
   "cell_type": "code",
   "execution_count": null,
   "metadata": {},
   "outputs": [],
   "source": [
    "price = t -> 1\n",
    "\n",
    "# c1_const = (plot_costs(costs4))\n",
    "c1_const = (plot_costs2(costs4))\n",
    "\n",
    "CairoMakie.save(\"price_const_convergence.png\", c1_const)\n",
    "\n",
    "Q_int = get_control_int(qs4)\n",
    "T_int = get_temperature_int(Ts4)\n",
    "c2_const = result_plot2(;T_int,Q_int,t0,tF,hour_lst,price_NOK,T_out)\n",
    "CairoMakie.save(\"price_const_result.png\", c2_const)\n"
   ]
  },
  {
   "cell_type": "code",
   "execution_count": null,
   "metadata": {},
   "outputs": [],
   "source": [
    "# # Opprett en mappe for midlertidige filer hvis den ikke eksisterer\n",
    "# if !isdir(\"tmp\")\n",
    "#     mkdir(\"tmp\")\n",
    "# end\n",
    "\n",
    "# # Initialtilstanden og resten av tidsløsningene\n",
    "# # uh0 = solution[1][2]  # Første element er (t0, T0), vi henter T0\n",
    "# # uh  = solution[2:end]  # De resterende løsningene\n",
    "\n",
    "\n",
    "# uh = Ts3\n",
    "# # Lagre resultater i Paraview-format (VTK)\n",
    "# createpvd(\"resultsOutisde\") do pvd\n",
    "#     # Første løsning (t=0)\n",
    "#     # pvd[0] = createvtk(Ω, \"tmp/results_0.vtu\", cellfields=[\"u\" => uh0])\n",
    "\n",
    "#     # Lagrer løsninger for hver tidssteg\n",
    "#     count = 0\n",
    "#     for (tn, uhn) in uh\n",
    "#         if count%6 == 0\n",
    "#             pvd[tn] = createvtk(Ω, \"tmp/results_$count.vtu\", cellfields=[\"u\" => uhn])\n",
    "#         end\n",
    "#         count+=1\n",
    "#     end\n",
    "# end\n"
   ]
  },
  {
   "cell_type": "code",
   "execution_count": 13,
   "metadata": {},
   "outputs": [
    {
     "ename": "UndefVarError",
     "evalue": "UndefVarError: `qs2` not defined in `Main`\nSuggestion: check for spelling errors or missing imports.",
     "output_type": "error",
     "traceback": [
      "UndefVarError: `qs2` not defined in `Main`\n",
      "Suggestion: check for spelling errors or missing imports.\n",
      "\n",
      "Stacktrace:\n",
      " [1] top-level scope\n",
      "   @ c:\\Users\\henni\\OneDrive\\Dokumenter\\GitHub\\Cost-Optimization-of-Room-Heating-MiA-\\jl_notebook_cell_df34fa98e69747e1a8f8a730347b8e2f_X43sZmlsZQ==.jl:14"
     ]
    }
   ],
   "source": [
    "get_control_int(qs) = [∑(∫(u)*dΩ) for (t,u) in qs] ./ ∑(∫(q_pos)*dΩ)\n",
    "get_temperature_int(Ts) = [∑(∫(temp)*dΩ) for (t,temp) in Ts] ./ ∑(∫(1)*dΩ)\n",
    "\n",
    "\n",
    "function real_price(qs,price)\n",
    "    price = 0\n",
    "    for (t,QQ) in qs\n",
    "        price += Δt*price(t)*∑(∫(QQ)*dΩ)/3600/1000\n",
    "    end\n",
    "    return price\n",
    "end\n",
    "\n",
    "price = get_price_function(price_NOK, tF, 1)\n",
    "println(real_price(qs2,price))\n",
    "println(get_temperature_int(Ts2-Tfin))\n",
    "\n",
    "\n",
    "function result_plot(;T_int, Q_int, t0, tF, hour_lst, price_NOK, T_out)\n",
    "    time = LinRange(t0, tF, length(T_int))\n",
    "\n",
    "    fig = CairoMakie.Figure(size=(600,900))\n",
    "\n",
    "    ax = CairoMakie.Axis(fig[1,1], title=\"Temperature profile\", xlabel=\"Time (hours)\", ylabel=\"Temperature (°C)\")\n",
    "    lines!(ax, time, T_int, color=:green) #label=\"Temp\"\n",
    "\n",
    "    ax=CairoMakie.Axis(fig[2,1], title=\"Optimal Heating Schedule\", xlabel=\"Time (hours)\", ylabel=\"Heating Output (W)\")  \n",
    "    lines!(ax, time, Q_int, color=:red)\n",
    "\n",
    "    ax=CairoMakie.Axis(fig[3,1], title=\"Energy price over time\", xlabel=\"Time (hours)\", ylabel=\"Price (NOK)\")\n",
    "    lines!(ax, hour_lst, price_NOK, color=:blue)\n",
    "\n",
    "    ax=CairoMakie.Axis(fig[4,1], title=\"Outside Temperature over time\", xlabel=\"Time (hours)\", ylabel=\"Temperature (°C)\")\n",
    "    lines!(ax, hour_lst, T_out, color=:orange)\n",
    "\n",
    "    return fig\n",
    "end\n",
    "\n",
    "function result_plot2(; T_int, Q_int, t0, tF, hour_lst, price_NOK, T_out)\n",
    "    # time = LinRange(t0, tF, length(T_int))\n",
    "    time = LinRange(t0, tF, length(T_int)) ./ 3600  # convert from seconds to hours\n",
    "    time2 = LinRange(t0, tF, length(T_int))\n",
    "\n",
    "    \n",
    "    time_price = [price(t) for t in time2]\n",
    "\n",
    "    fig = CairoMakie.Figure(size=(600, 900), figure_padding=(0, 5, 0, 5))\n",
    "\n",
    "    # Formatter for temperature axis (Kelvin to Celsius)\n",
    "    temp_formatter = v -> [\"$(round(vi - 273.15, digits=1))\" for vi in v]\n",
    "\n",
    "    # Temperature profile\n",
    "    ax = CairoMakie.Axis(\n",
    "        fig[1, 1],\n",
    "        title = \"Temperature profile\",\n",
    "        xlabel = \"Time (hours)\",\n",
    "        ylabel = \"Temperature (°C)\",\n",
    "        ytickformat = temp_formatter\n",
    "    )\n",
    "    lines!(ax, time, T_int, color = :green)\n",
    "\n",
    "    # Heating output\n",
    "    ax = CairoMakie.Axis(\n",
    "        fig[2, 1],\n",
    "        title = \"Optimal Heating Schedule\",\n",
    "        xlabel = \"Time (hours)\",\n",
    "        ylabel = \"Heating Output (W)\"\n",
    "    )\n",
    "    lines!(ax, time, Q_int, color = :red)\n",
    "\n",
    "    # Energy price\n",
    "    ax = CairoMakie.Axis(\n",
    "        fig[3, 1],\n",
    "        title = \"Energy price over time\",\n",
    "        xlabel = \"Time (hours)\",\n",
    "        ylabel = \"Price (NOK)\"\n",
    "    )\n",
    "    lines!(ax, time, time_price, color = :blue)\n",
    "\n",
    "    # Outside temperature\n",
    "    ax = CairoMakie.Axis(\n",
    "        fig[4, 1],\n",
    "        title = \"Outside Temperature over time\",\n",
    "        xlabel = \"Time (hours)\",\n",
    "        ylabel = \"Temperature (°C)\",\n",
    "        ytickformat = temp_formatter\n",
    "    )\n",
    "    lines!(ax, hour_lst .-10, T_out, color = :orange)\n",
    "\n",
    "    return fig\n",
    "end\n",
    "\n",
    "function plot_costs(costs)\n",
    "    fig = CairoMakie.Figure(size=(600, 300))\n",
    "\n",
    "    ax = CairoMakie.Axis(\n",
    "        fig[1, 1],\n",
    "        xlabel = \"Iteration\",\n",
    "        ylabel = \"Cost\"#,\n",
    "        # yscale = log10  # Make y-axis logarithmic\n",
    "    )\n",
    "\n",
    "    lines!(ax, 1:length(costs), costs, color = :purple)\n",
    "\n",
    "    return fig\n",
    "end\n",
    "\n",
    "function plot_costs2(costs)\n",
    "    fig = CairoMakie.Figure(size=(600, 300))\n",
    "\n",
    "    ax = CairoMakie.Axis(\n",
    "        fig[1, 1],\n",
    "        xlabel = \"Iteration\",\n",
    "        ylabel = \"Cost\",\n",
    "        yscale = log10  # Make y-axis logarithmic\n",
    "    )\n",
    "\n",
    "    lines!(ax, 1:length(costs), costs, color = :purple)\n",
    "\n",
    "    return fig\n",
    "end\n"
   ]
  },
  {
   "cell_type": "code",
   "execution_count": null,
   "metadata": {},
   "outputs": [],
   "source": []
  },
  {
   "cell_type": "code",
   "execution_count": null,
   "metadata": {},
   "outputs": [],
   "source": []
  },
  {
   "cell_type": "code",
   "execution_count": null,
   "metadata": {},
   "outputs": [],
   "source": []
  }
 ],
 "metadata": {
  "kernelspec": {
   "display_name": "Julia 1.11.3",
   "language": "julia",
   "name": "julia-1.11"
  },
  "language_info": {
   "file_extension": ".jl",
   "mimetype": "application/julia",
   "name": "julia",
   "version": "1.11.3"
  }
 },
 "nbformat": 4,
 "nbformat_minor": 2
}
