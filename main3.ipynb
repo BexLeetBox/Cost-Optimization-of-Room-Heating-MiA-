{
 "cells": [
  {
   "cell_type": "markdown",
   "metadata": {},
   "source": [
    "<!-- #### Import Julia packages -->"
   ]
  },
  {
   "cell_type": "code",
   "execution_count": 1,
   "metadata": {},
   "outputs": [],
   "source": [
    "# import Pkg\n",
    "# Pkg.add(\"JSON3\")\n",
    "# Pkg.add(\"Interpolations\")"
   ]
  },
  {
   "cell_type": "code",
   "execution_count": 55,
   "metadata": {},
   "outputs": [],
   "source": [
    "using Gridap\n",
    "using GridapMakie, CairoMakie, FileIO\n",
    "using Gridap.FESpaces\n",
    "using Gridap.ReferenceFEs\n",
    "using Gridap.Arrays\n",
    "using Gridap.Algebra\n",
    "using Gridap.Geometry\n",
    "using Gridap.Fields\n",
    "using Gridap.CellData\n",
    "using FillArrays\n",
    "using Test\n",
    "using InteractiveUtils\n",
    "using PyPlot\n",
    "using JSON3\n",
    "using Dates\n",
    "using Makie\n",
    "# using Interpolations"
   ]
  },
  {
   "cell_type": "markdown",
   "metadata": {},
   "source": [
    "<!-- #### Import Custom functions -->"
   ]
  },
  {
   "cell_type": "code",
   "execution_count": 56,
   "metadata": {},
   "outputs": [
    {
     "data": {
      "text/plain": [
       "get_control_int (generic function with 1 method)"
      ]
     },
     "metadata": {},
     "output_type": "display_data"
    }
   ],
   "source": [
    "include(\"Julia_functions/indicator_chi.jl\")\n",
    "include(\"Julia_functions/cost_fun.jl\")\n",
    "include(\"Julia_functions/gradient_descent.jl\")\n",
    "include(\"Julia_functions/solvers.jl\")\n",
    "include(\"Julia_functions/find.jl\")\n",
    "include(\"Julia_functions/res_plot.jl\")\n",
    "include(\"Julia_functions/get_domain.jl\")\n",
    "include(\"Julia_functions/get_price_temp.jl\")\n",
    "include(\"Julia_functions/post_processing.jl\")"
   ]
  },
  {
   "cell_type": "markdown",
   "metadata": {},
   "source": [
    "<!-- #### Read JSON File -->"
   ]
  },
  {
   "cell_type": "code",
   "execution_count": 57,
   "metadata": {},
   "outputs": [
    {
     "data": {
      "text/plain": [
       "(5, 3, 293.15, 293.15, Any[(0.415, 1.965, \"Top\"), (3.095, 4.635, \"Bottom\")], Any[(2.15125, 2.65125, \"Left\")], [[0.7139999389648437, 1.4039999389648437, 0.17925003051757812, 0.23925003051757812], [4.7339999389648435, 4.783999938964843, 1.9792500305175782, 2.5392500305175782]])"
      ]
     },
     "metadata": {},
     "output_type": "display_data"
    }
   ],
   "source": [
    "width, height, Tini_json, Tfin_json, windows, doors, heating_elem = get_room(\"Boundary.json\")"
   ]
  },
  {
   "cell_type": "code",
   "execution_count": 58,
   "metadata": {},
   "outputs": [
    {
     "data": {
      "text/plain": [
       "(Any[0.00809, 0.00803, 0.01533, 0.00809, 0.00801, 0.00802, 0.012, 0.01261, 0.01468], Any[0.09767, 0.09694, 0.18507, 0.09767, 0.0967, 0.09682, 0.14487, 0.15223, 0.17722], Any[277.04999999999995, 277.25, 277.15, 276.75, 276.15, 274.54999999999995, 271.84999999999997, 270.25, 269.95], Any[13, 14, 15, 16, 17, 18, 19, 20, 21])"
      ]
     },
     "metadata": {},
     "output_type": "display_data"
    }
   ],
   "source": [
    "# price_EUR, price_NOK, T_out, hour_lst = get_price_temp(\"WeatherandEnergy.json\")\n",
    "price_EUR, price_NOK, T_out, hour_lst = get_price_temp(\"WeatherandEnergy.json\")"
   ]
  },
  {
   "cell_type": "markdown",
   "metadata": {},
   "source": [
    "<!-- #### Boundary conditions -->"
   ]
  },
  {
   "cell_type": "code",
   "execution_count": 59,
   "metadata": {},
   "outputs": [
    {
     "data": {
      "text/plain": [
       "f_Γ_wall (generic function with 1 method)"
      ]
     },
     "metadata": {},
     "output_type": "display_data"
    }
   ],
   "source": [
    "f_Γ_w = generate_f_Γ(windows, width, height)\n",
    "f_Γ_d = generate_f_Γ(doors, width, height)\n",
    "f_Γ_wall(x) = !(f_Γ_w(x) || f_Γ_d(x))"
   ]
  },
  {
   "cell_type": "markdown",
   "metadata": {},
   "source": [
    "<!-- #### Domain & Discretization -->"
   ]
  },
  {
   "cell_type": "code",
   "execution_count": 60,
   "metadata": {},
   "outputs": [
    {
     "data": {
      "text/plain": [
       "UnconstrainedFESpace()"
      ]
     },
     "metadata": {},
     "output_type": "display_data"
    }
   ],
   "source": [
    "domain = (0, width , 0, height)\n",
    "partition = (40,40)\n",
    "model = CartesianDiscreteModel(domain,partition)\n",
    "update_labels!(1, model, f_Γ_w, \"window\")\n",
    "update_labels!(2, model, f_Γ_d, \"door\")\n",
    "update_labels!(3, model, f_Γ_wall, \"wall\")\n",
    "\n",
    "order = 1\n",
    "degree = 2*order\n",
    "\n",
    "Ω = Triangulation(model)\n",
    "dΩ = Measure(Ω, degree)\n",
    "\n",
    "Γ_w = BoundaryTriangulation(model, tags=\"window\")\n",
    "dΓ_w = Measure(Γ_w, degree)\n",
    "\n",
    "Γ_d = BoundaryTriangulation(model, tags=\"door\")\n",
    "dΓ_d = Measure(Γ_d, degree)\n",
    "\n",
    "Γ_wall = BoundaryTriangulation(model, tags=\"wall\")\n",
    "dΓ_wall = Measure(Γ_wall, degree)\n",
    "\n",
    "reffe = ReferenceFE(lagrangian,Float64,order)\n",
    "Testspace = TestFESpace(model,reffe,conformity=:H1)                         \n",
    "Trialspace = TransientTrialFESpace(Testspace)                                \n",
    "Uspace = FESpace(model, reffe, conformity=:H1)\n",
    "\n",
    "# fig = CairoMakie.plot(Ω)\n",
    "# CairoMakie.wireframe!(Ω, color=:black, linewidth=1)                        # add triangulation\n",
    "# CairoMakie.save(\"grid.png\", fig)\n",
    "\n",
    "# display(fig)\n"
   ]
  },
  {
   "cell_type": "markdown",
   "metadata": {},
   "source": [
    "<!-- #### Time parameters -->"
   ]
  },
  {
   "cell_type": "code",
   "execution_count": 61,
   "metadata": {},
   "outputs": [
    {
     "data": {
      "text/plain": [
       "60"
      ]
     },
     "metadata": {},
     "output_type": "display_data"
    }
   ],
   "source": [
    "t0 = 0.0    # Start time\n",
    "tF = 28800   # End time\n",
    "Δt = 60"
   ]
  },
  {
   "cell_type": "markdown",
   "metadata": {},
   "source": [
    "<!-- #### Room parameters -->"
   ]
  },
  {
   "cell_type": "code",
   "execution_count": 62,
   "metadata": {},
   "outputs": [
    {
     "data": {
      "text/plain": [
       "SingleFieldFEFunction():\n",
       " num_cells: 1600\n",
       " DomainStyle: ReferenceDomain()\n",
       " Triangulation: BodyFittedTriangulation()\n",
       " Triangulation id: 8491082492046673767"
      ]
     },
     "metadata": {},
     "output_type": "display_data"
    }
   ],
   "source": [
    "h_wall(x) = 0.22*0.01           # [W/m^2K]\n",
    "h_window(x) = 1.2*0.01\n",
    "h_door(x) = 1.0*0.01 #mindre?\n",
    "\n",
    "ρ(x)=1.225\n",
    "c(x)=1020.0\n",
    "k(x)=5#3.5\n",
    "\n",
    "\n",
    "h = (h_wall, h_window, h_door) \n",
    "constants = (c, ρ, k, h) \n",
    "\n",
    "\n",
    "Tout = get_temp_function(T_out, tF)\n",
    "\n",
    "Tini(x)= Tini_json\n",
    "TFin(x)= Tfin_json\n",
    "\n",
    "TIni=interpolate_everywhere(Tini, Uspace(t0))\n",
    "Tfin=interpolate_everywhere(TFin, Uspace(tF))"
   ]
  },
  {
   "cell_type": "markdown",
   "metadata": {},
   "source": [
    "<!-- #### Controll parameter -->"
   ]
  },
  {
   "cell_type": "code",
   "execution_count": null,
   "metadata": {},
   "outputs": [
    {
     "data": {
      "text/plain": [
       "Qt (generic function with 1 method)"
      ]
     },
     "metadata": {},
     "output_type": "display_data"
    }
   ],
   "source": [
    "q_pos = heating_elements(heating_elem)\n",
    "\n",
    "Q(x,t)=0*q_pos(x)\n",
    "Qt(t)=x->Q(x,t)"
   ]
  },
  {
   "cell_type": "markdown",
   "metadata": {},
   "source": [
    "<!-- #### Solver parameters -->"
   ]
  },
  {
   "cell_type": "code",
   "execution_count": null,
   "metadata": {},
   "outputs": [
    {
     "name": "stdout",
     "output_type": "stream",
     "text": [
      "0.06328124999999997\n",
      "500\n"
     ]
    },
    {
     "data": {
      "text/plain": [
       "Proj (generic function with 2 methods)"
      ]
     },
     "metadata": {},
     "output_type": "display_data"
    }
   ],
   "source": [
    "L2norm(u)=√(Δt*((∑(∫(u[1][2]⋅u[1][2])*dΩ)+∑(∫(u[end][2]⋅u[end][2])*dΩ))/2 + ∑(∑(∫(u[k][2]⋅u[k][2])*dΩ) for k=2:length(u)-1)))\n",
    "L2skp(u)=Δt*((∑(∫(u[1][2]⋅u[1][2])*dΩ)+∑(∫(u[end][2]⋅u[end][2])*dΩ))/2 + ∑(∑(∫(u[k][2]⋅u[k][2])*dΩ) for k=2:length(u)-1))\n",
    "get_control_int(qs) = [∑(∫(u)*dΩ) for (t,u) in qs] ./ ∑(∫(q_pos)*dΩ)\n",
    "get_temperature_int(Ts) = [∑(∫(temp)*dΩ) for (t,temp) in Ts] ./ ∑(∫(1)*dΩ)\n",
    "\n",
    "println(∑(∫(q_pos)*dΩ))\n",
    "Proj(a,b,z) = min(max(a,z),b)\n",
    "a=0.0\n",
    "b=500\n",
    "Proj(z) = [(t,FEFunction(Uspace,map(x->Proj(a,b,x), get_free_dof_values(zz)))) for (t,zz) in z]"
   ]
  },
  {
   "cell_type": "markdown",
   "metadata": {},
   "source": [
    "<!-- #### Test Gradient DEs -->"
   ]
  },
  {
   "cell_type": "code",
   "execution_count": 50,
   "metadata": {},
   "outputs": [
    {
     "data": {
      "text/plain": [
       "plot_costs2 (generic function with 1 method)"
      ]
     },
     "metadata": {},
     "output_type": "display_data"
    }
   ],
   "source": [
    "# get_control_int(qs) = [∑(∫(u)*dΩ) for (t,u) in qs] ./ ∑(∫(q_pos)*dΩ)\n",
    "# get_temperature_int(Ts) = [∑(∫(temp)*dΩ) for (t,temp) in Ts] ./ ∑(∫(1)*dΩ)\n",
    "\n",
    "\n",
    "# function real_price(qs,price)\n",
    "#     price1 = 0\n",
    "#     for (t,QQ) in qs\n",
    "#         price1 += Δt*price(t)*∑(∫(QQ)*dΩ)/3600/1000\n",
    "#     end\n",
    "#     return price1\n",
    "# end\n",
    "\n",
    "# price = get_price_function(price_NOK, tF, 1)\n",
    "# println(real_price(qs,price))\n",
    "# # println(get_temperature_int(Ts-Tfin))\n",
    "\n",
    "\n",
    "function result_plot(;T_int, Q_int, t0, tF, hour_lst, price_NOK, T_out)\n",
    "    time = LinRange(t0, tF, length(T_int))\n",
    "\n",
    "    fig = CairoMakie.Figure(size=(600,900))\n",
    "\n",
    "    ax = CairoMakie.Axis(fig[1,1], title=\"Temperature profile\", xlabel=\"Time (hours)\", ylabel=\"Temperature (°C)\")\n",
    "    lines!(ax, time, T_int, color=:green) #label=\"Temp\"\n",
    "\n",
    "    ax=CairoMakie.Axis(fig[2,1], title=\"Optimal Heating Schedule\", xlabel=\"Time (hours)\", ylabel=\"Heating Output (W)\")  \n",
    "    lines!(ax, time, Q_int, color=:red)\n",
    "\n",
    "    ax=CairoMakie.Axis(fig[3,1], title=\"Energy price over time\", xlabel=\"Time (hours)\", ylabel=\"Price (NOK)\")\n",
    "    lines!(ax, hour_lst, price_NOK, color=:blue)\n",
    "\n",
    "    ax=CairoMakie.Axis(fig[4,1], title=\"Outside Temperature over time\", xlabel=\"Time (hours)\", ylabel=\"Temperature (°C)\")\n",
    "    lines!(ax, hour_lst, T_out, color=:orange)\n",
    "\n",
    "    return fig\n",
    "end\n",
    "\n",
    "function result_plot2(; T_int, Q_int, t0, tF, hour_lst, price_NOK, T_out)\n",
    "    # time = LinRange(t0, tF, length(T_int))\n",
    "    time = LinRange(t0, tF, length(T_int)) ./ 3600  # convert from seconds to hours\n",
    "    time2 = LinRange(t0, tF, length(T_int))\n",
    "\n",
    "    \n",
    "    time_price = [price(t) for t in time2]\n",
    "\n",
    "    fig = CairoMakie.Figure(size=(600, 900), figure_padding=(0, 5, 0, 5))\n",
    "\n",
    "    # Formatter for temperature axis (Kelvin to Celsius)\n",
    "    temp_formatter = v -> [\"$(round(vi - 273.15, digits=1))\" for vi in v]\n",
    "\n",
    "    # Temperature profile\n",
    "    ax = CairoMakie.Axis(\n",
    "        fig[1, 1],\n",
    "        title = \"Temperature profile\",\n",
    "        xlabel = \"Time (hours)\",\n",
    "        ylabel = \"Temperature (°C)\",\n",
    "        ytickformat = temp_formatter\n",
    "    )\n",
    "    lines!(ax, time, T_int, color = :green)\n",
    "\n",
    "    # Heating output\n",
    "    ax = CairoMakie.Axis(\n",
    "        fig[2, 1],\n",
    "        title = \"Optimal Heating Schedule\",\n",
    "        xlabel = \"Time (hours)\",\n",
    "        ylabel = \"Total heating Output (W)\"\n",
    "    )\n",
    "    lines!(ax, time, Q_int, color = :red)\n",
    "\n",
    "    # Energy price\n",
    "    ax = CairoMakie.Axis(\n",
    "        fig[3, 1],\n",
    "        title = \"Energy price over time\",\n",
    "        xlabel = \"Time (hours)\",\n",
    "        ylabel = \"Price (NOK)\"\n",
    "    )\n",
    "    lines!(ax, time, time_price, color = :blue)\n",
    "\n",
    "    # Outside temperature\n",
    "    ax = CairoMakie.Axis(\n",
    "        fig[4, 1],\n",
    "        title = \"Outside Temperature over time\",\n",
    "        xlabel = \"Time (hours)\",\n",
    "        ylabel = \"Temperature (°C)\",\n",
    "        ytickformat = temp_formatter\n",
    "    )\n",
    "    lines!(ax, hour_lst .-10, T_out, color = :orange)\n",
    "\n",
    "    return fig\n",
    "end\n",
    "\n",
    "function plot_costs(costs)\n",
    "    fig = CairoMakie.Figure(size=(600, 300))\n",
    "\n",
    "    ax = CairoMakie.Axis(\n",
    "        fig[1, 1],\n",
    "        xlabel = \"Iteration\",\n",
    "        ylabel = \"Cost\"#,\n",
    "        # yscale = log10  # Make y-axis logarithmic\n",
    "    )\n",
    "\n",
    "    lines!(ax, 1:length(costs), costs, color = :purple)\n",
    "\n",
    "    return fig\n",
    "end\n",
    "\n",
    "function plot_costs2(costs)\n",
    "    fig = CairoMakie.Figure(size=(600, 300))\n",
    "\n",
    "    ax = CairoMakie.Axis(\n",
    "        fig[1, 1],\n",
    "        xlabel = \"Iteration\",\n",
    "        ylabel = \"Cost\",\n",
    "        yscale = log10  # Make y-axis logarithmic\n",
    "    )\n",
    "\n",
    "    lines!(ax, 1:length(costs), costs, color = :purple)\n",
    "\n",
    "    return fig\n",
    "end\n"
   ]
  },
  {
   "cell_type": "code",
   "execution_count": 51,
   "metadata": {},
   "outputs": [
    {
     "name": "stdout",
     "output_type": "stream",
     "text": [
      "T computed\n",
      "W computed\n"
     ]
    },
    {
     "data": {
      "text/plain": [
       "(Tuple{Float64, SingleFieldFEFunction{GenericCellField{ReferenceDomain}}}[(0.0, SingleFieldFEFunction()), (60.0, SingleFieldFEFunction()), (120.0, SingleFieldFEFunction()), (180.0, SingleFieldFEFunction()), (240.0, SingleFieldFEFunction()), (300.0, SingleFieldFEFunction()), (360.0, SingleFieldFEFunction()), (420.0, SingleFieldFEFunction()), (480.0, SingleFieldFEFunction()), (540.0, SingleFieldFEFunction())  …  (28260.0, SingleFieldFEFunction()), (28320.0, SingleFieldFEFunction()), (28380.0, SingleFieldFEFunction()), (28440.0, SingleFieldFEFunction()), (28500.0, SingleFieldFEFunction()), (28560.0, SingleFieldFEFunction()), (28620.0, SingleFieldFEFunction()), (28680.0, SingleFieldFEFunction()), (28740.0, SingleFieldFEFunction()), (28800.0, SingleFieldFEFunction())], Tuple{Float64, SingleFieldFEFunction{GenericCellField{ReferenceDomain}}}[(0.0, SingleFieldFEFunction()), (60.0, SingleFieldFEFunction()), (120.0, SingleFieldFEFunction()), (180.0, SingleFieldFEFunction()), (240.0, SingleFieldFEFunction()), (300.0, SingleFieldFEFunction()), (360.0, SingleFieldFEFunction()), (420.0, SingleFieldFEFunction()), (480.0, SingleFieldFEFunction()), (540.0, SingleFieldFEFunction())  …  (28260.0, SingleFieldFEFunction()), (28320.0, SingleFieldFEFunction()), (28380.0, SingleFieldFEFunction()), (28440.0, SingleFieldFEFunction()), (28500.0, SingleFieldFEFunction()), (28560.0, SingleFieldFEFunction()), (28620.0, SingleFieldFEFunction()), (28680.0, SingleFieldFEFunction()), (28740.0, SingleFieldFEFunction()), (28800.0, SingleFieldFEFunction())], Tuple{Real, SingleFieldFEFunction{GenericCellField{ReferenceDomain}}}[(0.0, SingleFieldFEFunction()), (60.0, SingleFieldFEFunction()), (120.0, SingleFieldFEFunction()), (180.0, SingleFieldFEFunction()), (240.0, SingleFieldFEFunction()), (300.0, SingleFieldFEFunction()), (360.0, SingleFieldFEFunction()), (420.0, SingleFieldFEFunction()), (480.0, SingleFieldFEFunction()), (540.0, SingleFieldFEFunction())  …  (28260.0, SingleFieldFEFunction()), (28320.0, SingleFieldFEFunction()), (28380.0, SingleFieldFEFunction()), (28440.0, SingleFieldFEFunction()), (28500.0, SingleFieldFEFunction()), (28560.0, SingleFieldFEFunction()), (28620.0, SingleFieldFEFunction()), (28680.0, SingleFieldFEFunction()), (28740.0, SingleFieldFEFunction()), (28800, SingleFieldFEFunction())], [1.5420057888662263e6])"
      ]
     },
     "metadata": {},
     "output_type": "display_data"
    }
   ],
   "source": [
    "price = t -> 0\n",
    "\n",
    "γ = 1.225*1020\n",
    "Q(x,t)= 0\n",
    "Qt(t)=x->Q(x,t)\n",
    "\n",
    "(Ts,qs,Ws,costs) = GradientDescent(;solveSE=SEsolver, \n",
    "solveAE=AEsolver, \n",
    "spaces=(Trialspace, Testspace, Uspace), \n",
    "dΩ=dΩ, \n",
    "dΓ=(dΓ_w,dΓ_d,dΓ_wall), \n",
    "Q=Qt, \n",
    "J=E, \n",
    "∇f=∇e, \n",
    "P=Proj, \n",
    "s_min=s_min,\n",
    "sminargs=nothing, \n",
    "saveall=false, \n",
    "tol=1e-5, \n",
    "iter_max=0,\n",
    "armijoparas=(ρ=0.5, α_0=25, α_min=1e-3, σ=0.0), \n",
    "Δt=Δt, \n",
    "t0=t0,\n",
    "tF=tF,\n",
    "Tout=Tout,\n",
    "constants=constants,\n",
    "Tfin=Tfin,\n",
    "q_pos=q_pos)"
   ]
  },
  {
   "cell_type": "code",
   "execution_count": 52,
   "metadata": {},
   "outputs": [
    {
     "data": {
      "text/plain": [
       "CairoMakie.Screen{IMAGE}\n"
      ]
     },
     "metadata": {},
     "output_type": "display_data"
    }
   ],
   "source": [
    "price = t -> 0\n",
    "c1_zero = (plot_costs2(costs))\n",
    "CairoMakie.save(\"price_zero_convergence.png\", c1_zero)\n",
    "\n",
    "\n",
    "Q_int = get_control_int(qs)\n",
    "T_int = get_temperature_int(Ts)\n",
    "c2_zero = result_plot2(;T_int,Q_int,t0,tF,hour_lst,price_NOK,T_out)\n",
    "CairoMakie.save(\"price_zero_result.png\", c2_zero)"
   ]
  },
  {
   "cell_type": "code",
   "execution_count": null,
   "metadata": {},
   "outputs": [],
   "source": [
    "price = t -> 0.4 + χ(t,-1,3000)*2 + χ(t,10000,15000)*2 + χ(t,23000,28800+1)*2\n",
    "γ = 1.225*1020*2\n",
    "\n",
    "(Ts2,qs2,Ws2,costs2) = GradientDescent(;solveSE=SEsolver, \n",
    "solveAE=AEsolver, \n",
    "spaces=(Trialspace, Testspace, Uspace), \n",
    "dΩ=dΩ, \n",
    "dΓ=(dΓ_w,dΓ_d,dΓ_wall), \n",
    "Q=Qt, \n",
    "J=E, \n",
    "∇f=∇e, \n",
    "P=Proj, \n",
    "s_min=s_min,\n",
    "sminargs=nothing, \n",
    "saveall=false, \n",
    "tol=1e-5, \n",
    "iter_max=300,\n",
    "armijoparas=(ρ=0.5, α_0=10, α_min=1e-4, σ=0.0), \n",
    "Δt=Δt, \n",
    "t0=t0,\n",
    "tF=tF,\n",
    "Tout=Tout,\n",
    "constants=constants,\n",
    "Tfin=Tfin,\n",
    "q_pos=q_pos)"
   ]
  },
  {
   "cell_type": "code",
   "execution_count": null,
   "metadata": {},
   "outputs": [],
   "source": [
    "price = t -> 0.4 + χ(t,-1,3000)*2 + χ(t,10000,15000)*2 + χ(t,23000,28800+1)*2\n",
    "\n",
    "# c1_step = (plot_costs(costs2))\n",
    "c1_step = (plot_costs2(costs2))\n",
    "\n",
    "CairoMakie.save(\"price_step_convergence.png\", c1_step)\n",
    "\n",
    "\n",
    "Q_int = get_control_int(qs2)\n",
    "T_int = get_temperature_int(Ts2)\n",
    "c2_step = result_plot2(;T_int,Q_int,t0,tF,hour_lst,price_NOK,T_out)\n",
    "CairoMakie.save(\"price_step_result.png\", c2_step)\n",
    "\n"
   ]
  },
  {
   "cell_type": "code",
   "execution_count": 27,
   "metadata": {},
   "outputs": [
    {
     "name": "stdout",
     "output_type": "stream",
     "text": [
      "T computed\n",
      "W computed\n",
      "entered for loop, E=1.1375494414607415e6, k = 1\n",
      "α = 30, new_cost = 540314.0760077413, L2fgrad = 3872.304922810362, interm = 0.0\n",
      "entered for loop, E=540314.0760077413, k = 2\n",
      "α = 30, new_cost = 270463.00994170835, L2fgrad = 2601.2988519779137, interm = 0.0\n",
      "entered for loop, E=270463.00994170835, k = 3\n",
      "α = 30, new_cost = 146758.83542353797, L2fgrad = 1761.5104347260124, interm = 0.0\n",
      "entered for loop, E=146758.83542353797, k = 4\n",
      "α = 30, new_cost = 91012.96816254285, L2fgrad = 1180.0877387428802, interm = 0.0\n",
      "entered for loop, E=91012.96816254285, k = 5\n",
      "α = 30, new_cost = 65214.63641761725, L2fgrad = 802.4749828185815, interm = 0.0\n",
      "entered for loop, E=65214.63641761725, k = 6\n",
      "α = 30, new_cost = 53583.55311515291, L2fgrad = 535.0268739275165, interm = 0.0\n",
      "entered for loop, E=53583.55311515291, k = 7\n",
      "α = 30, new_cost = 48060.125972329966, L2fgrad = 366.9890710952898, interm = 0.0\n",
      "entered for loop, E=48060.125972329966, k = 8\n",
      "α = 30, new_cost = 45512.209349214376, L2fgrad = 242.89664780819515, interm = 0.0\n",
      "entered for loop, E=45512.209349214376, k = 9\n",
      "α = 30, new_cost = 44201.58398620317, L2fgrad = 169.90407095990003, interm = 0.0\n",
      "entered for loop, E=44201.58398620317, k = 10\n",
      "α = 30, new_cost = 43526.202491319265, L2fgrad = 111.86349800674954, interm = 0.0\n",
      "entered for loop, E=43526.202491319265, k = 11\n",
      "α = 30, new_cost = 43105.17028402273, L2fgrad = 81.44752211502959, interm = 0.0\n",
      "entered for loop, E=43105.17028402273, k = 12\n",
      "α = 30, new_cost = 42820.370823029916, L2fgrad = 55.17193394266499, interm = 0.0\n",
      "entered for loop, E=42820.370823029916, k = 13\n",
      "α = 30, new_cost = 42585.35861991, L2fgrad = 44.87030773690537, interm = 0.0\n",
      "entered for loop, E=42585.35861991, k = 14\n",
      "α = 30, new_cost = 42380.240887839056, L2fgrad = 34.391115569049, interm = 0.0\n",
      "entered for loop, E=42380.240887839056, k = 15\n",
      "α = 30, new_cost = 42185.93004942449, L2fgrad = 32.338480169256975, interm = 0.0\n",
      "entered for loop, E=42185.93004942449, k = 16\n",
      "α = 30, new_cost = 41999.00734631736, L2fgrad = 28.88545233271492, interm = 0.0\n",
      "entered for loop, E=41999.00734631736, k = 17\n",
      "α = 30, new_cost = 41815.06780106295, L2fgrad = 28.83463639031897, interm = 0.0\n",
      "entered for loop, E=41815.06780106295, k = 18\n",
      "α = 30, new_cost = 41632.9581904107, L2fgrad = 27.770847672464342, interm = 0.0\n",
      "entered for loop, E=41632.9581904107, k = 19\n",
      "α = 30, new_cost = 41451.44032769887, L2fgrad = 27.93925568114835, interm = 0.0\n",
      "entered for loop, E=41451.44032769887, k = 20\n",
      "α = 30, new_cost = 41270.7946352854, L2fgrad = 27.572219395521316, interm = 0.0\n",
      "entered for loop, E=41270.7946352854, k = 21\n",
      "α = 30, new_cost = 41090.60093300341, L2fgrad = 27.675904010844672, interm = 0.0\n",
      "entered for loop, E=41090.60093300341, k = 22\n",
      "α = 30, new_cost = 40910.92088865193, L2fgrad = 27.5328350009582, interm = 0.0\n",
      "entered for loop, E=40910.92088865193, k = 23\n",
      "α = 30, new_cost = 40731.690416332436, L2fgrad = 27.575486938703197, interm = 0.0\n",
      "entered for loop, E=40731.690416332436, k = 24\n",
      "α = 30, new_cost = 40555.834466778055, L2fgrad = 27.51278672607199, interm = 0.0\n",
      "entered for loop, E=40555.834466778055, k = 25\n",
      "α = 30, new_cost = 40400.01173911674, L2fgrad = 27.515936117507838, interm = 0.0\n",
      "entered for loop, E=40400.01173911674, k = 26\n",
      "α = 30, new_cost = 40265.72552577277, L2fgrad = 27.480873856755665, interm = 0.0\n",
      "entered for loop, E=40265.72552577277, k = 27\n",
      "α = 30, new_cost = 40151.657567723036, L2fgrad = 27.482325234087146, interm = 0.0\n",
      "entered for loop, E=40151.657567723036, k = 28\n",
      "α = 30, new_cost = 40056.639617531706, L2fgrad = 27.54070804495277, interm = 0.0\n",
      "entered for loop, E=40056.639617531706, k = 29\n",
      "α = 30, new_cost = 39979.632787329945, L2fgrad = 27.596058271545605, interm = 0.0\n",
      "entered for loop, E=39979.632787329945, k = 30\n",
      "α = 30, new_cost = 39919.751195275254, L2fgrad = 27.7079678303076, interm = 0.0\n"
     ]
    },
    {
     "data": {
      "text/plain": [
       "(Tuple{Float64, SingleFieldFEFunction{GenericCellField{ReferenceDomain}}}[(0.0, SingleFieldFEFunction()), (60.0, SingleFieldFEFunction()), (120.0, SingleFieldFEFunction()), (180.0, SingleFieldFEFunction()), (240.0, SingleFieldFEFunction()), (300.0, SingleFieldFEFunction()), (360.0, SingleFieldFEFunction()), (420.0, SingleFieldFEFunction()), (480.0, SingleFieldFEFunction()), (540.0, SingleFieldFEFunction())  …  (28260.0, SingleFieldFEFunction()), (28320.0, SingleFieldFEFunction()), (28380.0, SingleFieldFEFunction()), (28440.0, SingleFieldFEFunction()), (28500.0, SingleFieldFEFunction()), (28560.0, SingleFieldFEFunction()), (28620.0, SingleFieldFEFunction()), (28680.0, SingleFieldFEFunction()), (28740.0, SingleFieldFEFunction()), (28800.0, SingleFieldFEFunction())], Tuple{Float64, SingleFieldFEFunction{GenericCellField{ReferenceDomain}}}[(0.0, SingleFieldFEFunction()), (60.0, SingleFieldFEFunction()), (120.0, SingleFieldFEFunction()), (180.0, SingleFieldFEFunction()), (240.0, SingleFieldFEFunction()), (300.0, SingleFieldFEFunction()), (360.0, SingleFieldFEFunction()), (420.0, SingleFieldFEFunction()), (480.0, SingleFieldFEFunction()), (540.0, SingleFieldFEFunction())  …  (28260.0, SingleFieldFEFunction()), (28320.0, SingleFieldFEFunction()), (28380.0, SingleFieldFEFunction()), (28440.0, SingleFieldFEFunction()), (28500.0, SingleFieldFEFunction()), (28560.0, SingleFieldFEFunction()), (28620.0, SingleFieldFEFunction()), (28680.0, SingleFieldFEFunction()), (28740.0, SingleFieldFEFunction()), (28800.0, SingleFieldFEFunction())], Tuple{Real, SingleFieldFEFunction{GenericCellField{ReferenceDomain}}}[(0.0, SingleFieldFEFunction()), (60.0, SingleFieldFEFunction()), (120.0, SingleFieldFEFunction()), (180.0, SingleFieldFEFunction()), (240.0, SingleFieldFEFunction()), (300.0, SingleFieldFEFunction()), (360.0, SingleFieldFEFunction()), (420.0, SingleFieldFEFunction()), (480.0, SingleFieldFEFunction()), (540.0, SingleFieldFEFunction())  …  (28260.0, SingleFieldFEFunction()), (28320.0, SingleFieldFEFunction()), (28380.0, SingleFieldFEFunction()), (28440.0, SingleFieldFEFunction()), (28500.0, SingleFieldFEFunction()), (28560.0, SingleFieldFEFunction()), (28620.0, SingleFieldFEFunction()), (28680.0, SingleFieldFEFunction()), (28740.0, SingleFieldFEFunction()), (28800, SingleFieldFEFunction())], [1.1375494414607415e6, 540314.0760077413, 270463.00994170835, 146758.83542353797, 91012.96816254285, 65214.63641761725, 53583.55311515291, 48060.125972329966, 45512.209349214376, 44201.58398620317  …  41090.60093300341, 40910.92088865193, 40731.690416332436, 40555.834466778055, 40400.01173911674, 40265.72552577277, 40151.657567723036, 40056.639617531706, 39979.632787329945, 39919.751195275254])"
      ]
     },
     "metadata": {},
     "output_type": "display_data"
    }
   ],
   "source": [
    "price = get_price_function(price_NOK, tF, 1)\n",
    "γ = 1.225*1020*3/4\n",
    "\n",
    "(Ts3,qs3,Ws3,costs3) = GradientDescent(;solveSE=SEsolver, \n",
    "solveAE=AEsolver, \n",
    "spaces=(Trialspace, Testspace, Uspace), \n",
    "dΩ=dΩ, \n",
    "dΓ=(dΓ_w,dΓ_d,dΓ_wall), \n",
    "Q=Qt, \n",
    "J=E, \n",
    "∇f=∇e, \n",
    "P=Proj, \n",
    "s_min=s_min,\n",
    "sminargs=nothing, \n",
    "saveall=false, \n",
    "tol=1e-5, \n",
    "iter_max=30,\n",
    "armijoparas=(ρ=0.5, α_0=30, α_min=1e-3, σ=0.0), \n",
    "Δt=Δt, \n",
    "t0=t0,\n",
    "tF=tF,\n",
    "Tout=Tout,\n",
    "constants=constants,\n",
    "Tfin=Tfin,\n",
    "q_pos=q_pos)"
   ]
  },
  {
   "cell_type": "code",
   "execution_count": 24,
   "metadata": {},
   "outputs": [
    {
     "data": {
      "text/plain": [
       "CairoMakie.Screen{IMAGE}\n"
      ]
     },
     "metadata": {},
     "output_type": "display_data"
    }
   ],
   "source": [
    "price = get_price_function(price_NOK, tF, 1)\n",
    "\n",
    "# c1_real = (plot_costs(costs3))\n",
    "c1_real = (plot_costs2(costs3))\n",
    "\n",
    "CairoMakie.save(\"price_real_convergence.png\", c1_real)\n",
    "\n",
    "Q_int = get_control_int(qs3)\n",
    "T_int = get_temperature_int(Ts3)\n",
    "c2_real = result_plot2(;T_int,Q_int,t0,tF,hour_lst,price_NOK,T_out)\n",
    "CairoMakie.save(\"price_real_result.png\", c2_real)\n"
   ]
  },
  {
   "cell_type": "code",
   "execution_count": 76,
   "metadata": {},
   "outputs": [
    {
     "name": "stdout",
     "output_type": "stream",
     "text": [
      "T computed\n",
      "W computed\n",
      "entered for loop, E=263833.8065285998, k = 1\n",
      "α = 15, new_cost = 263772.2814226481, L2fgrad = 246.14883093214746, interm = 0.0\n",
      "entered for loop, E=263772.2814226481, k = 2\n",
      "α = 15, new_cost = 263712.40886606, L2fgrad = 246.1143181169023, interm = 0.0\n",
      "entered for loop, E=263712.40886606, k = 3\n",
      "α = 15, new_cost = 263653.15423493757, L2fgrad = 246.29870334370415, interm = 0.0\n",
      "entered for loop, E=263653.15423493757, k = 4\n",
      "α = 15, new_cost = 263594.9141208321, L2fgrad = 246.26333789051654, interm = 0.0\n",
      "entered for loop, E=263594.9141208321, k = 5\n",
      "α = 15, new_cost = 263537.73355236324, L2fgrad = 246.33731952062837, interm = 0.0\n",
      "entered for loop, E=263537.73355236324, k = 6\n",
      "α = 15, new_cost = 263480.7061604707, L2fgrad = 246.42706573949866, interm = 0.0\n",
      "entered for loop, E=263480.7061604707, k = 7\n",
      "α = 15, new_cost = 263425.7496422412, L2fgrad = 246.42015647749741, interm = 0.0\n",
      "entered for loop, E=263425.7496422412, k = 8\n",
      "α = 15, new_cost = 263371.027657206, L2fgrad = 246.6155723483822, interm = 0.0\n",
      "entered for loop, E=263371.027657206, k = 9\n",
      "α = 15, new_cost = 263317.21415508306, L2fgrad = 246.58439066255139, interm = 0.0\n",
      "entered for loop, E=263317.21415508306, k = 10\n",
      "α = 15, new_cost = 263264.44477127783, L2fgrad = 246.66834562256827, interm = 0.0\n",
      "entered for loop, E=263264.44477127783, k = 11\n",
      "α = 15, new_cost = 263211.882717568, L2fgrad = 246.77669995237824, interm = 0.0\n",
      "entered for loop, E=263211.882717568, k = 12\n",
      "α = 15, new_cost = 263160.8099070211, L2fgrad = 246.74682782112652, interm = 0.0\n",
      "entered for loop, E=263160.8099070211, k = 13\n",
      "α = 15, new_cost = 263111.005877502, L2fgrad = 246.89188711528078, interm = 0.0\n",
      "entered for loop, E=263111.005877502, k = 14\n",
      "α = 15, new_cost = 263062.76954032, L2fgrad = 246.6952748506979, interm = 0.0\n",
      "entered for loop, E=263062.76954032, k = 15\n",
      "α = 15, new_cost = 263016.6476226576, L2fgrad = 246.33497597143528, interm = 0.0\n",
      "entered for loop, E=263016.6476226576, k = 16\n",
      "α = 15, new_cost = 262971.40306704445, L2fgrad = 246.3155573738762, interm = 0.0\n",
      "entered for loop, E=262971.40306704445, k = 17\n",
      "α = 15, new_cost = 262926.90224645246, L2fgrad = 246.09357687709445, interm = 0.0\n",
      "entered for loop, E=262926.90224645246, k = 18\n",
      "α = 15, new_cost = 262884.2542199615, L2fgrad = 246.00337738889715, interm = 0.0\n",
      "entered for loop, E=262884.2542199615, k = 19\n",
      "α = 15, new_cost = 262842.16026325396, L2fgrad = 245.98844310391743, interm = 0.0\n",
      "entered for loop, E=262842.16026325396, k = 20\n",
      "α = 15, new_cost = 262800.69051044004, L2fgrad = 245.84886037024472, interm = 0.0\n",
      "entered for loop, E=262800.69051044004, k = 21\n",
      "α = 15, new_cost = 262760.55316146545, L2fgrad = 245.7705027249804, interm = 0.0\n",
      "entered for loop, E=262760.55316146545, k = 22\n",
      "α = 15, new_cost = 262721.1400916614, L2fgrad = 245.88533729946488, interm = 0.0\n",
      "entered for loop, E=262721.1400916614, k = 23\n",
      "α = 15, new_cost = 262682.1697988878, L2fgrad = 245.73113273261765, interm = 0.0\n",
      "entered for loop, E=262682.1697988878, k = 24\n",
      "α = 15, new_cost = 262645.0087643351, L2fgrad = 245.60550279543872, interm = 0.0\n",
      "entered for loop, E=262645.0087643351, k = 25\n",
      "α = 15, new_cost = 262608.0028099598, L2fgrad = 245.64408409725587, interm = 0.0\n",
      "entered for loop, E=262608.0028099598, k = 26\n",
      "α = 15, new_cost = 262571.3154173686, L2fgrad = 245.63675015514818, interm = 0.0\n",
      "entered for loop, E=262571.3154173686, k = 27\n",
      "α = 15, new_cost = 262535.908436186, L2fgrad = 245.56286443563243, interm = 0.0\n",
      "entered for loop, E=262535.908436186, k = 28\n",
      "α = 15, new_cost = 262501.24095726415, L2fgrad = 245.57380323169355, interm = 0.0\n",
      "entered for loop, E=262501.24095726415, k = 29\n",
      "α = 15, new_cost = 262467.2389013314, L2fgrad = 245.57195763019436, interm = 0.0\n",
      "entered for loop, E=262467.2389013314, k = 30\n",
      "α = 15, new_cost = 262433.6152897494, L2fgrad = 245.4427922982117, interm = 0.0\n"
     ]
    },
    {
     "data": {
      "text/plain": [
       "(Tuple{Float64, SingleFieldFEFunction{GenericCellField{ReferenceDomain}}}[(0.0, SingleFieldFEFunction()), (60.0, SingleFieldFEFunction()), (120.0, SingleFieldFEFunction()), (180.0, SingleFieldFEFunction()), (240.0, SingleFieldFEFunction()), (300.0, SingleFieldFEFunction()), (360.0, SingleFieldFEFunction()), (420.0, SingleFieldFEFunction()), (480.0, SingleFieldFEFunction()), (540.0, SingleFieldFEFunction())  …  (28260.0, SingleFieldFEFunction()), (28320.0, SingleFieldFEFunction()), (28380.0, SingleFieldFEFunction()), (28440.0, SingleFieldFEFunction()), (28500.0, SingleFieldFEFunction()), (28560.0, SingleFieldFEFunction()), (28620.0, SingleFieldFEFunction()), (28680.0, SingleFieldFEFunction()), (28740.0, SingleFieldFEFunction()), (28800.0, SingleFieldFEFunction())], Tuple{Float64, SingleFieldFEFunction{GenericCellField{ReferenceDomain}}}[(0.0, SingleFieldFEFunction()), (60.0, SingleFieldFEFunction()), (120.0, SingleFieldFEFunction()), (180.0, SingleFieldFEFunction()), (240.0, SingleFieldFEFunction()), (300.0, SingleFieldFEFunction()), (360.0, SingleFieldFEFunction()), (420.0, SingleFieldFEFunction()), (480.0, SingleFieldFEFunction()), (540.0, SingleFieldFEFunction())  …  (28260.0, SingleFieldFEFunction()), (28320.0, SingleFieldFEFunction()), (28380.0, SingleFieldFEFunction()), (28440.0, SingleFieldFEFunction()), (28500.0, SingleFieldFEFunction()), (28560.0, SingleFieldFEFunction()), (28620.0, SingleFieldFEFunction()), (28680.0, SingleFieldFEFunction()), (28740.0, SingleFieldFEFunction()), (28800.0, SingleFieldFEFunction())], Tuple{Real, SingleFieldFEFunction{GenericCellField{ReferenceDomain}}}[(0.0, SingleFieldFEFunction()), (60.0, SingleFieldFEFunction()), (120.0, SingleFieldFEFunction()), (180.0, SingleFieldFEFunction()), (240.0, SingleFieldFEFunction()), (300.0, SingleFieldFEFunction()), (360.0, SingleFieldFEFunction()), (420.0, SingleFieldFEFunction()), (480.0, SingleFieldFEFunction()), (540.0, SingleFieldFEFunction())  …  (28260.0, SingleFieldFEFunction()), (28320.0, SingleFieldFEFunction()), (28380.0, SingleFieldFEFunction()), (28440.0, SingleFieldFEFunction()), (28500.0, SingleFieldFEFunction()), (28560.0, SingleFieldFEFunction()), (28620.0, SingleFieldFEFunction()), (28680.0, SingleFieldFEFunction()), (28740.0, SingleFieldFEFunction()), (28800, SingleFieldFEFunction())], [263833.8065285998, 263772.2814226481, 263712.40886606, 263653.15423493757, 263594.9141208321, 263537.73355236324, 263480.7061604707, 263425.7496422412, 263371.027657206, 263317.21415508306  …  262760.55316146545, 262721.1400916614, 262682.1697988878, 262645.0087643351, 262608.0028099598, 262571.3154173686, 262535.908436186, 262501.24095726415, 262467.2389013314, 262433.6152897494])"
      ]
     },
     "metadata": {},
     "output_type": "display_data"
    }
   ],
   "source": [
    "price = t -> 1\n",
    "γ = 1.225*1020*2\n",
    "\n",
    "(Ts4,qs4,Ws4,costs4) = GradientDescent(;solveSE=SEsolver, \n",
    "solveAE=AEsolver, \n",
    "spaces=(Trialspace, Testspace, Uspace), \n",
    "dΩ=dΩ, \n",
    "dΓ=(dΓ_w,dΓ_d,dΓ_wall), \n",
    "Q=qs4, \n",
    "J=E, \n",
    "∇f=∇e, \n",
    "P=Proj, \n",
    "s_min=s_min,\n",
    "sminargs=nothing, \n",
    "saveall=false, \n",
    "tol=1e-5, \n",
    "iter_max=30,\n",
    "armijoparas=(ρ=0.5, α_0=15, α_min=1e-3, σ=0.0), \n",
    "Δt=Δt, \n",
    "t0=t0,\n",
    "tF=tF,\n",
    "Tout=Tout,\n",
    "constants=constants,\n",
    "Tfin=Tfin,\n",
    "q_pos=q_pos)"
   ]
  },
  {
   "cell_type": "code",
   "execution_count": 77,
   "metadata": {},
   "outputs": [
    {
     "data": {
      "text/plain": [
       "CairoMakie.Screen{IMAGE}\n"
      ]
     },
     "metadata": {},
     "output_type": "display_data"
    }
   ],
   "source": [
    "price = t -> 1\n",
    "\n",
    "# c1_const = (plot_costs(costs4))\n",
    "c1_const = (plot_costs2(costs4))\n",
    "\n",
    "CairoMakie.save(\"price_const_convergence.png\", c1_const)\n",
    "\n",
    "Q_int = get_control_int(qs4)\n",
    "T_int = get_temperature_int(Ts4)\n",
    "c2_const = result_plot2(;T_int,Q_int,t0,tF,hour_lst,price_NOK,T_out)\n",
    "CairoMakie.save(\"price_const_result.png\", c2_const)\n"
   ]
  },
  {
   "cell_type": "code",
   "execution_count": 72,
   "metadata": {},
   "outputs": [
    {
     "data": {
      "text/plain": [
       "82-element Vector{String}:\n",
       " \"resultsOutisde.pvd\"\n",
       " \"tmp/results_0.vtu\"\n",
       " \"tmp/results_6.vtu\"\n",
       " \"tmp/results_12.vtu\"\n",
       " \"tmp/results_18.vtu\"\n",
       " \"tmp/results_24.vtu\"\n",
       " \"tmp/results_30.vtu\"\n",
       " \"tmp/results_36.vtu\"\n",
       " \"tmp/results_42.vtu\"\n",
       " \"tmp/results_48.vtu\"\n",
       " ⋮\n",
       " \"tmp/results_432.vtu\"\n",
       " \"tmp/results_438.vtu\"\n",
       " \"tmp/results_444.vtu\"\n",
       " \"tmp/results_450.vtu\"\n",
       " \"tmp/results_456.vtu\"\n",
       " \"tmp/results_462.vtu\"\n",
       " \"tmp/results_468.vtu\"\n",
       " \"tmp/results_474.vtu\"\n",
       " \"tmp/results_480.vtu\""
      ]
     },
     "metadata": {},
     "output_type": "display_data"
    }
   ],
   "source": [
    "# Opprett en mappe for midlertidige filer hvis den ikke eksisterer\n",
    "if !isdir(\"tmp\")\n",
    "    mkdir(\"tmp\")\n",
    "end\n",
    "\n",
    "# Initialtilstanden og resten av tidsløsningene\n",
    "# uh0 = solution[1][2]  # Første element er (t0, T0), vi henter T0\n",
    "# uh  = solution[2:end]  # De resterende løsningene\n",
    "\n",
    "\n",
    "uh = Ts4\n",
    "# Lagre resultater i Paraview-format (VTK)\n",
    "createpvd(\"resultsOutisde\") do pvd\n",
    "    # Første løsning (t=0)\n",
    "    # pvd[0] = createvtk(Ω, \"tmp/results_0.vtu\", cellfields=[\"u\" => uh0])\n",
    "\n",
    "    # Lagrer løsninger for hver tidssteg\n",
    "    count = 0\n",
    "    for (tn, uhn) in uh\n",
    "        if count%6 == 0\n",
    "            pvd[tn] = createvtk(Ω, \"tmp/results_$count.vtu\", cellfields=[\"u\" => uhn])\n",
    "        end\n",
    "        count+=1\n",
    "    end\n",
    "end\n"
   ]
  },
  {
   "cell_type": "code",
   "execution_count": null,
   "metadata": {},
   "outputs": [],
   "source": []
  }
 ],
 "metadata": {
  "kernelspec": {
   "display_name": "Julia 1.11.3",
   "language": "julia",
   "name": "julia-1.11"
  },
  "language_info": {
   "file_extension": ".jl",
   "mimetype": "application/julia",
   "name": "julia",
   "version": "1.11.3"
  }
 },
 "nbformat": 4,
 "nbformat_minor": 2
}
