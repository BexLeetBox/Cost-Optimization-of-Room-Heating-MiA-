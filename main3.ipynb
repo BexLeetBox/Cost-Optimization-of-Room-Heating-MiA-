{
 "cells": [
  {
   "cell_type": "markdown",
   "metadata": {},
   "source": [
    "#### Import Julia packages"
   ]
  },
  {
   "cell_type": "code",
   "execution_count": 171,
   "metadata": {},
   "outputs": [],
   "source": [
    "# import Pkg\n",
    "# Pkg.add(\"JSON3\")\n",
    "# Pkg.add(\"Interpolations\")"
   ]
  },
  {
   "cell_type": "code",
   "execution_count": 172,
   "metadata": {},
   "outputs": [],
   "source": [
    "using Gridap\n",
    "using GridapMakie, CairoMakie, FileIO\n",
    "using Gridap.FESpaces\n",
    "using Gridap.ReferenceFEs\n",
    "using Gridap.Arrays\n",
    "using Gridap.Algebra\n",
    "using Gridap.Geometry\n",
    "using Gridap.Fields\n",
    "using Gridap.CellData\n",
    "using FillArrays\n",
    "using Test\n",
    "using InteractiveUtils\n",
    "using PyPlot\n",
    "using JSON3\n",
    "using Dates\n",
    "using Makie\n",
    "# using Interpolations"
   ]
  },
  {
   "cell_type": "markdown",
   "metadata": {},
   "source": [
    "#### Import Custom functions"
   ]
  },
  {
   "cell_type": "code",
   "execution_count": 173,
   "metadata": {},
   "outputs": [
    {
     "data": {
      "text/plain": [
       "get_control_int (generic function with 1 method)"
      ]
     },
     "metadata": {},
     "output_type": "display_data"
    }
   ],
   "source": [
    "include(\"Julia_functions/indicator_chi.jl\")\n",
    "include(\"Julia_functions/cost_fun.jl\")\n",
    "include(\"Julia_functions/gradient_descent.jl\")\n",
    "include(\"Julia_functions/solvers.jl\")\n",
    "include(\"Julia_functions/find.jl\")\n",
    "include(\"Julia_functions/res_plot.jl\")\n",
    "include(\"Julia_functions/get_domain.jl\")\n",
    "include(\"Julia_functions/get_price_temp.jl\")\n",
    "include(\"Julia_functions/post_processing.jl\")"
   ]
  },
  {
   "cell_type": "markdown",
   "metadata": {},
   "source": [
    "#### Read JSON File"
   ]
  },
  {
   "cell_type": "code",
   "execution_count": 174,
   "metadata": {},
   "outputs": [
    {
     "data": {
      "text/plain": [
       "(5, 3, Any[(0.75125, 2.32125, \"Left\"), (0.73125, 2.32125, \"Right\")], Any[(0.235, 0.655, \"Top\")], [[2.005, 3.435, 0.10125, 0.20125], [1.765, 3.215, 2.80125, 2.92125]])"
      ]
     },
     "metadata": {},
     "output_type": "display_data"
    }
   ],
   "source": [
    "width, height, windows, doors, heating_elem = get_room(\"Boundary.json\")"
   ]
  },
  {
   "cell_type": "code",
   "execution_count": 175,
   "metadata": {},
   "outputs": [
    {
     "data": {
      "text/plain": [
       "(Any[0.11781, 0.11106, 0.10592, 0.10341, 0.10836, 0.10655, 0.16935, 0.43496, 0.39644], Any[1.38209, 1.3029, 1.2426, 1.21315, 1.27123, 1.24999, 1.98673, 5.10273, 4.65084], Any[282.15, 282.34999999999997, 282.25, 282.34999999999997, 282.15, 281.45, 280.65, 280.84999999999997, 280.75], Any[10, 11, 12, 13, 14, 15, 16, 17, 18])"
      ]
     },
     "metadata": {},
     "output_type": "display_data"
    }
   ],
   "source": [
    "# price_EUR, price_NOK, T_out, hour_lst = get_price_temp(\"WeatherandEnergy.json\")\n",
    "price_EUR, price_NOK, T_out, hour_lst = get_price_temp(\"WeatherandEnergy.json\")"
   ]
  },
  {
   "cell_type": "markdown",
   "metadata": {},
   "source": [
    "#### Boundary conditions"
   ]
  },
  {
   "cell_type": "code",
   "execution_count": 176,
   "metadata": {},
   "outputs": [
    {
     "data": {
      "text/plain": [
       "f_Γ_wall (generic function with 1 method)"
      ]
     },
     "metadata": {},
     "output_type": "display_data"
    }
   ],
   "source": [
    "f_Γ_w = generate_f_Γ(windows, width, height)\n",
    "f_Γ_d = generate_f_Γ(doors, width, height)\n",
    "f_Γ_wall(x) = !(f_Γ_w(x) || f_Γ_d(x))"
   ]
  },
  {
   "cell_type": "markdown",
   "metadata": {},
   "source": [
    "#### Domain & Discretization"
   ]
  },
  {
   "cell_type": "code",
   "execution_count": 177,
   "metadata": {},
   "outputs": [
    {
     "data": {
      "text/plain": [
       "UnconstrainedFESpace()"
      ]
     },
     "metadata": {},
     "output_type": "display_data"
    }
   ],
   "source": [
    "domain = (0, width , 0, height)\n",
    "partition = (25,25)\n",
    "model = CartesianDiscreteModel(domain,partition)\n",
    "update_labels!(1, model, f_Γ_w, \"window\")\n",
    "update_labels!(2, model, f_Γ_d, \"door\")\n",
    "update_labels!(3, model, f_Γ_wall, \"wall\")\n",
    "\n",
    "order = 1\n",
    "degree = 2*order\n",
    "\n",
    "Ω = Triangulation(model)\n",
    "dΩ = Measure(Ω, degree)\n",
    "\n",
    "Γ_w = BoundaryTriangulation(model, tags=\"window\")\n",
    "dΓ_w = Measure(Γ_w, degree)\n",
    "\n",
    "Γ_d = BoundaryTriangulation(model, tags=\"door\")\n",
    "dΓ_d = Measure(Γ_d, degree)\n",
    "\n",
    "Γ_wall = BoundaryTriangulation(model, tags=\"wall\")\n",
    "dΓ_wall = Measure(Γ_wall, degree)\n",
    "\n",
    "reffe = ReferenceFE(lagrangian,Float64,order)\n",
    "Testspace = TestFESpace(model,reffe,conformity=:H1)                         \n",
    "Trialspace = TransientTrialFESpace(Testspace)                                \n",
    "Uspace = FESpace(model, reffe, conformity=:H1)\n",
    "\n",
    "# fig = CairoMakie.plot(Ω)\n",
    "# scatter!(Ω, marker=:circle, markersize=20, color=:blue) \n",
    "# display(fig)"
   ]
  },
  {
   "cell_type": "markdown",
   "metadata": {},
   "source": [
    "#### Time parameters"
   ]
  },
  {
   "cell_type": "code",
   "execution_count": 178,
   "metadata": {},
   "outputs": [
    {
     "data": {
      "text/plain": [
       "10"
      ]
     },
     "metadata": {},
     "output_type": "display_data"
    }
   ],
   "source": [
    "t0 = 0.0    # Start time\n",
    "tF = 28800   # End time\n",
    "Δt = 10\n",
    "# tF = 10.0\n",
    "# Δt = 0.05   # Timestep"
   ]
  },
  {
   "cell_type": "markdown",
   "metadata": {},
   "source": [
    "#### Room parameters"
   ]
  },
  {
   "cell_type": "code",
   "execution_count": 179,
   "metadata": {},
   "outputs": [
    {
     "data": {
      "text/plain": [
       "SingleFieldFEFunction():\n",
       " num_cells: 625\n",
       " DomainStyle: ReferenceDomain()\n",
       " Triangulation: BodyFittedTriangulation()\n",
       " Triangulation id: 282587541835656308"
      ]
     },
     "metadata": {},
     "output_type": "display_data"
    }
   ],
   "source": [
    "# h_wall(x) = 0.01\n",
    "# h_window(x) = 0.01\n",
    "# h_door(x) = 0.01\n",
    "\n",
    "# ρ(x)=1\n",
    "# c(x)=1\n",
    "# k(x)=10\n",
    "\n",
    "h_wall(x) = 0.22*0.02           # [W/m^2K]\n",
    "h_window(x) = 1.2*0.02\n",
    "h_door(x) = 1.0*0.02 #mindre?\n",
    "\n",
    "ρ(x)=1.225\n",
    "c(x)=1020.0\n",
    "k(x)=5#3.5\n",
    "\n",
    "\n",
    "h = (h_wall, h_window, h_door) \n",
    "constants = (c, ρ, k, h) \n",
    "\n",
    "\n",
    "Tout = get_temp_function(T_out, tF)\n",
    "\n",
    "Tini(x)=273.15 + 22.0\n",
    "\n",
    "TIni=interpolate_everywhere(Tini, Uspace(t0))\n",
    "Tfin=interpolate_everywhere(Tini, Uspace(tF))"
   ]
  },
  {
   "cell_type": "markdown",
   "metadata": {},
   "source": [
    "#### Controll parameter"
   ]
  },
  {
   "cell_type": "code",
   "execution_count": 180,
   "metadata": {},
   "outputs": [
    {
     "data": {
      "text/plain": [
       "Qt (generic function with 1 method)"
      ]
     },
     "metadata": {},
     "output_type": "display_data"
    }
   ],
   "source": [
    "#q_pos(x) = χ(x[1], 0.21, 1.73) * χ(x[2], 0.13, 0.16)\n",
    "q_pos = heating_elements(heating_elem)\n",
    "\n",
    "Q(x,t)=0#150*q_pos(x)*χ(t,6.0,9.0)\n",
    "Qt(t)=x->Q(x,t)"
   ]
  },
  {
   "cell_type": "markdown",
   "metadata": {},
   "source": [
    "#### Solver parameters"
   ]
  },
  {
   "cell_type": "code",
   "execution_count": 181,
   "metadata": {},
   "outputs": [
    {
     "name": "stdout",
     "output_type": "stream",
     "text": [
      "100.79999999999991\n"
     ]
    },
    {
     "data": {
      "text/plain": [
       "Proj (generic function with 2 methods)"
      ]
     },
     "metadata": {},
     "output_type": "display_data"
    }
   ],
   "source": [
    "# L2norm(u)=√((tF-t0)*∑(Δt*∑(∫(uu⋅uu)*dΩ) for (t,uu) in u))\n",
    "# L2skp(u)=(tF-t0)*∑(Δt*∑(∫(uu⋅uu)*dΩ) for (t,uu) in u)\n",
    "\n",
    "L2norm(u)=√(Δt*((∑(∫(u[1][2]⋅u[1][2])*dΩ)+∑(∫(u[end][2]⋅u[end][2])*dΩ))/2 + ∑(∑(∫(u[k][2]⋅u[k][2])*dΩ) for k=2:length(u)-1)))\n",
    "L2skp(u)=Δt*((∑(∫(u[1][2]⋅u[1][2])*dΩ)+∑(∫(u[end][2]⋅u[end][2])*dΩ))/2 + ∑(∑(∫(u[k][2]⋅u[k][2])*dΩ) for k=2:length(u)-1))\n",
    "get_control_int(qs) = [∑(∫(u)*dΩ) for (t,u) in qs] ./ ∑(∫(q_pos)*dΩ)\n",
    "get_temperature_int(Ts) = [∑(∫(temp)*dΩ) for (t,temp) in Ts] ./ ∑(∫(1)*dΩ)\n",
    "\n",
    "\n",
    "Proj(a,b,z) = min(max(a,z),b)\n",
    "a=0.0\n",
    "b=400*(∑(∫(q_pos)*dΩ))\n",
    "println(b)\n",
    "Proj(z) = [(t,FEFunction(Uspace,map(x->Proj(a,b,x), get_free_dof_values(zz)))) for (t,zz) in z]"
   ]
  },
  {
   "cell_type": "markdown",
   "metadata": {},
   "source": [
    "#### Test Gradient DEs"
   ]
  },
  {
   "cell_type": "code",
   "execution_count": 182,
   "metadata": {},
   "outputs": [
    {
     "name": "stdout",
     "output_type": "stream",
     "text": [
      "T computed\n",
      "W computed\n",
      "entered for loop, E=1.0207905669993106e6, k = 1\n",
      "α = 10, new_cost = 649655.5511486433, L2fgrad = 3910.241196448855, interm = 0.0\n",
      "entered for loop, E=649655.5511486433, k = 2\n",
      "α = 10, new_cost = 415926.4087286574, L2fgrad = 3114.905442979677, interm = 0.0\n",
      "entered for loop, E=415926.4087286574, k = 3\n",
      "α = 10, new_cost = 266308.53485314094, L2fgrad = 2495.8633779819884, interm = 0.0\n",
      "entered for loop, E=266308.53485314094, k = 4\n",
      "α = 10, new_cost = 170570.60685006026, L2fgrad = 1992.7830418174556, interm = 0.0\n",
      "entered for loop, E=170570.60685006026, k = 5\n",
      "α = 10, new_cost = 109275.84443822612, L2fgrad = 1597.8767852960314, interm = 0.0\n",
      "entered for loop, E=109275.84443822612, k = 6\n",
      "α = 10, new_cost = 70053.58411079677, L2fgrad = 1274.7227565028554, interm = 0.0\n",
      "entered for loop, E=70053.58411079677, k = 7\n",
      "α = 10, new_cost = 44935.3053289747, L2fgrad = 1023.1597391240151, interm = 0.0\n",
      "entered for loop, E=44935.3053289747, k = 8\n",
      "α = 10, new_cost = 28859.859335757803, L2fgrad = 815.242944166254, interm = 0.0\n",
      "entered for loop, E=28859.859335757803, k = 9\n",
      "α = 10, new_cost = 18560.865369733943, L2fgrad = 655.3175692410998, interm = 0.0\n",
      "entered for loop, E=18560.865369733943, k = 10\n",
      "α = 10, new_cost = 11965.366847222678, L2fgrad = 521.2326386014657, interm = 0.0\n",
      "entered for loop, E=11965.366847222678, k = 11\n",
      "α = 10, new_cost = 7738.735631055027, L2fgrad = 419.8308512834104, interm = 0.0\n",
      "entered for loop, E=7738.735631055027, k = 12\n",
      "α = 10, new_cost = 5028.579299970468, L2fgrad = 333.0766468914351, interm = 0.0\n",
      "entered for loop, E=5028.579299970468, k = 13\n",
      "α = 10, new_cost = 3290.7089068111995, L2fgrad = 269.05746696260115, interm = 0.0\n",
      "entered for loop, E=3290.7089068111995, k = 14\n",
      "α = 10, new_cost = 2173.5793817766435, L2fgrad = 212.66718053008657, interm = 0.0\n",
      "entered for loop, E=2173.5793817766435, k = 15\n",
      "α = 10, new_cost = 1456.297497941992, L2fgrad = 172.48240811028933, interm = 0.0\n",
      "entered for loop, E=1456.297497941992, k = 16\n",
      "α = 10, new_cost = 993.3884611550327, L2fgrad = 135.5945632064369, interm = 0.0\n",
      "entered for loop, E=993.3884611550327, k = 17\n",
      "α = 10, new_cost = 694.9384253782739, L2fgrad = 110.58681933296202, interm = 0.0\n",
      "entered for loop, E=694.9384253782739, k = 18\n",
      "α = 10, new_cost = 501.51934872722694, L2fgrad = 86.24851496951031, interm = 0.0\n",
      "entered for loop, E=501.51934872722694, k = 19\n",
      "α = 10, new_cost = 375.5054273970861, L2fgrad = 70.91464119028328, interm = 0.0\n",
      "entered for loop, E=375.5054273970861, k = 20\n",
      "α = 10, new_cost = 293.3976776116681, L2fgrad = 54.69821976671721, interm = 0.0\n",
      "entered for loop, E=293.3976776116681, k = 21\n",
      "α = 10, new_cost = 239.05847209184992, L2fgrad = 45.51201347490469, interm = 0.0\n",
      "entered for loop, E=239.05847209184992, k = 22\n",
      "α = 10, new_cost = 202.72738527399304, L2fgrad = 34.61872521425247, interm = 0.0\n",
      "entered for loop, E=202.72738527399304, k = 23\n",
      "α = 10, new_cost = 177.74630306999748, L2fgrad = 29.42116379728489, interm = 0.0\n",
      "entered for loop, E=177.74630306999748, k = 24\n",
      "α = 10, new_cost = 160.4226088776794, L2fgrad = 21.986638926972553, interm = 0.0\n",
      "entered for loop, E=160.4226088776794, k = 25\n",
      "α = 10, new_cost = 147.925998799928, L2fgrad = 19.276926758698224, interm = 0.0\n",
      "entered for loop, E=147.925998799928, k = 26\n",
      "α = 10, new_cost = 138.57205184788972, L2fgrad = 14.169477540488858, interm = 0.0\n",
      "entered for loop, E=138.57205184788972, k = 27\n",
      "α = 10, new_cost = 131.1786533741789, L2fgrad = 13.007417305609101, interm = 0.0\n",
      "entered for loop, E=131.1786533741789, k = 28\n",
      "α = 10, new_cost = 125.30319545517237, L2fgrad = 9.468861011820662, interm = 0.0\n",
      "entered for loop, E=125.30319545517237, k = 29\n",
      "α = 10, new_cost = 120.4080178094835, L2fgrad = 9.216544637705677, interm = 0.0\n",
      "entered for loop, E=120.4080178094835, k = 30\n",
      "α = 10, new_cost = 116.18351160333523, L2fgrad = 6.841169175840962, interm = 0.0\n"
     ]
    },
    {
     "data": {
      "text/plain": [
       "(Tuple{Float64, SingleFieldFEFunction{GenericCellField{ReferenceDomain}}}[(0.0, SingleFieldFEFunction()), (10.0, SingleFieldFEFunction()), (20.0, SingleFieldFEFunction()), (30.0, SingleFieldFEFunction()), (40.0, SingleFieldFEFunction()), (50.0, SingleFieldFEFunction()), (60.0, SingleFieldFEFunction()), (70.0, SingleFieldFEFunction()), (80.0, SingleFieldFEFunction()), (90.0, SingleFieldFEFunction())  …  (28710.0, SingleFieldFEFunction()), (28720.0, SingleFieldFEFunction()), (28730.0, SingleFieldFEFunction()), (28740.0, SingleFieldFEFunction()), (28750.0, SingleFieldFEFunction()), (28760.0, SingleFieldFEFunction()), (28770.0, SingleFieldFEFunction()), (28780.0, SingleFieldFEFunction()), (28790.0, SingleFieldFEFunction()), (28800.0, SingleFieldFEFunction())], Tuple{Float64, SingleFieldFEFunction{GenericCellField{ReferenceDomain}}}[(0.0, SingleFieldFEFunction()), (10.0, SingleFieldFEFunction()), (20.0, SingleFieldFEFunction()), (30.0, SingleFieldFEFunction()), (40.0, SingleFieldFEFunction()), (50.0, SingleFieldFEFunction()), (60.0, SingleFieldFEFunction()), (70.0, SingleFieldFEFunction()), (80.0, SingleFieldFEFunction()), (90.0, SingleFieldFEFunction())  …  (28710.0, SingleFieldFEFunction()), (28720.0, SingleFieldFEFunction()), (28730.0, SingleFieldFEFunction()), (28740.0, SingleFieldFEFunction()), (28750.0, SingleFieldFEFunction()), (28760.0, SingleFieldFEFunction()), (28770.0, SingleFieldFEFunction()), (28780.0, SingleFieldFEFunction()), (28790.0, SingleFieldFEFunction()), (28800.0, SingleFieldFEFunction())], Tuple{Real, SingleFieldFEFunction{GenericCellField{ReferenceDomain}}}[(0.0, SingleFieldFEFunction()), (10.0, SingleFieldFEFunction()), (20.0, SingleFieldFEFunction()), (30.0, SingleFieldFEFunction()), (40.0, SingleFieldFEFunction()), (50.0, SingleFieldFEFunction()), (60.0, SingleFieldFEFunction()), (70.0, SingleFieldFEFunction()), (80.0, SingleFieldFEFunction()), (90.0, SingleFieldFEFunction())  …  (28710.0, SingleFieldFEFunction()), (28720.0, SingleFieldFEFunction()), (28730.0, SingleFieldFEFunction()), (28740.0, SingleFieldFEFunction()), (28750.0, SingleFieldFEFunction()), (28760.0, SingleFieldFEFunction()), (28770.0, SingleFieldFEFunction()), (28780.0, SingleFieldFEFunction()), (28790.0, SingleFieldFEFunction()), (28800, SingleFieldFEFunction())], [1.0207905669993106e6, 649655.5511486433, 415926.4087286574, 266308.53485314094, 170570.60685006026, 109275.84443822612, 70053.58411079677, 44935.3053289747, 28859.859335757803, 18560.865369733943  …  239.05847209184992, 202.72738527399304, 177.74630306999748, 160.4226088776794, 147.925998799928, 138.57205184788972, 131.1786533741789, 125.30319545517237, 120.4080178094835, 116.18351160333523])"
      ]
     },
     "metadata": {},
     "output_type": "display_data"
    }
   ],
   "source": [
    "price = t -> 0\n",
    "\n",
    "γ = 1.225*1020\n",
    "# γ = 1e7\n",
    "Q(x,t)= 0#χ(t,0.0,tF/2)*20.0*q_pos(x)*0.0\n",
    "Qt(t)=x->Q(x,t)\n",
    "\n",
    "(Ts,qs,Ws,costs) = GradientDescent(;solveSE=SEsolver, \n",
    "solveAE=AEsolver, \n",
    "spaces=(Trialspace, Testspace, Uspace), \n",
    "dΩ=dΩ, \n",
    "dΓ=(dΓ_w,dΓ_d,dΓ_wall), \n",
    "Q=Qt, \n",
    "J=E, \n",
    "∇f=∇e, \n",
    "P=Proj, \n",
    "s_min=s_min,\n",
    "sminargs=nothing, \n",
    "saveall=false, \n",
    "tol=1e-5, \n",
    "iter_max=30,\n",
    "armijoparas=(ρ=0.5, α_0=10, α_min=1e-3, σ=0.0), \n",
    "Δt=Δt, \n",
    "t0=t0,\n",
    "tF=tF,\n",
    "Tout=Tout,\n",
    "constants=constants,\n",
    "Tfin=Tfin,\n",
    "q_pos=q_pos)"
   ]
  },
  {
   "cell_type": "code",
   "execution_count": 183,
   "metadata": {},
   "outputs": [
    {
     "data": {
      "text/plain": [
       "CairoMakie.Screen{IMAGE}\n"
      ]
     },
     "metadata": {},
     "output_type": "display_data"
    }
   ],
   "source": [
    "price = t -> 0\n",
    "c1_zero = (plot_costs2(costs))\n",
    "CairoMakie.save(\"price_zero_convergence.png\", c1_zero)\n",
    "\n",
    "\n",
    "Q_int = get_control_int(qs)\n",
    "T_int = get_temperature_int(Ts)\n",
    "c2_zero = result_plot2(;T_int,Q_int,t0,tF,hour_lst,price_NOK,T_out)\n",
    "CairoMakie.save(\"price_zero_result.png\", c2_zero)"
   ]
  },
  {
   "cell_type": "code",
   "execution_count": 184,
   "metadata": {},
   "outputs": [
    {
     "name": "stdout",
     "output_type": "stream",
     "text": [
      "T computed\n",
      "W computed\n",
      "entered for loop, E=2.0415811339986213e6, k = 1\n",
      "α = 10.0, new_cost = 5.250070987427072e6, L2fgrad = 6971.255466816153, interm = 0.0\n",
      "α = 5.0, new_cost = 1.4095916097289005e6, L2fgrad = 6971.255466816153, interm = 0.0\n",
      "entered for loop, E=1.4095916097289005e6, k = 2\n",
      "α = 10.0, new_cost = 2.0415811339986213e6, L2fgrad = 5584.210315584089, interm = 0.0\n",
      "α = 5.0, new_cost = 934773.0338848179, L2fgrad = 5584.210315584089, interm = 0.0\n",
      "entered for loop, E=934773.0338848179, k = 3\n",
      "α = 10.0, new_cost = 3.439644603661912e6, L2fgrad = 4181.672545324251, interm = 0.0\n",
      "α = 5.0, new_cost = 676437.5251155067, L2fgrad = 4181.672545324251, interm = 0.0\n",
      "entered for loop, E=676437.5251155067, k = 4\n",
      "α = 10.0, new_cost = 1.3969830152888969e6, L2fgrad = 3363.3663070908406, interm = 0.0\n",
      "α = 5.0, new_cost = 471505.35198474606, L2fgrad = 3363.3663070908406, interm = 0.0\n",
      "entered for loop, E=471505.35198474606, k = 5\n",
      "α = 10.0, new_cost = 1.3034045548330387e6, L2fgrad = 2302.1929914424595, interm = 0.0\n",
      "α = 5.0, new_cost = 364665.1036135539, L2fgrad = 2302.1929914424595, interm = 0.0\n",
      "entered for loop, E=364665.1036135539, k = 6\n",
      "α = 10.0, new_cost = 605367.2830140777, L2fgrad = 1896.778661962306, interm = 0.0\n",
      "α = 5.0, new_cost = 289218.91024316574, L2fgrad = 1896.778661962306, interm = 0.0\n",
      "entered for loop, E=289218.91024316574, k = 7\n",
      "α = 10.0, new_cost = 407075.2994803423, L2fgrad = 1131.4652985024943, interm = 0.0\n",
      "α = 5.0, new_cost = 246356.67639646583, L2fgrad = 1131.4652985024943, interm = 0.0\n",
      "entered for loop, E=246356.67639646583, k = 8\n",
      "α = 10.0, new_cost = 258431.9211911347, L2fgrad = 1070.527803832168, interm = 0.0\n",
      "α = 5.0, new_cost = 221657.4402787769, L2fgrad = 1070.527803832168, interm = 0.0\n",
      "entered for loop, E=221657.4402787769, k = 9\n",
      "α = 10.0, new_cost = 207265.7893505195, L2fgrad = 692.1569458795021, interm = 0.0\n",
      "entered for loop, E=207265.7893505195, k = 10\n",
      "α = 10.0, new_cost = 208866.57226429426, L2fgrad = 1197.4500912538974, interm = 0.0\n",
      "α = 5.0, new_cost = 179092.47877307548, L2fgrad = 1197.4500912538974, interm = 0.0\n",
      "entered for loop, E=179092.47877307548, k = 11\n",
      "α = 10.0, new_cost = 163804.28306466044, L2fgrad = 673.7831273304159, interm = 0.0\n",
      "entered for loop, E=163804.28306466044, k = 12\n",
      "α = 10.0, new_cost = 151125.74638213223, L2fgrad = 1049.6177605437506, interm = 0.0\n",
      "entered for loop, E=151125.74638213223, k = 13\n",
      "α = 10.0, new_cost = 139724.22525209075, L2fgrad = 670.4915038143329, interm = 0.0\n",
      "entered for loop, E=139724.22525209075, k = 14\n",
      "α = 10.0, new_cost = 138847.5693517252, L2fgrad = 939.8412411844662, interm = 0.0\n",
      "entered for loop, E=138847.5693517252, k = 15\n",
      "α = 10.0, new_cost = 138289.39529702778, L2fgrad = 877.29137030111, interm = 0.0\n",
      "entered for loop, E=138289.39529702778, k = 16\n",
      "α = 10.0, new_cost = 137752.27945297488, L2fgrad = 873.9003722773247, interm = 0.0\n",
      "entered for loop, E=137752.27945297488, k = 17\n",
      "α = 10.0, new_cost = 137232.4493643888, L2fgrad = 871.5681298571369, interm = 0.0\n",
      "entered for loop, E=137232.4493643888, k = 18\n",
      "α = 10.0, new_cost = 136729.3270894059, L2fgrad = 869.5724395439805, interm = 0.0\n",
      "entered for loop, E=136729.3270894059, k = 19\n",
      "α = 10.0, new_cost = 136242.44125476832, L2fgrad = 867.617033929217, interm = 0.0\n",
      "entered for loop, E=136242.44125476832, k = 20\n",
      "α = 10.0, new_cost = 135771.3820306143, L2fgrad = 865.6783309349622, interm = 0.0\n",
      "entered for loop, E=135771.3820306143, k = 21\n",
      "α = 10.0, new_cost = 135315.77066561065, L2fgrad = 863.7504874671392, interm = 0.0\n",
      "entered for loop, E=135315.77066561065, k = 22\n",
      "α = 10.0, new_cost = 134875.28189936618, L2fgrad = 861.8317612384178, interm = 0.0\n",
      "entered for loop, E=134875.28189936618, k = 23\n",
      "α = 10.0, new_cost = 134449.6167857489, L2fgrad = 859.9184710690394, interm = 0.0\n",
      "entered for loop, E=134449.6167857489, k = 24\n",
      "α = 10.0, new_cost = 134038.51587479207, L2fgrad = 858.0090173697535, interm = 0.0\n",
      "entered for loop, E=134038.51587479207, k = 25\n",
      "α = 10.0, new_cost = 133641.75947417744, L2fgrad = 856.1007422863222, interm = 0.0\n",
      "entered for loop, E=133641.75947417744, k = 26\n",
      "α = 10.0, new_cost = 133259.1475761784, L2fgrad = 854.1905665144692, interm = 0.0\n",
      "entered for loop, E=133259.1475761784, k = 27\n",
      "α = 10.0, new_cost = 132890.70033016166, L2fgrad = 852.2770262172975, interm = 0.0\n",
      "entered for loop, E=132890.70033016166, k = 28\n",
      "α = 10.0, new_cost = 132548.86976809186, L2fgrad = 850.3662949653818, interm = 0.0\n",
      "entered for loop, E=132548.86976809186, k = 29\n",
      "α = 10.0, new_cost = 132238.26150066813, L2fgrad = 849.0669320982274, interm = 0.0\n",
      "entered for loop, E=132238.26150066813, k = 30\n",
      "α = 10.0, new_cost = 131955.37837674303, L2fgrad = 848.3138019149876, interm = 0.0\n"
     ]
    },
    {
     "data": {
      "text/plain": [
       "(Tuple{Float64, SingleFieldFEFunction{GenericCellField{ReferenceDomain}}}[(0.0, SingleFieldFEFunction()), (10.0, SingleFieldFEFunction()), (20.0, SingleFieldFEFunction()), (30.0, SingleFieldFEFunction()), (40.0, SingleFieldFEFunction()), (50.0, SingleFieldFEFunction()), (60.0, SingleFieldFEFunction()), (70.0, SingleFieldFEFunction()), (80.0, SingleFieldFEFunction()), (90.0, SingleFieldFEFunction())  …  (28710.0, SingleFieldFEFunction()), (28720.0, SingleFieldFEFunction()), (28730.0, SingleFieldFEFunction()), (28740.0, SingleFieldFEFunction()), (28750.0, SingleFieldFEFunction()), (28760.0, SingleFieldFEFunction()), (28770.0, SingleFieldFEFunction()), (28780.0, SingleFieldFEFunction()), (28790.0, SingleFieldFEFunction()), (28800.0, SingleFieldFEFunction())], Tuple{Float64, SingleFieldFEFunction{GenericCellField{ReferenceDomain}}}[(0.0, SingleFieldFEFunction()), (10.0, SingleFieldFEFunction()), (20.0, SingleFieldFEFunction()), (30.0, SingleFieldFEFunction()), (40.0, SingleFieldFEFunction()), (50.0, SingleFieldFEFunction()), (60.0, SingleFieldFEFunction()), (70.0, SingleFieldFEFunction()), (80.0, SingleFieldFEFunction()), (90.0, SingleFieldFEFunction())  …  (28710.0, SingleFieldFEFunction()), (28720.0, SingleFieldFEFunction()), (28730.0, SingleFieldFEFunction()), (28740.0, SingleFieldFEFunction()), (28750.0, SingleFieldFEFunction()), (28760.0, SingleFieldFEFunction()), (28770.0, SingleFieldFEFunction()), (28780.0, SingleFieldFEFunction()), (28790.0, SingleFieldFEFunction()), (28800.0, SingleFieldFEFunction())], Tuple{Real, SingleFieldFEFunction{GenericCellField{ReferenceDomain}}}[(0.0, SingleFieldFEFunction()), (10.0, SingleFieldFEFunction()), (20.0, SingleFieldFEFunction()), (30.0, SingleFieldFEFunction()), (40.0, SingleFieldFEFunction()), (50.0, SingleFieldFEFunction()), (60.0, SingleFieldFEFunction()), (70.0, SingleFieldFEFunction()), (80.0, SingleFieldFEFunction()), (90.0, SingleFieldFEFunction())  …  (28710.0, SingleFieldFEFunction()), (28720.0, SingleFieldFEFunction()), (28730.0, SingleFieldFEFunction()), (28740.0, SingleFieldFEFunction()), (28750.0, SingleFieldFEFunction()), (28760.0, SingleFieldFEFunction()), (28770.0, SingleFieldFEFunction()), (28780.0, SingleFieldFEFunction()), (28790.0, SingleFieldFEFunction()), (28800, SingleFieldFEFunction())], [2.0415811339986213e6, 1.4095916097289005e6, 934773.0338848179, 676437.5251155067, 471505.35198474606, 364665.1036135539, 289218.91024316574, 246356.67639646583, 221657.4402787769, 207265.7893505195  …  135315.77066561065, 134875.28189936618, 134449.6167857489, 134038.51587479207, 133641.75947417744, 133259.1475761784, 132890.70033016166, 132548.86976809186, 132238.26150066813, 131955.37837674303])"
      ]
     },
     "metadata": {},
     "output_type": "display_data"
    }
   ],
   "source": [
    "price = t -> 0.4 + χ(t,-1,3000)*2 + χ(t,10000,15000)*2 + χ(t,23000,28800+1)*2\n",
    "γ = 1.225*1020*2\n",
    "\n",
    "(Ts2,qs2,Ws2,costs2) = GradientDescent(;solveSE=SEsolver, \n",
    "solveAE=AEsolver, \n",
    "spaces=(Trialspace, Testspace, Uspace), \n",
    "dΩ=dΩ, \n",
    "dΓ=(dΓ_w,dΓ_d,dΓ_wall), \n",
    "Q=Qt, \n",
    "J=E, \n",
    "∇f=∇e, \n",
    "P=Proj, \n",
    "s_min=s_min,\n",
    "sminargs=nothing, \n",
    "saveall=false, \n",
    "tol=1e-5, \n",
    "iter_max=30,\n",
    "armijoparas=(ρ=0.5, α_0=10.0, α_min=1e-4, σ=0.0), \n",
    "Δt=Δt, \n",
    "t0=t0,\n",
    "tF=tF,\n",
    "Tout=Tout,\n",
    "constants=constants,\n",
    "Tfin=Tfin,\n",
    "q_pos=q_pos)"
   ]
  },
  {
   "cell_type": "code",
   "execution_count": 185,
   "metadata": {},
   "outputs": [
    {
     "data": {
      "text/plain": [
       "CairoMakie.Screen{IMAGE}\n"
      ]
     },
     "metadata": {},
     "output_type": "display_data"
    }
   ],
   "source": [
    "price = t -> 0.4 + χ(t,-1,3000)*2 + χ(t,10000,15000)*2 + χ(t,23000,28800+1)*2\n",
    "\n",
    "# c1_step = (plot_costs(costs2))\n",
    "c1_step = (plot_costs2(costs2))\n",
    "\n",
    "CairoMakie.save(\"price_step_convergence.png\", c1_step)\n",
    "\n",
    "\n",
    "Q_int = get_control_int(qs2)\n",
    "T_int = get_temperature_int(Ts2)\n",
    "c2_step = result_plot2(;T_int,Q_int,t0,tF,hour_lst,price_NOK,T_out)\n",
    "CairoMakie.save(\"price_step_result.png\", c2_step)\n",
    "\n"
   ]
  },
  {
   "cell_type": "code",
   "execution_count": 196,
   "metadata": {},
   "outputs": [
    {
     "name": "stdout",
     "output_type": "stream",
     "text": [
      "T computed\n",
      "W computed\n",
      "entered for loop, E=3.062371700997932e6, k = 1\n",
      "α = 10, new_cost = 1.088772897234485e7, L2fgrad = 10391.189992044807, interm = 0.0\n",
      "α = 5.0, new_cost = 6.200814419100747e6, L2fgrad = 10391.189992044807, interm = 0.0\n",
      "α = 2.5, new_cost = 942393.8815304266, L2fgrad = 10391.189992044807, interm = 0.0\n",
      "entered for loop, E=942393.8815304266, k = 2\n",
      "α = 10, new_cost = 3.062371700997932e6, L2fgrad = 3666.6310918446893, interm = 0.0\n",
      "α = 5.0, new_cost = 1.4574351566956935e6, L2fgrad = 3666.6310918446893, interm = 0.0\n",
      "α = 2.5, new_cost = 665415.2891397068, L2fgrad = 3666.6310918446893, interm = 0.0\n",
      "entered for loop, E=665415.2891397068, k = 3\n",
      "α = 10, new_cost = 1.2480536022944455e6, L2fgrad = 1393.369746691752, interm = 0.0\n",
      "α = 5.0, new_cost = 694803.4408140454, L2fgrad = 1393.369746691752, interm = 0.0\n",
      "α = 2.5, new_cost = 614626.613751116, L2fgrad = 1393.369746691752, interm = 0.0\n",
      "entered for loop, E=614626.613751116, k = 4\n",
      "α = 10, new_cost = 618038.4968963676, L2fgrad = 713.2600388624014, interm = 0.0\n",
      "α = 5.0, new_cost = 584347.720478318, L2fgrad = 713.2600388624014, interm = 0.0\n",
      "entered for loop, E=584347.720478318, k = 5\n",
      "α = 10, new_cost = 741426.1487434566, L2fgrad = 943.9159270904172, interm = 0.0\n",
      "α = 5.0, new_cost = 570144.4568536177, L2fgrad = 943.9159270904172, interm = 0.0\n",
      "entered for loop, E=570144.4568536177, k = 6\n",
      "α = 10, new_cost = 802962.0531196807, L2fgrad = 1399.8593045425469, interm = 0.0\n",
      "α = 5.0, new_cost = 584465.135416083, L2fgrad = 1399.8593045425469, interm = 0.0\n",
      "α = 2.5, new_cost = 518755.417149999, L2fgrad = 1399.8593045425469, interm = 0.0\n",
      "entered for loop, E=518755.417149999, k = 7\n",
      "α = 10, new_cost = 547599.1778288339, L2fgrad = 719.5072353935275, interm = 0.0\n",
      "α = 5.0, new_cost = 493323.5008976112, L2fgrad = 719.5072353935275, interm = 0.0\n",
      "entered for loop, E=493323.5008976112, k = 8\n",
      "α = 10, new_cost = 514578.1203015072, L2fgrad = 990.9269910256065, interm = 0.0\n",
      "α = 5.0, new_cost = 477885.8159614492, L2fgrad = 990.9269910256065, interm = 0.0\n",
      "entered for loop, E=477885.8159614492, k = 9\n",
      "α = 10, new_cost = 550341.6468708116, L2fgrad = 707.593578368056, interm = 0.0\n",
      "α = 5.0, new_cost = 467969.20559725305, L2fgrad = 707.593578368056, interm = 0.0\n",
      "entered for loop, E=467969.20559725305, k = 10\n",
      "α = 10, new_cost = 504895.640886762, L2fgrad = 1154.0051290820518, interm = 0.0\n",
      "α = 5.0, new_cost = 460804.01174410176, L2fgrad = 1154.0051290820518, interm = 0.0\n",
      "entered for loop, E=460804.01174410176, k = 11\n",
      "α = 10, new_cost = 480971.8947796232, L2fgrad = 567.1076975339171, interm = 0.0\n",
      "α = 5.0, new_cost = 455410.4076446049, L2fgrad = 567.1076975339171, interm = 0.0\n",
      "entered for loop, E=455410.4076446049, k = 12\n",
      "α = 10, new_cost = 462995.8517598825, L2fgrad = 936.1096219669295, interm = 0.0\n",
      "α = 5.0, new_cost = 451455.73330468644, L2fgrad = 936.1096219669295, interm = 0.0\n",
      "entered for loop, E=451455.73330468644, k = 13\n",
      "α = 10, new_cost = 454200.2033939356, L2fgrad = 581.6507632925745, interm = 0.0\n",
      "α = 5.0, new_cost = 448440.167996877, L2fgrad = 581.6507632925745, interm = 0.0\n",
      "entered for loop, E=448440.167996877, k = 14\n",
      "α = 10, new_cost = 447649.27260608296, L2fgrad = 815.8493527133505, interm = 0.0\n",
      "entered for loop, E=447649.27260608296, k = 15\n",
      "α = 10, new_cost = 460101.3873213066, L2fgrad = 561.44245301156, interm = 0.0\n",
      "α = 5.0, new_cost = 443879.8224526963, L2fgrad = 561.44245301156, interm = 0.0\n",
      "entered for loop, E=443879.8224526963, k = 16\n",
      "α = 10, new_cost = 447210.3430059182, L2fgrad = 890.1318744231596, interm = 0.0\n",
      "α = 5.0, new_cost = 441296.71714662394, L2fgrad = 890.1318744231596, interm = 0.0\n",
      "entered for loop, E=441296.71714662394, k = 17\n",
      "α = 10, new_cost = 441171.7013966195, L2fgrad = 614.689804161592, interm = 0.0\n",
      "entered for loop, E=441171.7013966195, k = 18\n",
      "α = 10, new_cost = 452155.6389064543, L2fgrad = 1005.403281606438, interm = 0.0\n",
      "α = 5.0, new_cost = 437580.6174958918, L2fgrad = 1005.403281606438, interm = 0.0\n",
      "entered for loop, E=437580.6174958918, k = 19\n",
      "α = 10, new_cost = 439627.6802253483, L2fgrad = 591.6422410390913, interm = 0.0\n",
      "α = 5.0, new_cost = 435447.0543132041, L2fgrad = 591.6422410390913, interm = 0.0\n",
      "entered for loop, E=435447.0543132041, k = 20\n",
      "α = 10, new_cost = 434795.9315297391, L2fgrad = 802.7984294851329, interm = 0.0\n",
      "entered for loop, E=434795.9315297391, k = 21\n",
      "α = 10, new_cost = 437718.8941557398, L2fgrad = 578.1948059685277, interm = 0.0\n",
      "α = 5.0, new_cost = 432446.630270839, L2fgrad = 578.1948059685277, interm = 0.0\n",
      "entered for loop, E=432446.630270839, k = 22\n",
      "α = 10, new_cost = 431883.83408638986, L2fgrad = 794.6876631210184, interm = 0.0\n",
      "entered for loop, E=431883.83408638986, k = 23\n",
      "α = 10, new_cost = 433269.05046890676, L2fgrad = 587.8626836504251, interm = 0.0\n",
      "α = 5.0, new_cost = 430022.27825932554, L2fgrad = 587.8626836504251, interm = 0.0\n",
      "entered for loop, E=430022.27825932554, k = 24\n",
      "α = 10, new_cost = 429217.0033439512, L2fgrad = 764.7932078332259, interm = 0.0\n",
      "entered for loop, E=429217.0033439512, k = 25\n",
      "α = 10, new_cost = 429092.66037967836, L2fgrad = 617.8384311452278, interm = 0.0\n",
      "entered for loop, E=429092.66037967836, k = 26\n",
      "α = 10, new_cost = 430617.9410736462, L2fgrad = 878.2631162396909, interm = 0.0\n",
      "α = 5.0, new_cost = 427347.6610550573, L2fgrad = 878.2631162396909, interm = 0.0\n",
      "entered for loop, E=427347.6610550573, k = 27\n",
      "α = 10, new_cost = 426613.2744217296, L2fgrad = 656.0071477884375, interm = 0.0\n",
      "entered for loop, E=426613.2744217296, k = 28\n",
      "α = 10, new_cost = 426206.0059486069, L2fgrad = 775.066275903107, interm = 0.0\n",
      "entered for loop, E=426206.0059486069, k = 29\n",
      "α = 10, new_cost = 426178.6389731363, L2fgrad = 607.3835134658914, interm = 0.0\n",
      "entered for loop, E=426178.6389731363, k = 30\n",
      "α = 10, new_cost = 427087.4181293084, L2fgrad = 864.3481074863585, interm = 0.0\n",
      "α = 5.0, new_cost = 424604.90878361434, L2fgrad = 864.3481074863585, interm = 0.0\n"
     ]
    },
    {
     "data": {
      "text/plain": [
       "(Tuple{Float64, SingleFieldFEFunction{GenericCellField{ReferenceDomain}}}[(0.0, SingleFieldFEFunction()), (10.0, SingleFieldFEFunction()), (20.0, SingleFieldFEFunction()), (30.0, SingleFieldFEFunction()), (40.0, SingleFieldFEFunction()), (50.0, SingleFieldFEFunction()), (60.0, SingleFieldFEFunction()), (70.0, SingleFieldFEFunction()), (80.0, SingleFieldFEFunction()), (90.0, SingleFieldFEFunction())  …  (28710.0, SingleFieldFEFunction()), (28720.0, SingleFieldFEFunction()), (28730.0, SingleFieldFEFunction()), (28740.0, SingleFieldFEFunction()), (28750.0, SingleFieldFEFunction()), (28760.0, SingleFieldFEFunction()), (28770.0, SingleFieldFEFunction()), (28780.0, SingleFieldFEFunction()), (28790.0, SingleFieldFEFunction()), (28800.0, SingleFieldFEFunction())], Tuple{Float64, SingleFieldFEFunction{GenericCellField{ReferenceDomain}}}[(0.0, SingleFieldFEFunction()), (10.0, SingleFieldFEFunction()), (20.0, SingleFieldFEFunction()), (30.0, SingleFieldFEFunction()), (40.0, SingleFieldFEFunction()), (50.0, SingleFieldFEFunction()), (60.0, SingleFieldFEFunction()), (70.0, SingleFieldFEFunction()), (80.0, SingleFieldFEFunction()), (90.0, SingleFieldFEFunction())  …  (28710.0, SingleFieldFEFunction()), (28720.0, SingleFieldFEFunction()), (28730.0, SingleFieldFEFunction()), (28740.0, SingleFieldFEFunction()), (28750.0, SingleFieldFEFunction()), (28760.0, SingleFieldFEFunction()), (28770.0, SingleFieldFEFunction()), (28780.0, SingleFieldFEFunction()), (28790.0, SingleFieldFEFunction()), (28800.0, SingleFieldFEFunction())], Tuple{Real, SingleFieldFEFunction{GenericCellField{ReferenceDomain}}}[(0.0, SingleFieldFEFunction()), (10.0, SingleFieldFEFunction()), (20.0, SingleFieldFEFunction()), (30.0, SingleFieldFEFunction()), (40.0, SingleFieldFEFunction()), (50.0, SingleFieldFEFunction()), (60.0, SingleFieldFEFunction()), (70.0, SingleFieldFEFunction()), (80.0, SingleFieldFEFunction()), (90.0, SingleFieldFEFunction())  …  (28710.0, SingleFieldFEFunction()), (28720.0, SingleFieldFEFunction()), (28730.0, SingleFieldFEFunction()), (28740.0, SingleFieldFEFunction()), (28750.0, SingleFieldFEFunction()), (28760.0, SingleFieldFEFunction()), (28770.0, SingleFieldFEFunction()), (28780.0, SingleFieldFEFunction()), (28790.0, SingleFieldFEFunction()), (28800, SingleFieldFEFunction())], [3.062371700997932e6, 942393.8815304266, 665415.2891397068, 614626.613751116, 584347.720478318, 570144.4568536177, 518755.417149999, 493323.5008976112, 477885.8159614492, 467969.20559725305  …  432446.630270839, 431883.83408638986, 430022.27825932554, 429217.0033439512, 429092.66037967836, 427347.6610550573, 426613.2744217296, 426206.0059486069, 426178.6389731363, 424604.90878361434])"
      ]
     },
     "metadata": {},
     "output_type": "display_data"
    }
   ],
   "source": [
    "price = get_price_function(price_NOK, tF, 1)\n",
    "γ = 1.225*1020*3\n",
    "\n",
    "(Ts3,qs3,Ws3,costs3) = GradientDescent(;solveSE=SEsolver, \n",
    "solveAE=AEsolver, \n",
    "spaces=(Trialspace, Testspace, Uspace), \n",
    "dΩ=dΩ, \n",
    "dΓ=(dΓ_w,dΓ_d,dΓ_wall), \n",
    "Q=Qt, \n",
    "J=E, \n",
    "∇f=∇e, \n",
    "P=Proj, \n",
    "s_min=s_min,\n",
    "sminargs=nothing, \n",
    "saveall=false, \n",
    "tol=1e-5, \n",
    "iter_max=30,\n",
    "armijoparas=(ρ=0.5, α_0=10, α_min=1e-4, σ=0.0), \n",
    "Δt=Δt, \n",
    "t0=t0,\n",
    "tF=tF,\n",
    "Tout=Tout,\n",
    "constants=constants,\n",
    "Tfin=Tfin,\n",
    "q_pos=q_pos)"
   ]
  },
  {
   "cell_type": "code",
   "execution_count": 197,
   "metadata": {},
   "outputs": [
    {
     "data": {
      "text/plain": [
       "CairoMakie.Screen{IMAGE}\n"
      ]
     },
     "metadata": {},
     "output_type": "display_data"
    }
   ],
   "source": [
    "price = get_price_function(price_NOK, tF, 1)\n",
    "\n",
    "# c1_real = (plot_costs(costs3))\n",
    "c1_real = (plot_costs2(costs3))\n",
    "\n",
    "CairoMakie.save(\"price_real_convergence.png\", c1_real)\n",
    "\n",
    "Q_int = get_control_int(qs3)\n",
    "T_int = get_temperature_int(Ts3)\n",
    "c2_real = result_plot2(;T_int,Q_int,t0,tF,hour_lst,price_NOK,T_out)\n",
    "CairoMakie.save(\"price_real_result.png\", c2_real)\n"
   ]
  },
  {
   "cell_type": "code",
   "execution_count": 188,
   "metadata": {},
   "outputs": [
    {
     "name": "stdout",
     "output_type": "stream",
     "text": [
      "T computed\n",
      "W computed\n",
      "entered for loop, E=2.0415811339986213e6, k = 1\n",
      "α = 20, new_cost = 7.589165507728794e6, L2fgrad = 7217.325982076949, interm = 0.0\n",
      "α = 10.0, new_cost = 5.314706799875179e6, L2fgrad = 7217.325982076949, interm = 0.0\n",
      "α = 5.0, new_cost = 1.4094178730076028e6, L2fgrad = 7217.325982076949, interm = 0.0\n",
      "entered for loop, E=1.4094178730076028e6, k = 2\n",
      "α = 20, new_cost = 2.0415811339986213e6, L2fgrad = 5767.993348318076, interm = 0.0\n",
      "α = 10.0, new_cost = 2.0415811339986213e6, L2fgrad = 5767.993348318076, interm = 0.0\n",
      "α = 5.0, new_cost = 999095.042261385, L2fgrad = 5767.993348318076, interm = 0.0\n",
      "entered for loop, E=999095.042261385, k = 3\n",
      "α = 20, new_cost = 6.315417130375541e6, L2fgrad = 4613.009668670966, interm = 0.0\n",
      "α = 10.0, new_cost = 3.3877346271364335e6, L2fgrad = 4613.009668670966, interm = 0.0\n",
      "α = 5.0, new_cost = 737137.803364968, L2fgrad = 4613.009668670966, interm = 0.0\n",
      "entered for loop, E=737137.803364968, k = 4\n",
      "α = 20, new_cost = 2.0415811339986213e6, L2fgrad = 3685.5265958332407, interm = 0.0\n",
      "α = 10.0, new_cost = 2.0415811339986213e6, L2fgrad = 3685.5265958332407, interm = 0.0\n",
      "α = 5.0, new_cost = 560477.7994843968, L2fgrad = 3685.5265958332407, interm = 0.0\n",
      "entered for loop, E=560477.7994843968, k = 5\n",
      "α = 20, new_cost = 4.408103442326399e6, L2fgrad = 2916.05112626611, interm = 0.0\n",
      "α = 10.0, new_cost = 1.8698571935996087e6, L2fgrad = 2916.05112626611, interm = 0.0\n",
      "α = 5.0, new_cost = 451960.70047813276, L2fgrad = 2916.05112626611, interm = 0.0\n",
      "entered for loop, E=451960.70047813276, k = 6\n",
      "α = 20, new_cost = 2.0415811339986213e6, L2fgrad = 2329.6663182528364, interm = 0.0\n",
      "α = 10.0, new_cost = 1.2035882908188594e6, L2fgrad = 2329.6663182528364, interm = 0.0\n",
      "α = 5.0, new_cost = 373691.73449699814, L2fgrad = 2329.6663182528364, interm = 0.0\n",
      "entered for loop, E=373691.73449699814, k = 7\n",
      "α = 20, new_cost = 2.560576134795456e6, L2fgrad = 1792.1288957585807, interm = 0.0\n",
      "α = 10.0, new_cost = 940292.5788089762, L2fgrad = 1792.1288957585807, interm = 0.0\n",
      "α = 5.0, new_cost = 328669.1810489218, L2fgrad = 1792.1288957585807, interm = 0.0\n",
      "entered for loop, E=328669.1810489218, k = 8\n",
      "α = 20, new_cost = 1.6531709298602173e6, L2fgrad = 1433.5783676394885, interm = 0.0\n",
      "α = 10.0, new_cost = 595500.3898018108, L2fgrad = 1433.5783676394885, interm = 0.0\n",
      "α = 5.0, new_cost = 294040.791149043, L2fgrad = 1433.5783676394885, interm = 0.0\n",
      "entered for loop, E=294040.791149043, k = 9\n",
      "α = 20, new_cost = 1.2221530512757536e6, L2fgrad = 1037.6556592216548, interm = 0.0\n",
      "α = 10.0, new_cost = 472521.8710932463, L2fgrad = 1037.6556592216548, interm = 0.0\n",
      "α = 5.0, new_cost = 274595.58169824793, L2fgrad = 1037.6556592216548, interm = 0.0\n",
      "entered for loop, E=274595.58169824793, k = 10\n",
      "α = 20, new_cost = 712431.7391827222, L2fgrad = 835.9094540663726, interm = 0.0\n",
      "α = 10.0, new_cost = 344443.94411096716, L2fgrad = 835.9094540663726, interm = 0.0\n",
      "α = 5.0, new_cost = 260778.28522867933, L2fgrad = 835.9094540663726, interm = 0.0\n",
      "entered for loop, E=260778.28522867933, k = 11\n",
      "α = 20, new_cost = 512366.2296921613, L2fgrad = 536.2054840747779, interm = 0.0\n",
      "α = 10.0, new_cost = 295448.77537216083, L2fgrad = 536.2054840747779, interm = 0.0\n",
      "α = 5.0, new_cost = 252811.90560966922, L2fgrad = 536.2054840747779, interm = 0.0\n",
      "entered for loop, E=252811.90560966922, k = 12\n",
      "α = 20, new_cost = 332436.75338699424, L2fgrad = 469.92355050621353, interm = 0.0\n",
      "α = 10.0, new_cost = 262131.6759751197, L2fgrad = 469.92355050621353, interm = 0.0\n",
      "α = 5.0, new_cost = 248365.9011283578, L2fgrad = 469.92355050621353, interm = 0.0\n",
      "entered for loop, E=248365.9011283578, k = 13\n",
      "α = 20, new_cost = 281165.7329323579, L2fgrad = 285.91947442861783, interm = 0.0\n",
      "α = 10.0, new_cost = 250109.88883491143, L2fgrad = 285.91947442861783, interm = 0.0\n",
      "α = 5.0, new_cost = 245603.13162894177, L2fgrad = 285.91947442861783, interm = 0.0\n",
      "entered for loop, E=245603.13162894177, k = 14\n",
      "α = 20, new_cost = 249689.6769966639, L2fgrad = 316.94199584748736, interm = 0.0\n",
      "α = 10.0, new_cost = 243947.25849017577, L2fgrad = 316.94199584748736, interm = 0.0\n",
      "entered for loop, E=243947.25849017577, k = 15\n",
      "α = 20, new_cost = 284873.2025895515, L2fgrad = 296.28799265408253, interm = 0.0\n",
      "α = 10.0, new_cost = 247412.3225854959, L2fgrad = 296.28799265408253, interm = 0.0\n",
      "α = 5.0, new_cost = 241175.34205662028, L2fgrad = 296.28799265408253, interm = 0.0\n",
      "entered for loop, E=241175.34205662028, k = 16\n",
      "α = 20, new_cost = 246943.47938469882, L2fgrad = 328.2541280363889, interm = 0.0\n",
      "α = 10.0, new_cost = 240203.79582887824, L2fgrad = 328.2541280363889, interm = 0.0\n",
      "entered for loop, E=240203.79582887824, k = 17\n",
      "α = 20, new_cost = 274106.2139481026, L2fgrad = 290.7337501677261, interm = 0.0\n",
      "α = 10.0, new_cost = 243332.2549222819, L2fgrad = 290.7337501677261, interm = 0.0\n",
      "α = 5.0, new_cost = 237630.3485049903, L2fgrad = 290.7337501677261, interm = 0.0\n",
      "entered for loop, E=237630.3485049903, k = 18\n",
      "α = 20, new_cost = 241749.12182002288, L2fgrad = 326.46380306720226, interm = 0.0\n",
      "α = 10.0, new_cost = 236728.3255029362, L2fgrad = 326.46380306720226, interm = 0.0\n",
      "entered for loop, E=236728.3255029362, k = 19\n",
      "α = 20, new_cost = 256186.82430755894, L2fgrad = 271.83589851140476, interm = 0.0\n",
      "α = 10.0, new_cost = 238092.89860888655, L2fgrad = 271.83589851140476, interm = 0.0\n",
      "α = 5.0, new_cost = 234710.0125184204, L2fgrad = 271.83589851140476, interm = 0.0\n",
      "entered for loop, E=234710.0125184204, k = 20\n",
      "α = 20, new_cost = 235849.19290796056, L2fgrad = 313.91147064378214, interm = 0.0\n",
      "α = 10.0, new_cost = 233670.2594831517, L2fgrad = 313.91147064378214, interm = 0.0\n",
      "entered for loop, E=233670.2594831517, k = 21\n",
      "α = 20, new_cost = 240337.91861414845, L2fgrad = 254.66652512535623, interm = 0.0\n",
      "α = 10.0, new_cost = 233422.4845000986, L2fgrad = 254.66652512535623, interm = 0.0\n",
      "entered for loop, E=233422.4845000986, k = 22\n",
      "α = 20, new_cost = 256873.11356958904, L2fgrad = 414.7973946231953, interm = 0.0\n",
      "α = 10.0, new_cost = 235034.6234768982, L2fgrad = 414.7973946231953, interm = 0.0\n",
      "α = 5.0, new_cost = 231411.68226788111, L2fgrad = 414.7973946231953, interm = 0.0\n",
      "entered for loop, E=231411.68226788111, k = 23\n",
      "α = 20, new_cost = 231367.08541917024, L2fgrad = 254.38568604761227, interm = 0.0\n",
      "entered for loop, E=231367.08541917024, k = 24\n",
      "α = 20, new_cost = 254936.6477188767, L2fgrad = 427.69760154802185, interm = 0.0\n",
      "α = 10.0, new_cost = 232916.4456353339, L2fgrad = 427.69760154802185, interm = 0.0\n",
      "α = 5.0, new_cost = 229320.63386073432, L2fgrad = 427.69760154802185, interm = 0.0\n",
      "entered for loop, E=229320.63386073432, k = 25\n",
      "α = 20, new_cost = 228853.16045340966, L2fgrad = 257.15694588685574, interm = 0.0\n",
      "entered for loop, E=228853.16045340966, k = 26\n",
      "α = 20, new_cost = 238228.41788882454, L2fgrad = 376.68425644451634, interm = 0.0\n",
      "α = 10.0, new_cost = 229006.75194680798, L2fgrad = 376.68425644451634, interm = 0.0\n",
      "α = 5.0, new_cost = 227694.21431500767, L2fgrad = 376.68425644451634, interm = 0.0\n",
      "entered for loop, E=227694.21431500767, k = 27\n",
      "α = 20, new_cost = 226782.45734413134, L2fgrad = 266.33911724411126, interm = 0.0\n",
      "entered for loop, E=226782.45734413134, k = 28\n",
      "α = 20, new_cost = 226650.8167871965, L2fgrad = 300.7550257764949, interm = 0.0\n",
      "entered for loop, E=226650.8167871965, k = 29\n",
      "α = 20, new_cost = 228316.99147644464, L2fgrad = 254.80186585076805, interm = 0.0\n",
      "α = 10.0, new_cost = 225939.37484046636, L2fgrad = 254.80186585076805, interm = 0.0\n",
      "entered for loop, E=225939.37484046636, k = 30\n",
      "α = 20, new_cost = 226167.4739263998, L2fgrad = 313.1573977329319, interm = 0.0\n",
      "α = 10.0, new_cost = 225501.71424175662, L2fgrad = 313.1573977329319, interm = 0.0\n",
      "entered for loop, E=225501.71424175662, k = 31\n",
      "α = 20, new_cost = 225235.94640521487, L2fgrad = 257.78265680127726, interm = 0.0\n",
      "entered for loop, E=225235.94640521487, k = 32\n",
      "α = 20, new_cost = 225442.4451493988, L2fgrad = 315.08429476939335, interm = 0.0\n",
      "α = 10.0, new_cost = 224844.66175244557, L2fgrad = 315.08429476939335, interm = 0.0\n",
      "entered for loop, E=224844.66175244557, k = 33\n",
      "α = 20, new_cost = 224574.2915292488, L2fgrad = 260.32477017033426, interm = 0.0\n",
      "entered for loop, E=224574.2915292488, k = 34\n",
      "α = 20, new_cost = 224435.57831988914, L2fgrad = 299.6841582508443, interm = 0.0\n",
      "entered for loop, E=224435.57831988914, k = 35\n",
      "α = 20, new_cost = 224403.52882917222, L2fgrad = 252.15815997606492, interm = 0.0\n",
      "entered for loop, E=224403.52882917222, k = 36\n",
      "α = 20, new_cost = 225426.20529124423, L2fgrad = 333.81566571745543, interm = 0.0\n",
      "α = 10.0, new_cost = 224056.30083461775, L2fgrad = 333.81566571745543, interm = 0.0\n",
      "entered for loop, E=224056.30083461775, k = 37\n",
      "α = 20, new_cost = 223866.26805492732, L2fgrad = 257.95269395571296, interm = 0.0\n",
      "entered for loop, E=223866.26805492732, k = 38\n",
      "α = 20, new_cost = 223851.30243848485, L2fgrad = 311.7061592023694, interm = 0.0\n",
      "entered for loop, E=223851.30243848485, k = 39\n",
      "α = 20, new_cost = 223797.49483528858, L2fgrad = 251.78380536876818, interm = 0.0\n",
      "entered for loop, E=223797.49483528858, k = 40\n",
      "α = 20, new_cost = 224456.1481875028, L2fgrad = 330.7115474495886, interm = 0.0\n",
      "α = 10.0, new_cost = 223458.14492516255, L2fgrad = 330.7115474495886, interm = 0.0\n",
      "entered for loop, E=223458.14492516255, k = 41\n",
      "α = 20, new_cost = 223268.4926033087, L2fgrad = 261.0142553901676, interm = 0.0\n",
      "entered for loop, E=223268.4926033087, k = 42\n",
      "α = 20, new_cost = 223131.82509700162, L2fgrad = 298.3612991388425, interm = 0.0\n",
      "entered for loop, E=223131.82509700162, k = 43\n",
      "α = 20, new_cost = 223001.14354377537, L2fgrad = 257.79154175939055, interm = 0.0\n",
      "entered for loop, E=223001.14354377537, k = 44\n",
      "α = 20, new_cost = 222895.67686358906, L2fgrad = 286.54079595372093, interm = 0.0\n",
      "entered for loop, E=222895.67686358906, k = 45\n",
      "α = 20, new_cost = 222811.6126392571, L2fgrad = 264.10940926354635, interm = 0.0\n",
      "entered for loop, E=222811.6126392571, k = 46\n",
      "α = 20, new_cost = 222742.06778888192, L2fgrad = 276.78878375403156, interm = 0.0\n",
      "entered for loop, E=222742.06778888192, k = 47\n",
      "α = 20, new_cost = 222681.8218509351, L2fgrad = 269.15296467905307, interm = 0.0\n",
      "entered for loop, E=222681.8218509351, k = 48\n",
      "α = 20, new_cost = 222628.12091396688, L2fgrad = 272.9162732406439, interm = 0.0\n",
      "entered for loop, E=222628.12091396688, k = 49\n",
      "α = 20, new_cost = 222579.4786200513, L2fgrad = 271.13904806027097, interm = 0.0\n",
      "entered for loop, E=222579.4786200513, k = 50\n",
      "α = 20, new_cost = 222535.21995454578, L2fgrad = 271.8672769054438, interm = 0.0\n",
      "entered for loop, E=222535.21995454578, k = 51\n",
      "α = 20, new_cost = 222494.8376783848, L2fgrad = 271.5862218082132, interm = 0.0\n",
      "entered for loop, E=222494.8376783848, k = 52\n",
      "α = 20, new_cost = 222457.82989714612, L2fgrad = 271.6700930347293, interm = 0.0\n",
      "entered for loop, E=222457.82989714612, k = 53\n",
      "α = 20, new_cost = 222423.81321936927, L2fgrad = 271.634116515739, interm = 0.0\n",
      "entered for loop, E=222423.81321936927, k = 54\n",
      "α = 20, new_cost = 222392.4818584727, L2fgrad = 271.63868788912345, interm = 0.0\n",
      "entered for loop, E=222392.4818584727, k = 55\n",
      "α = 20, new_cost = 222363.59100539074, L2fgrad = 271.6464490395764, interm = 0.0\n",
      "entered for loop, E=222363.59100539074, k = 56\n",
      "α = 20, new_cost = 222336.90585998536, L2fgrad = 271.644828553188, interm = 0.0\n",
      "entered for loop, E=222336.90585998536, k = 57\n",
      "α = 20, new_cost = 222312.2073654289, L2fgrad = 271.6408368521654, interm = 0.0\n",
      "entered for loop, E=222312.2073654289, k = 58\n",
      "α = 20, new_cost = 222289.26885939375, L2fgrad = 271.64008570743806, interm = 0.0\n",
      "entered for loop, E=222289.26885939375, k = 59\n",
      "α = 20, new_cost = 222267.9236179959, L2fgrad = 271.64137690578076, interm = 0.0\n",
      "entered for loop, E=222267.9236179959, k = 60\n",
      "α = 20, new_cost = 222248.08569434495, L2fgrad = 271.6433141679266, interm = 0.0\n",
      "entered for loop, E=222248.08569434495, k = 61\n",
      "α = 20, new_cost = 222229.5733562994, L2fgrad = 271.65713460449376, interm = 0.0\n",
      "entered for loop, E=222229.5733562994, k = 62\n",
      "α = 20, new_cost = 222212.28083454937, L2fgrad = 271.6616077162444, interm = 0.0\n",
      "entered for loop, E=222212.28083454937, k = 63\n",
      "α = 20, new_cost = 222196.09050646075, L2fgrad = 271.6521076193602, interm = 0.0\n",
      "entered for loop, E=222196.09050646075, k = 64\n",
      "α = 20, new_cost = 222180.88685632942, L2fgrad = 271.6534414071306, interm = 0.0\n",
      "entered for loop, E=222180.88685632942, k = 65\n",
      "α = 20, new_cost = 222166.637590498, L2fgrad = 271.65172013774736, interm = 0.0\n",
      "entered for loop, E=222166.637590498, k = 66\n",
      "α = 20, new_cost = 222153.27143980673, L2fgrad = 271.6498555899906, interm = 0.0\n",
      "entered for loop, E=222153.27143980673, k = 67\n",
      "α = 20, new_cost = 222140.69479194362, L2fgrad = 271.64585867539614, interm = 0.0\n",
      "entered for loop, E=222140.69479194362, k = 68\n",
      "α = 20, new_cost = 222128.83699123774, L2fgrad = 271.64298235900884, interm = 0.0\n",
      "entered for loop, E=222128.83699123774, k = 69\n",
      "α = 20, new_cost = 222117.65170270257, L2fgrad = 271.64296117285596, interm = 0.0\n",
      "entered for loop, E=222117.65170270257, k = 70\n",
      "α = 20, new_cost = 222107.07744418018, L2fgrad = 271.6473028139123, interm = 0.0\n",
      "entered for loop, E=222107.07744418018, k = 71\n",
      "α = 20, new_cost = 222097.07860733362, L2fgrad = 271.64858413601627, interm = 0.0\n",
      "entered for loop, E=222097.07860733362, k = 72\n",
      "α = 20, new_cost = 222087.6113706245, L2fgrad = 271.6461160355595, interm = 0.0\n",
      "entered for loop, E=222087.6113706245, k = 73\n",
      "α = 20, new_cost = 222078.6579962284, L2fgrad = 271.64094623993435, interm = 0.0\n",
      "entered for loop, E=222078.6579962284, k = 74\n",
      "α = 20, new_cost = 222070.17300400886, L2fgrad = 271.6360564650126, interm = 0.0\n",
      "entered for loop, E=222070.17300400886, k = 75\n",
      "α = 20, new_cost = 222062.11013424158, L2fgrad = 271.63078647150525, interm = 0.0\n",
      "entered for loop, E=222062.11013424158, k = 76\n",
      "α = 20, new_cost = 222054.4630684438, L2fgrad = 271.62874885645533, interm = 0.0\n",
      "entered for loop, E=222054.4630684438, k = 77\n",
      "α = 20, new_cost = 222047.19383971812, L2fgrad = 271.63500012145005, interm = 0.0\n",
      "entered for loop, E=222047.19383971812, k = 78\n",
      "α = 20, new_cost = 222040.27799010443, L2fgrad = 271.63561746415076, interm = 0.0\n",
      "entered for loop, E=222040.27799010443, k = 79\n",
      "α = 20, new_cost = 222033.69497003435, L2fgrad = 271.64182283832474, interm = 0.0\n",
      "entered for loop, E=222033.69497003435, k = 80\n",
      "α = 20, new_cost = 222027.41796808824, L2fgrad = 271.64713036982516, interm = 0.0\n",
      "entered for loop, E=222027.41796808824, k = 81\n",
      "α = 20, new_cost = 222021.43448199343, L2fgrad = 271.6456173184563, interm = 0.0\n",
      "entered for loop, E=222021.43448199343, k = 82\n",
      "α = 20, new_cost = 222015.71470888003, L2fgrad = 271.6474935611998, interm = 0.0\n",
      "entered for loop, E=222015.71470888003, k = 83\n",
      "α = 20, new_cost = 222010.2412575975, L2fgrad = 271.6482254861501, interm = 0.0\n",
      "entered for loop, E=222010.2412575975, k = 84\n",
      "α = 20, new_cost = 222005.00549822234, L2fgrad = 271.6477265307809, interm = 0.0\n",
      "entered for loop, E=222005.00549822234, k = 85\n",
      "α = 20, new_cost = 222000.00528118637, L2fgrad = 271.6481352374817, interm = 0.0\n",
      "entered for loop, E=222000.00528118637, k = 86\n",
      "α = 20, new_cost = 221995.22405937864, L2fgrad = 271.6487754072086, interm = 0.0\n",
      "entered for loop, E=221995.22405937864, k = 87\n",
      "α = 20, new_cost = 221990.65430365404, L2fgrad = 271.64679379094747, interm = 0.0\n",
      "entered for loop, E=221990.65430365404, k = 88\n",
      "α = 20, new_cost = 221986.2813592903, L2fgrad = 271.64416198605784, interm = 0.0\n",
      "entered for loop, E=221986.2813592903, k = 89\n",
      "α = 20, new_cost = 221982.09202141792, L2fgrad = 271.64247179736384, interm = 0.0\n",
      "entered for loop, E=221982.09202141792, k = 90\n",
      "α = 20, new_cost = 221978.07350215275, L2fgrad = 271.64338309302667, interm = 0.0\n",
      "entered for loop, E=221978.07350215275, k = 91\n",
      "α = 20, new_cost = 221974.21230571164, L2fgrad = 271.6421980113717, interm = 0.0\n",
      "entered for loop, E=221974.21230571164, k = 92\n",
      "α = 20, new_cost = 221970.50329735936, L2fgrad = 271.6417688504102, interm = 0.0\n",
      "entered for loop, E=221970.50329735936, k = 93\n",
      "α = 20, new_cost = 221966.93819171895, L2fgrad = 271.6437838810733, interm = 0.0\n",
      "entered for loop, E=221966.93819171895, k = 94\n",
      "α = 20, new_cost = 221963.51365595614, L2fgrad = 271.6462971493163, interm = 0.0\n",
      "entered for loop, E=221963.51365595614, k = 95\n",
      "α = 20, new_cost = 221960.22198515796, L2fgrad = 271.6456407602904, interm = 0.0\n",
      "entered for loop, E=221960.22198515796, k = 96\n",
      "α = 20, new_cost = 221957.05365272245, L2fgrad = 271.64431374050343, interm = 0.0\n",
      "entered for loop, E=221957.05365272245, k = 97\n",
      "α = 20, new_cost = 221953.99325270622, L2fgrad = 271.64222396096056, interm = 0.0\n",
      "entered for loop, E=221953.99325270622, k = 98\n",
      "α = 20, new_cost = 221951.03911466186, L2fgrad = 271.64200946054586, interm = 0.0\n",
      "entered for loop, E=221951.03911466186, k = 99\n",
      "α = 20, new_cost = 221948.20136276525, L2fgrad = 271.64075278855387, interm = 0.0\n",
      "entered for loop, E=221948.20136276525, k = 100\n",
      "α = 20, new_cost = 221945.47038112677, L2fgrad = 271.6400906945003, interm = 0.0\n"
     ]
    },
    {
     "data": {
      "text/plain": [
       "(Tuple{Float64, SingleFieldFEFunction{GenericCellField{ReferenceDomain}}}[(0.0, SingleFieldFEFunction()), (10.0, SingleFieldFEFunction()), (20.0, SingleFieldFEFunction()), (30.0, SingleFieldFEFunction()), (40.0, SingleFieldFEFunction()), (50.0, SingleFieldFEFunction()), (60.0, SingleFieldFEFunction()), (70.0, SingleFieldFEFunction()), (80.0, SingleFieldFEFunction()), (90.0, SingleFieldFEFunction())  …  (28710.0, SingleFieldFEFunction()), (28720.0, SingleFieldFEFunction()), (28730.0, SingleFieldFEFunction()), (28740.0, SingleFieldFEFunction()), (28750.0, SingleFieldFEFunction()), (28760.0, SingleFieldFEFunction()), (28770.0, SingleFieldFEFunction()), (28780.0, SingleFieldFEFunction()), (28790.0, SingleFieldFEFunction()), (28800.0, SingleFieldFEFunction())], Tuple{Float64, SingleFieldFEFunction{GenericCellField{ReferenceDomain}}}[(0.0, SingleFieldFEFunction()), (10.0, SingleFieldFEFunction()), (20.0, SingleFieldFEFunction()), (30.0, SingleFieldFEFunction()), (40.0, SingleFieldFEFunction()), (50.0, SingleFieldFEFunction()), (60.0, SingleFieldFEFunction()), (70.0, SingleFieldFEFunction()), (80.0, SingleFieldFEFunction()), (90.0, SingleFieldFEFunction())  …  (28710.0, SingleFieldFEFunction()), (28720.0, SingleFieldFEFunction()), (28730.0, SingleFieldFEFunction()), (28740.0, SingleFieldFEFunction()), (28750.0, SingleFieldFEFunction()), (28760.0, SingleFieldFEFunction()), (28770.0, SingleFieldFEFunction()), (28780.0, SingleFieldFEFunction()), (28790.0, SingleFieldFEFunction()), (28800.0, SingleFieldFEFunction())], Tuple{Real, SingleFieldFEFunction{GenericCellField{ReferenceDomain}}}[(0.0, SingleFieldFEFunction()), (10.0, SingleFieldFEFunction()), (20.0, SingleFieldFEFunction()), (30.0, SingleFieldFEFunction()), (40.0, SingleFieldFEFunction()), (50.0, SingleFieldFEFunction()), (60.0, SingleFieldFEFunction()), (70.0, SingleFieldFEFunction()), (80.0, SingleFieldFEFunction()), (90.0, SingleFieldFEFunction())  …  (28710.0, SingleFieldFEFunction()), (28720.0, SingleFieldFEFunction()), (28730.0, SingleFieldFEFunction()), (28740.0, SingleFieldFEFunction()), (28750.0, SingleFieldFEFunction()), (28760.0, SingleFieldFEFunction()), (28770.0, SingleFieldFEFunction()), (28780.0, SingleFieldFEFunction()), (28790.0, SingleFieldFEFunction()), (28800, SingleFieldFEFunction())], [2.0415811339986213e6, 1.4094178730076028e6, 999095.042261385, 737137.803364968, 560477.7994843968, 451960.70047813276, 373691.73449699814, 328669.1810489218, 294040.791149043, 274595.58169824793  …  221974.21230571164, 221970.50329735936, 221966.93819171895, 221963.51365595614, 221960.22198515796, 221957.05365272245, 221953.99325270622, 221951.03911466186, 221948.20136276525, 221945.47038112677])"
      ]
     },
     "metadata": {},
     "output_type": "display_data"
    }
   ],
   "source": [
    "price = t -> 1\n",
    "γ = 1.225*1020*2\n",
    "\n",
    "(Ts4,qs4,Ws4,costs4) = GradientDescent(;solveSE=SEsolver, \n",
    "solveAE=AEsolver, \n",
    "spaces=(Trialspace, Testspace, Uspace), \n",
    "dΩ=dΩ, \n",
    "dΓ=(dΓ_w,dΓ_d,dΓ_wall), \n",
    "Q=Qt, \n",
    "J=E, \n",
    "∇f=∇e, \n",
    "P=Proj, \n",
    "s_min=s_min,\n",
    "sminargs=nothing, \n",
    "saveall=false, \n",
    "tol=1e-5, \n",
    "iter_max=100,\n",
    "armijoparas=(ρ=0.5, α_0=20, α_min=1e-5, σ=0.0), \n",
    "Δt=Δt, \n",
    "t0=t0,\n",
    "tF=tF,\n",
    "Tout=Tout,\n",
    "constants=constants,\n",
    "Tfin=Tfin,\n",
    "q_pos=q_pos)"
   ]
  },
  {
   "cell_type": "code",
   "execution_count": 189,
   "metadata": {},
   "outputs": [
    {
     "data": {
      "text/plain": [
       "CairoMakie.Screen{IMAGE}\n"
      ]
     },
     "metadata": {},
     "output_type": "display_data"
    }
   ],
   "source": [
    "price = t -> 1\n",
    "\n",
    "# c1_const = (plot_costs(costs4))\n",
    "c1_const = (plot_costs2(costs4))\n",
    "\n",
    "CairoMakie.save(\"price_const_convergence.png\", c1_const)\n",
    "\n",
    "Q_int = get_control_int(qs4)\n",
    "T_int = get_temperature_int(Ts4)\n",
    "c2_const = result_plot2(;T_int,Q_int,t0,tF,hour_lst,price_NOK,T_out)\n",
    "CairoMakie.save(\"price_const_result.png\", c2_const)\n"
   ]
  },
  {
   "cell_type": "code",
   "execution_count": 190,
   "metadata": {},
   "outputs": [],
   "source": [
    "# real_price = 0\n",
    "# for (t,QQ) in qs2\n",
    "#     real_price+=Δt*price(t)*∑(∫(QQ)*dΩ)\n",
    "# end\n",
    "# temp_difference =  0\n",
    "# tmp = last(Ts2)[2]-Tfin\n",
    "# temp_difference = ∑(∫(tmp)*dΩ)\n",
    "# println(real_price)\n",
    "# println(temp_difference/(width*height))"
   ]
  },
  {
   "cell_type": "code",
   "execution_count": 191,
   "metadata": {},
   "outputs": [],
   "source": [
    "# # Opprett en mappe for midlertidige filer hvis den ikke eksisterer\n",
    "# if !isdir(\"tmp\")\n",
    "#     mkdir(\"tmp\")\n",
    "# end\n",
    "\n",
    "# # Initialtilstanden og resten av tidsløsningene\n",
    "# # uh0 = solution[1][2]  # Første element er (t0, T0), vi henter T0\n",
    "# # uh  = solution[2:end]  # De resterende løsningene\n",
    "\n",
    "\n",
    "# uh = qs\n",
    "# # Lagre resultater i Paraview-format (VTK)\n",
    "# createpvd(\"resultsOutisde\") do pvd\n",
    "#     # Første løsning (t=0)\n",
    "#     # pvd[0] = createvtk(Ω, \"tmp/results_0.vtu\", cellfields=[\"u\" => uh0])\n",
    "\n",
    "#     # Lagrer løsninger for hver tidssteg\n",
    "#     count = 0\n",
    "#     for (tn, uhn) in uh\n",
    "#         if count%2 == 0\n",
    "#             pvd[tn] = createvtk(Ω, \"tmp/results_$count.vtu\", cellfields=[\"u\" => uhn])\n",
    "#         end\n",
    "#         count+=1\n",
    "#     end\n",
    "# end\n"
   ]
  },
  {
   "cell_type": "code",
   "execution_count": 192,
   "metadata": {},
   "outputs": [
    {
     "data": {
      "text/plain": [
       "plot_costs2 (generic function with 1 method)"
      ]
     },
     "metadata": {},
     "output_type": "display_data"
    }
   ],
   "source": [
    "# better version of L2 norm, the scalar product and the functions to get the integrals over Q and T over time\n",
    "\n",
    "get_control_int(qs) = [∑(∫(u)*dΩ) for (t,u) in qs] ./ ∑(∫(q_pos)*dΩ)\n",
    "get_temperature_int(Ts) = [∑(∫(temp)*dΩ) for (t,temp) in Ts] ./ ∑(∫(1)*dΩ)\n",
    "\n",
    "# Result plot. Now in CairoMakie instead of Pyplot because that is already loaded. I removed the legend on the plots, changed the unit [W] to (W) and I made the function have inputs (just for me, feel free to delete that part)\n",
    "\n",
    "function result_plot(;T_int, Q_int, t0, tF, hour_lst, price_NOK, T_out)\n",
    "    time = LinRange(t0, tF, length(T_int))\n",
    "\n",
    "    fig = CairoMakie.Figure(size=(600,900))\n",
    "\n",
    "    ax = CairoMakie.Axis(fig[1,1], title=\"Temperature profile\", xlabel=\"Time (hours)\", ylabel=\"Temperature (°C)\")\n",
    "    lines!(ax, time, T_int, color=:green) #label=\"Temp\"\n",
    "\n",
    "    ax=CairoMakie.Axis(fig[2,1], title=\"Optimal Heating Schedule\", xlabel=\"Time (hours)\", ylabel=\"Heating Output (W)\")  \n",
    "    lines!(ax, time, Q_int, color=:red)\n",
    "\n",
    "    ax=CairoMakie.Axis(fig[3,1], title=\"Energy price over time\", xlabel=\"Time (hours)\", ylabel=\"Price (NOK)\")\n",
    "    lines!(ax, hour_lst, price_NOK, color=:blue)\n",
    "\n",
    "    ax=CairoMakie.Axis(fig[4,1], title=\"Outside Temperature over time\", xlabel=\"Time (hours)\", ylabel=\"Temperature (°C)\")\n",
    "    lines!(ax, hour_lst, T_out, color=:orange)\n",
    "\n",
    "    return fig\n",
    "end\n",
    "\n",
    "function result_plot2(; T_int, Q_int, t0, tF, hour_lst, price_NOK, T_out)\n",
    "    # time = LinRange(t0, tF, length(T_int))\n",
    "    time = LinRange(t0, tF, length(T_int)) ./ 3600  # convert from seconds to hours\n",
    "    time2 = LinRange(t0, tF, length(T_int))\n",
    "\n",
    "    \n",
    "    time_price = [price(t) for t in time2]\n",
    "\n",
    "    fig = CairoMakie.Figure(size=(600, 900), figure_padding=(0, 5, 0, 5))\n",
    "\n",
    "    # Formatter for temperature axis (Kelvin to Celsius)\n",
    "    temp_formatter = v -> [\"$(round(vi - 273.15, digits=1))\" for vi in v]\n",
    "\n",
    "    # Temperature profile\n",
    "    ax = CairoMakie.Axis(\n",
    "        fig[1, 1],\n",
    "        title = \"Temperature profile\",\n",
    "        xlabel = \"Time (hours)\",\n",
    "        ylabel = \"Temperature (°C)\",\n",
    "        ytickformat = temp_formatter\n",
    "    )\n",
    "    lines!(ax, time, T_int, color = :green)\n",
    "\n",
    "    # Heating output\n",
    "    ax = CairoMakie.Axis(\n",
    "        fig[2, 1],\n",
    "        title = \"Optimal Heating Schedule\",\n",
    "        xlabel = \"Time (hours)\",\n",
    "        ylabel = \"Heating Output (W)\"\n",
    "    )\n",
    "    lines!(ax, time, Q_int, color = :red)\n",
    "\n",
    "    # Energy price\n",
    "    ax = CairoMakie.Axis(\n",
    "        fig[3, 1],\n",
    "        title = \"Energy price over time\",\n",
    "        xlabel = \"Time (hours)\",\n",
    "        ylabel = \"Price (NOK)\"\n",
    "    )\n",
    "    lines!(ax, time, time_price, color = :blue)\n",
    "\n",
    "    # Outside temperature\n",
    "    ax = CairoMakie.Axis(\n",
    "        fig[4, 1],\n",
    "        title = \"Outside Temperature over time\",\n",
    "        xlabel = \"Time (hours)\",\n",
    "        ylabel = \"Temperature (°C)\",\n",
    "        ytickformat = temp_formatter\n",
    "    )\n",
    "    lines!(ax, hour_lst .-10, T_out, color = :orange)\n",
    "\n",
    "    return fig\n",
    "end\n",
    "\n",
    "function plot_costs(costs)\n",
    "    fig = CairoMakie.Figure(size=(600, 300))\n",
    "\n",
    "    ax = CairoMakie.Axis(\n",
    "        fig[1, 1],\n",
    "        xlabel = \"Iteration\",\n",
    "        ylabel = \"Cost\"#,\n",
    "        # yscale = log10  # Make y-axis logarithmic\n",
    "    )\n",
    "\n",
    "    lines!(ax, 1:length(costs), costs, color = :purple)\n",
    "\n",
    "    return fig\n",
    "end\n",
    "\n",
    "function plot_costs2(costs)\n",
    "    fig = CairoMakie.Figure(size=(600, 300))\n",
    "\n",
    "    ax = CairoMakie.Axis(\n",
    "        fig[1, 1],\n",
    "        xlabel = \"Iteration\",\n",
    "        ylabel = \"Cost\",\n",
    "        yscale = log10  # Make y-axis logarithmic\n",
    "    )\n",
    "\n",
    "    lines!(ax, 1:length(costs), costs, color = :purple)\n",
    "\n",
    "    return fig\n",
    "end\n",
    "\n",
    "# In the gradient method right after the first computation of the SE solution (that I call T now instead of y) before the for loop even starts I added a checker whether T_fin can be reached.\n",
    "\n",
    "# if ∑(∫(last(T)[2]-Tfin)dΩ) < 0\n",
    "#         println(\"In the given time the desired final temperature cannot be reached\")\n",
    "#         #return nothing\n",
    "#     end\n",
    "\n",
    "# \n",
    "# # I added 2 assamblers for the SE and AE solution in order to get better errors when this \"nothing-error\" occurs. Instead of assambling the T and W inside the solvers I now use that method and who would have guessed: I didn't run into that error since then...\n",
    "\n",
    "# function assamble_SE_solution(T,t0,Tini,Trialspace)\n",
    "#     #[(t0,TIni),collect((t,FEFunction(Trialspace(t),copy(get_free_dof_values(TT)))) for (t,TT) in T)...]\n",
    "#     Tvek=[(t0,Tini)]\n",
    "#     for (t,TT) in T\n",
    "#         freedofs=copy(get_free_dof_values(TT))\n",
    "#         if freedofs==nothing\n",
    "#             @error(\"freedofs found for SE are negative for time $t\")\n",
    "#         end\n",
    "#         push!(Tvek,(t,FEFunction(Trialspace(t),freedofs)))\n",
    "#     end\n",
    "#     return Tvek\n",
    "# end\n",
    "# function assamble_AE_solution(W,tF,W_end,Trialspace)\n",
    "#     #[(t0,TIni),collect((t,FEFunction(Trialspace(t),copy(get_free_dof_values(TT)))) for (t,TT) in T)...]\n",
    "#     Wvek=[(tF,W_end)]\n",
    "#     for (t,WW) in W\n",
    "#         freedofs=copy(get_free_dof_values(WW))\n",
    "#         if freedofs==nothing\n",
    "#             @error(\"freedofs found for AE are negative for time $t\")\n",
    "#         end\n",
    "#         push!(Wvek,(tF-t,FEFunction(Testspace(tF-t),freedofs)))\n",
    "#     end\n",
    "#     return reverse!(Wvek)\n",
    "# end"
   ]
  },
  {
   "cell_type": "code",
   "execution_count": 193,
   "metadata": {},
   "outputs": [],
   "source": []
  },
  {
   "cell_type": "code",
   "execution_count": 194,
   "metadata": {},
   "outputs": [],
   "source": []
  },
  {
   "cell_type": "code",
   "execution_count": 195,
   "metadata": {},
   "outputs": [],
   "source": []
  }
 ],
 "metadata": {
  "kernelspec": {
   "display_name": "Julia 1.11.3",
   "language": "julia",
   "name": "julia-1.11"
  },
  "language_info": {
   "file_extension": ".jl",
   "mimetype": "application/julia",
   "name": "julia",
   "version": "1.11.3"
  }
 },
 "nbformat": 4,
 "nbformat_minor": 2
}
