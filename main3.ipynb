{
 "cells": [
  {
   "cell_type": "markdown",
   "metadata": {},
   "source": [
    "#### Import Julia packages"
   ]
  },
  {
   "cell_type": "code",
   "execution_count": 23,
   "metadata": {},
   "outputs": [],
   "source": [
    "# import Pkg\n",
    "# Pkg.add(\"JSON3\")"
   ]
  },
  {
   "cell_type": "code",
   "execution_count": 24,
   "metadata": {},
   "outputs": [],
   "source": [
    "using Gridap\n",
    "using GridapMakie, CairoMakie, FileIO\n",
    "using Gridap.FESpaces\n",
    "using Gridap.ReferenceFEs\n",
    "using Gridap.Arrays\n",
    "using Gridap.Algebra\n",
    "using Gridap.Geometry\n",
    "using Gridap.Fields\n",
    "using Gridap.CellData\n",
    "using FillArrays\n",
    "using Test\n",
    "using InteractiveUtils\n",
    "using PyPlot\n",
    "using JSON3"
   ]
  },
  {
   "cell_type": "code",
   "execution_count": 25,
   "metadata": {},
   "outputs": [
    {
     "data": {
      "text/plain": [
       "_update_labels_locally! (generic function with 1 method)"
      ]
     },
     "execution_count": 25,
     "metadata": {},
     "output_type": "execute_result"
    }
   ],
   "source": [
    "function mark_nodes(f,model::DiscreteModel)\n",
    "  topo   = get_grid_topology(model)\n",
    "  coords = get_vertex_coordinates(topo)\n",
    "  mask = map(f,coords)\n",
    "  return mask\n",
    "end\n",
    "function update_labels!(e::Integer,model::CartesianDiscreteModel,f_Γ::Function,name::String)\n",
    "    mask = mark_nodes(f_Γ,model)\n",
    "    _update_labels_locally!(e,model,mask,name)\n",
    "    nothing\n",
    "end\n",
    "function _update_labels_locally!(e,model::CartesianDiscreteModel{2},mask,name)\n",
    "  topo   = get_grid_topology(model)\n",
    "  labels = get_face_labeling(model)\n",
    "  cell_to_entity = labels.d_to_dface_to_entity[end]\n",
    "  entity = maximum(cell_to_entity) + e\n",
    "  # Vertices\n",
    "  vtxs_Γ = findall(mask)\n",
    "  vtx_edge_connectivity = Array(get_faces(topo,0,1)[vtxs_Γ])\n",
    "  # Edges\n",
    "  edge_entries = [findall(x->any(x .∈  vtx_edge_connectivity[1:end.!=j]),\n",
    "    vtx_edge_connectivity[j]) for j = 1:length(vtx_edge_connectivity)]\n",
    "  edge_Γ = unique(reduce(vcat,getindex.(vtx_edge_connectivity,edge_entries),init=[]))\n",
    "  labels.d_to_dface_to_entity[1][vtxs_Γ] .= entity\n",
    "  labels.d_to_dface_to_entity[2][edge_Γ] .= entity\n",
    "  add_tag!(labels,name,[entity])\n",
    "  return cell_to_entity\n",
    "end"
   ]
  },
  {
   "cell_type": "markdown",
   "metadata": {},
   "source": [
    "#### Import Custom functions"
   ]
  },
  {
   "cell_type": "code",
   "execution_count": 26,
   "metadata": {},
   "outputs": [
    {
     "data": {
      "text/plain": [
       "get_room (generic function with 1 method)"
      ]
     },
     "execution_count": 26,
     "metadata": {},
     "output_type": "execute_result"
    }
   ],
   "source": [
    "#include(\"Julia_functions/solution_animation.jl\")\n",
    "include(\"Julia_functions/indicator_chi.jl\")\n",
    "include(\"Julia_functions/cost_fun.jl\")\n",
    "include(\"Julia_functions/gradient_descent.jl\")\n",
    "include(\"Julia_functions/solvers.jl\")\n",
    "include(\"Julia_functions/find.jl\")\n",
    "include(\"Julia_functions/res_plot.jl\")\n",
    "include(\"Julia_functions/get_domain.jl\")"
   ]
  },
  {
   "cell_type": "markdown",
   "metadata": {},
   "source": [
    "#### Read JSON File"
   ]
  },
  {
   "cell_type": "code",
   "execution_count": 27,
   "metadata": {},
   "outputs": [
    {
     "data": {
      "text/plain": [
       "(5, 3, Any[(121.20000076293945, 217.20000076293945, \"Top\"), (363.20000076293945, 470.20000076293945, \"Top\")], Any[(168.1999969482422, 262.1999969482422, \"Left\")])"
      ]
     },
     "execution_count": 27,
     "metadata": {},
     "output_type": "execute_result"
    }
   ],
   "source": [
    "width, height, windows, doors = get_room(\"Boundry.json\")"
   ]
  },
  {
   "cell_type": "markdown",
   "metadata": {},
   "source": [
    "#### Boundary conditions"
   ]
  },
  {
   "cell_type": "code",
   "execution_count": 28,
   "metadata": {},
   "outputs": [
    {
     "data": {
      "text/plain": [
       "generate_f_Γ (generic function with 1 method)"
      ]
     },
     "execution_count": 28,
     "metadata": {},
     "output_type": "execute_result"
    }
   ],
   "source": [
    "function generate_f_Γ(bound, width, height)\n",
    "    return function (x)\n",
    "        any(\n",
    "            (b[3] == \"Top\"    && (b[1] ≤ x[1] ≤ b[2]) && (x[2] ≈ height)) ||\n",
    "            (b[3] == \"Bottom\" && (b[1] ≤ x[1] ≤ b[2]) && (x[2] ≈ 0)) ||\n",
    "            (b[3] == \"Left\"   && (b[1] ≤ x[2] ≤ b[2]) && (x[1] ≈ 0)) ||\n",
    "            (b[3] == \"Right\"  && (b[1] ≤ x[2] ≤ b[2]) && (x[1] ≈ width))\n",
    "            for b in bound\n",
    "        )\n",
    "    end\n",
    "end"
   ]
  },
  {
   "cell_type": "code",
   "execution_count": 29,
   "metadata": {},
   "outputs": [
    {
     "data": {
      "text/plain": [
       "f_Γ_wall (generic function with 1 method)"
      ]
     },
     "execution_count": 29,
     "metadata": {},
     "output_type": "execute_result"
    }
   ],
   "source": [
    "f_Γ_w = generate_f_Γ(windows, width, height)\n",
    "f_Γ_d = generate_f_Γ(doors, width, height)\n",
    "f_Γ_wall(x) = !(f_Γ_w(x) || f_Γ_d(x))"
   ]
  },
  {
   "cell_type": "markdown",
   "metadata": {},
   "source": [
    "#### Domain & Discretization"
   ]
  },
  {
   "cell_type": "code",
   "execution_count": 30,
   "metadata": {},
   "outputs": [
    {
     "data": {
      "text/plain": [
       "UnconstrainedFESpace()"
      ]
     },
     "execution_count": 30,
     "metadata": {},
     "output_type": "execute_result"
    }
   ],
   "source": [
    "domain = (0, width , 0, height)\n",
    "partition = (20,20)\n",
    "model = CartesianDiscreteModel(domain,partition) \n",
    "update_labels!(1, model, f_Γ_w, \"window\")\n",
    "update_labels!(2, model, f_Γ_d, \"door\")\n",
    "update_labels!(3, model, f_Γ_wall, \"wall\")\n",
    "\n",
    "order = 1\n",
    "degree = 2*order\n",
    "\n",
    "Ω = Triangulation(model)\n",
    "dΩ = Measure(Ω, degree)\n",
    "\n",
    "Γ_w = BoundaryTriangulation(model, tags=\"window\")\n",
    "dΓ_w = Measure(Γ_w, degree)\n",
    "\n",
    "Γ_d = BoundaryTriangulation(model, tags=\"door\")\n",
    "dΓ_d = Measure(Γ_d, degree)\n",
    "\n",
    "Γ_wall = BoundaryTriangulation(model, tags=\"wall\")\n",
    "dΓ_wall = Measure(Γ_wall, degree)\n",
    "\n",
    "reffe = ReferenceFE(lagrangian,Float64,order)\n",
    "Testspace = TestFESpace(model,reffe,conformity=:H1)                         \n",
    "Trialspace = TransientTrialFESpace(Testspace)                                \n",
    "Uspace = FESpace(model, reffe, conformity=:H1)\n",
    "\n",
    "# fig = CairoMakie.plot(Ω)\n",
    "# scatter!(Ω, marker=:circle, markersize=20, color=:blue) \n",
    "# display(fig)"
   ]
  },
  {
   "cell_type": "markdown",
   "metadata": {},
   "source": [
    "#### Time parameters"
   ]
  },
  {
   "cell_type": "code",
   "execution_count": 31,
   "metadata": {},
   "outputs": [
    {
     "data": {
      "text/plain": [
       "0.05"
      ]
     },
     "execution_count": 31,
     "metadata": {},
     "output_type": "execute_result"
    }
   ],
   "source": [
    "t0 = 0.0    # Start time\n",
    "tF = 10.0   # End time\n",
    "Δt = 0.05   # Timestep"
   ]
  },
  {
   "cell_type": "markdown",
   "metadata": {},
   "source": [
    "#### Room parameters"
   ]
  },
  {
   "cell_type": "code",
   "execution_count": 32,
   "metadata": {},
   "outputs": [
    {
     "data": {
      "text/plain": [
       "SingleFieldFEFunction():\n",
       " num_cells: 400\n",
       " DomainStyle: ReferenceDomain()\n",
       " Triangulation: BodyFittedTriangulation()\n",
       " Triangulation id: 10353107820422980377"
      ]
     },
     "execution_count": 32,
     "metadata": {},
     "output_type": "execute_result"
    }
   ],
   "source": [
    "h_wall(x) = 1.0\n",
    "h_window(x) = 1.0\n",
    "h_door(x) = 1.0\n",
    "\n",
    "ρ(x)=1.225\n",
    "c(x)=1020.0\n",
    "k(x)=15.0\n",
    "\n",
    "h = (h_wall, h_window, h_door) \n",
    "constants = (c, ρ, k, h) \n",
    "\n",
    "Toutdoor(x,t)=5.0\n",
    "Tout(t)=x->Toutdoor(x,t)\n",
    "\n",
    "price(t)=1.0\n",
    "\n",
    "Tini(x)=20.0\n",
    "\n",
    "TIni=interpolate_everywhere(Tini, Uspace(t0))\n",
    "Tfin=interpolate_everywhere(20.0, Uspace(tF))"
   ]
  },
  {
   "cell_type": "markdown",
   "metadata": {},
   "source": [
    "#### Controll parameter"
   ]
  },
  {
   "cell_type": "code",
   "execution_count": 33,
   "metadata": {},
   "outputs": [
    {
     "data": {
      "text/plain": [
       "Qt (generic function with 1 method)"
      ]
     },
     "execution_count": 33,
     "metadata": {},
     "output_type": "execute_result"
    }
   ],
   "source": [
    "q_pos(x) = χ(x[1], -0.9, -0.7) * χ(x[2], 0, 0.20) + χ(x[1], 0.2, 0.4) * χ(x[2], -0.5, 0)\n",
    "Q(x,t)=χ(t,0.0,3.0)*100.0*q_pos(x)\n",
    "Qt(t)=x->Q(x,t)"
   ]
  },
  {
   "cell_type": "markdown",
   "metadata": {},
   "source": [
    "#### Solver parameters"
   ]
  },
  {
   "cell_type": "code",
   "execution_count": 34,
   "metadata": {},
   "outputs": [
    {
     "data": {
      "text/plain": [
       "Proj (generic function with 2 methods)"
      ]
     },
     "execution_count": 34,
     "metadata": {},
     "output_type": "execute_result"
    }
   ],
   "source": [
    "L2norm(u)=√((tF-t0)*∑(Δt*∑(∫(uu⋅uu)*dΩ) for (t,uu) in u))\n",
    "L2skp(u)=(tF-t0)*∑(Δt*∑(∫(uu⋅uu)*dΩ) for (t,uu) in u)\n",
    "\n",
    "γ = 1000.0\n",
    "\n",
    "Proj(a,b,z) = min(max(a,z),b)\n",
    "# Proj(z) = map(x->Proj(a,b,x),z)\n",
    "a=0.0\n",
    "b=1000.0\n",
    "Proj(z) = [(t,FEFunction(Uspace,map(x->Proj(a,b,x), get_free_dof_values(zz)))) for (t,zz) in z]\n",
    "# [(t,interpolate_everywhere(map(x->P(a,b,x),get_free_dof_values(zz)),Uspace(t))) for (t,zz) in z]\n"
   ]
  },
  {
   "cell_type": "markdown",
   "metadata": {},
   "source": [
    "#### SE Test"
   ]
  },
  {
   "cell_type": "code",
   "execution_count": 35,
   "metadata": {},
   "outputs": [
    {
     "data": {
      "text/plain": [
       "(Tuple{Float64, SingleFieldFEFunction{GenericCellField{ReferenceDomain}}}[(0.0, SingleFieldFEFunction()), (0.05, SingleFieldFEFunction()), (0.1, SingleFieldFEFunction()), (0.15000000000000002, SingleFieldFEFunction()), (0.2, SingleFieldFEFunction()), (0.25, SingleFieldFEFunction()), (0.3, SingleFieldFEFunction()), (0.35, SingleFieldFEFunction()), (0.39999999999999997, SingleFieldFEFunction()), (0.44999999999999996, SingleFieldFEFunction())  …  (9.55, SingleFieldFEFunction()), (9.600000000000001, SingleFieldFEFunction()), (9.650000000000002, SingleFieldFEFunction()), (9.700000000000003, SingleFieldFEFunction()), (9.750000000000004, SingleFieldFEFunction()), (9.800000000000004, SingleFieldFEFunction()), (9.850000000000005, SingleFieldFEFunction()), (9.900000000000006, SingleFieldFEFunction()), (9.950000000000006, SingleFieldFEFunction()), (10.000000000000007, SingleFieldFEFunction())], 0.0, 0.0)"
      ]
     },
     "execution_count": 35,
     "metadata": {},
     "output_type": "execute_result"
    }
   ],
   "source": [
    "dΓ = dΓ_w, dΓ_d, dΓ_wall\n",
    "\n",
    "ls = LUSolver()\n",
    "θ = 0.5\n",
    "solver = ThetaMethod(ls, Δt, θ)\n",
    "\n",
    "solution, _, _ = SEsolver(solver, Qt, Trialspace, Testspace; dΩ, dΓ, Tout, constants) \n"
   ]
  },
  {
   "cell_type": "markdown",
   "metadata": {},
   "source": [
    "#### Test Gradient DEs"
   ]
  },
  {
   "cell_type": "code",
   "execution_count": 36,
   "metadata": {},
   "outputs": [],
   "source": [
    "# (Ts,qs,Ws,costs) = GradientDescent(;solveSE=SEsolver, \n",
    "# solveAE=AEsolver, \n",
    "# spaces=(Trialspace, Testspace, Uspace), \n",
    "# dΩ=dΩ, \n",
    "# dΓ=(dΓ_w,dΓ_d,dΓ_wall), \n",
    "# Q=Qt, \n",
    "# J=E, \n",
    "# ∇f=∇e, \n",
    "# P=Proj, \n",
    "# s_min=s_min,\n",
    "# sminargs=nothing, \n",
    "# saveall=true, \n",
    "# tol=1e-5, \n",
    "# iter_max=2,\n",
    "# armijoparas=(ρ=1/2, α_0=1, α_min=1/2^20, σ=1e-4), \n",
    "# Δt=Δt, \n",
    "# t0=t0,\n",
    "# tF=tF,\n",
    "# Tout=Tout,\n",
    "# constants=constants,\n",
    "# Tfin=Tfin)"
   ]
  },
  {
   "cell_type": "code",
   "execution_count": 37,
   "metadata": {},
   "outputs": [
    {
     "data": {
      "text/plain": [
       "202-element Vector{String}:\n",
       " \"results.pvd\"\n",
       " \"tmp/results_0.vtu\"\n",
       " \"tmp/results_0.05.vtu\"\n",
       " \"tmp/results_0.1.vtu\"\n",
       " \"tmp/results_0.15000000000000002.vtu\"\n",
       " \"tmp/results_0.2.vtu\"\n",
       " \"tmp/results_0.25.vtu\"\n",
       " \"tmp/results_0.3.vtu\"\n",
       " \"tmp/results_0.35.vtu\"\n",
       " \"tmp/results_0.39999999999999997.vtu\"\n",
       " \"tmp/results_0.44999999999999996.vtu\"\n",
       " \"tmp/results_0.49999999999999994.vtu\"\n",
       " \"tmp/results_0.5499999999999999.vtu\"\n",
       " ⋮\n",
       " \"tmp/results_9.45.vtu\"\n",
       " \"tmp/results_9.5.vtu\"\n",
       " \"tmp/results_9.55.vtu\"\n",
       " \"tmp/results_9.600000000000001.vtu\"\n",
       " \"tmp/results_9.650000000000002.vtu\"\n",
       " \"tmp/results_9.700000000000003.vtu\"\n",
       " \"tmp/results_9.750000000000004.vtu\"\n",
       " \"tmp/results_9.800000000000004.vtu\"\n",
       " \"tmp/results_9.850000000000005.vtu\"\n",
       " \"tmp/results_9.900000000000006.vtu\"\n",
       " \"tmp/results_9.950000000000006.vtu\"\n",
       " \"tmp/results_10.000000000000007.vtu\""
      ]
     },
     "execution_count": 37,
     "metadata": {},
     "output_type": "execute_result"
    }
   ],
   "source": [
    "# Opprett en mappe for midlertidige filer hvis den ikke eksisterer\n",
    "if !isdir(\"tmp\")\n",
    "    mkdir(\"tmp\")\n",
    "end\n",
    "\n",
    "# Initialtilstanden og resten av tidsløsningene\n",
    "uh0 = solution[1][2]  # Første element er (t0, T0), vi henter T0\n",
    "uh  = solution[2:end]  # De resterende løsningene\n",
    "\n",
    "# Lagre resultater i Paraview-format (VTK)\n",
    "createpvd(\"results\") do pvd\n",
    "    # Første løsning (t=0)\n",
    "    pvd[0] = createvtk(Ω, \"tmp/results_0.vtu\", cellfields=[\"u\" => uh0])\n",
    "\n",
    "    # Lagrer løsninger for hver tidssteg\n",
    "    for (tn, uhn) in uh\n",
    "        pvd[tn] = createvtk(Ω, \"tmp/results_$tn.vtu\", cellfields=[\"u\" => uhn])\n",
    "    end\n",
    "end\n"
   ]
  },
  {
   "cell_type": "code",
   "execution_count": 38,
   "metadata": {},
   "outputs": [],
   "source": [
    "#TODO: lag plot; pris, pådrag, temperatur "
   ]
  }
 ],
 "metadata": {
  "kernelspec": {
   "display_name": "Julia 1.11.3",
   "language": "julia",
   "name": "julia-1.11"
  },
  "language_info": {
   "file_extension": ".jl",
   "mimetype": "application/julia",
   "name": "julia",
   "version": "1.11.3"
  }
 },
 "nbformat": 4,
 "nbformat_minor": 2
}
