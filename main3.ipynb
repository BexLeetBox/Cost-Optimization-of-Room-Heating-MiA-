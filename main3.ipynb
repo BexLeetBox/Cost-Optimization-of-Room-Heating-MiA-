{
 "cells": [
  {
   "cell_type": "markdown",
   "metadata": {},
   "source": [
    "#### Import Julia packages"
   ]
  },
  {
   "cell_type": "code",
   "execution_count": null,
   "metadata": {
    "is_executing": true
   },
   "outputs": [],
   "source": [
    "# import Pkg\n",
    "# Pkg.add(\"JSON3\")\n",
    "# Pkg.add(\"Interpolations\")"
   ]
  },
  {
   "cell_type": "code",
   "execution_count": null,
   "metadata": {
    "is_executing": true
   },
   "outputs": [],
   "source": [
    "using Gridap\n",
    "using GridapMakie, CairoMakie, FileIO\n",
    "using Gridap.FESpaces\n",
    "using Gridap.ReferenceFEs\n",
    "using Gridap.Arrays\n",
    "using Gridap.Algebra\n",
    "using Gridap.Geometry\n",
    "using Gridap.Fields\n",
    "using Gridap.CellData\n",
    "using FillArrays\n",
    "using Test\n",
    "using InteractiveUtils\n",
    "using PyPlot\n",
    "using JSON3\n",
    "using Dates\n",
    "using Interpolations"
   ]
  },
  {
   "cell_type": "markdown",
   "metadata": {},
   "source": [
    "#### Import Custom functions"
   ]
  },
  {
   "cell_type": "code",
   "execution_count": null,
   "metadata": {
    "is_executing": true
   },
   "outputs": [],
   "source": [
    "include(\"Julia_functions/indicator_chi.jl\")\n",
    "include(\"Julia_functions/cost_fun.jl\")\n",
    "include(\"Julia_functions/gradient_descent.jl\")\n",
    "include(\"Julia_functions/solvers.jl\")\n",
    "include(\"Julia_functions/find.jl\")\n",
    "include(\"Julia_functions/res_plot.jl\")\n",
    "include(\"Julia_functions/get_domain.jl\")\n",
    "include(\"Julia_functions/get_price_temp.jl\")\n",
    "include(\"Julia_functions/post_processing.jl\")"
   ]
  },
  {
   "cell_type": "markdown",
   "metadata": {},
   "source": [
    "#### Read JSON File"
   ]
  },
  {
   "cell_type": "code",
   "execution_count": null,
   "metadata": {
    "is_executing": true
   },
   "outputs": [],
   "source": [
    "width, height, windows, doors, heating_elem = get_room(\"Boundary.json\")"
   ]
  },
  {
   "cell_type": "code",
   "execution_count": null,
   "metadata": {
    "is_executing": true
   },
   "outputs": [],
   "source": [
    "price_EUR, price_NOK, T_out, hour_lst = get_price_temp(\"WeatherandEnergy.json\")"
   ]
  },
  {
   "cell_type": "markdown",
   "metadata": {},
   "source": [
    "#### Boundary conditions"
   ]
  },
  {
   "cell_type": "code",
   "execution_count": null,
   "metadata": {
    "is_executing": true
   },
   "outputs": [],
   "source": [
    "f_Γ_w = generate_f_Γ(windows, width, height)\n",
    "f_Γ_d = generate_f_Γ(doors, width, height)\n",
    "f_Γ_wall(x) = !(f_Γ_w(x) || f_Γ_d(x))"
   ]
  },
  {
   "cell_type": "markdown",
   "metadata": {},
   "source": [
    "#### Domain & Discretization"
   ]
  },
  {
   "cell_type": "code",
   "execution_count": null,
   "metadata": {
    "is_executing": true
   },
   "outputs": [],
   "source": [
    "domain = (0, width , 0, height)\n",
    "partition = (25,25)\n",
    "model = CartesianDiscreteModel(domain,partition) \n",
    "update_labels!(1, model, f_Γ_w, \"window\")\n",
    "update_labels!(2, model, f_Γ_d, \"door\")\n",
    "update_labels!(3, model, f_Γ_wall, \"wall\")\n",
    "\n",
    "order = 1\n",
    "degree = 2*order\n",
    "\n",
    "Ω = Triangulation(model)\n",
    "dΩ = Measure(Ω, degree)\n",
    "\n",
    "Γ_w = BoundaryTriangulation(model, tags=\"window\")\n",
    "dΓ_w = Measure(Γ_w, degree)\n",
    "\n",
    "Γ_d = BoundaryTriangulation(model, tags=\"door\")\n",
    "dΓ_d = Measure(Γ_d, degree)\n",
    "\n",
    "Γ_wall = BoundaryTriangulation(model, tags=\"wall\")\n",
    "dΓ_wall = Measure(Γ_wall, degree)\n",
    "\n",
    "reffe = ReferenceFE(lagrangian,Float64,order)\n",
    "Testspace = TestFESpace(model,reffe,conformity=:H1)                         \n",
    "Trialspace = TransientTrialFESpace(Testspace)                                \n",
    "Uspace = FESpace(model, reffe, conformity=:H1)\n",
    "\n",
    "# fig = CairoMakie.plot(Ω)\n",
    "# scatter!(Ω, marker=:circle, markersize=20, color=:blue) \n",
    "# display(fig)"
   ]
  },
  {
   "cell_type": "markdown",
   "metadata": {},
   "source": [
    "#### Time parameters"
   ]
  },
  {
   "cell_type": "code",
   "execution_count": null,
   "metadata": {
    "is_executing": true
   },
   "outputs": [],
   "source": [
    "t0 = 0.0    # Start time\n",
    "tF = 28000/2   # End time\n",
    "Δt = 10.0   # Timestep"
   ]
  },
  {
   "cell_type": "markdown",
   "metadata": {},
   "source": [
    "#### Room parameters"
   ]
  },
  {
   "cell_type": "code",
   "execution_count": null,
   "metadata": {
    "is_executing": true
   },
   "outputs": [],
   "source": [
    "timescale = 2\n",
    "h_wall(x) = 0.22*timescale*0.05            # [W/m^2K]\n",
    "h_window(x) = 1.2*timescale*0.05\n",
    "h_door(x) = 1.0*timescale*0.05\n",
    "\n",
    "ρ(x)=1.225\n",
    "c(x)=1020.0\n",
    "k(x)=15*timescale\n",
    "\n",
    "h = (h_wall, h_window, h_door) \n",
    "constants = (c, ρ, k, h) \n",
    "\n",
    "#Toutdoor(x,t)=273.0\n",
    "#Tout(t)=x->Toutdoor(x,t)\n",
    "\n",
    "Tout = get_temp_function(T_out, tF)\n",
    "\n",
    "#price = get_price_function(price_NOK, tF, 1/timescale*0.1)\n",
    "price = t->1-χ(t,2,8)\n",
    "\n",
    "Tini(x)=297.0\n",
    "\n",
    "TIni=interpolate_everywhere(Tini, Uspace(t0))\n",
    "Tfin=interpolate_everywhere(297.0, Uspace(tF))"
   ]
  },
  {
   "cell_type": "markdown",
   "metadata": {},
   "source": [
    "#### Controll parameter"
   ]
  },
  {
   "cell_type": "code",
   "execution_count": null,
   "metadata": {
    "is_executing": true
   },
   "outputs": [],
   "source": [
    "#q_pos(x) = χ(x[1], 0.21, 1.73) * χ(x[2], 0.13, 0.16)\n",
    "q_pos = heating_elements(heating_elem)\n",
    "Q(x,t)=χ(t,0.0,100.0)*3000.0*q_pos(x)*0.0\n",
    "Qt(t)=x->Q(x,t)"
   ]
  },
  {
   "cell_type": "markdown",
   "metadata": {},
   "source": [
    "#### Solver parameters"
   ]
  },
  {
   "cell_type": "code",
   "execution_count": null,
   "metadata": {
    "is_executing": true
   },
   "outputs": [],
   "source": [
    "L2norm(u)=√((tF-t0)*∑(Δt*∑(∫(uu⋅uu)*dΩ) for (t,uu) in u))\n",
    "L2skp(u)=(tF-t0)*∑(Δt*∑(∫(uu⋅uu)*dΩ) for (t,uu) in u)\n",
    "\n",
    "γ = 5000.0\n",
    "\n",
    "Proj(a,b,z) = min(max(a,z),b)\n",
    "a=0.0\n",
    "b=1000.0*timescale\n",
    "Proj(z) = [(t,FEFunction(Uspace,map(x->Proj(a,b,x), get_free_dof_values(zz)))) for (t,zz) in z]"
   ]
  },
  {
   "cell_type": "markdown",
   "metadata": {},
   "source": [
    "#### Test Gradient DEs"
   ]
  },
  {
   "cell_type": "code",
   "execution_count": null,
   "metadata": {
    "is_executing": true
   },
   "outputs": [],
   "source": [
    "(Ts,qs,Ws,costs) = GradientDescent(;solveSE=SEsolver, \n",
    "solveAE=AEsolver, \n",
    "spaces=(Trialspace, Testspace, Uspace), \n",
    "dΩ=dΩ, \n",
    "dΓ=(dΓ_w,dΓ_d,dΓ_wall), \n",
    "Q=Qt, \n",
    "J=E, \n",
    "∇f=∇e, \n",
    "P=Proj, \n",
    "s_min=s_min,\n",
    "sminargs=nothing, \n",
    "saveall=false, \n",
    "tol=1e-5, \n",
    "iter_max=3,\n",
    "armijoparas=(ρ=0.1, α_0=1, α_min=1e-5, σ=0.0), \n",
    "Δt=Δt, \n",
    "t0=t0,\n",
    "tF=tF,\n",
    "Tout=Tout,\n",
    "constants=constants,\n",
    "Tfin=Tfin,\n",
    "q_pos=q_pos)"
   ]
  },
  {
   "cell_type": "code",
   "execution_count": null,
   "metadata": {
    "is_executing": true
   },
   "outputs": [],
   "source": [
    "# Opprett en mappe for midlertidige filer hvis den ikke eksisterer\n",
    "if !isdir(\"tmp\")\n",
    "    mkdir(\"tmp\")\n",
    "end\n",
    "\n",
    "# Initialtilstanden og resten av tidsløsningene\n",
    "# uh0 = solution[1][2]  # Første element er (t0, T0), vi henter T0\n",
    "# uh  = solution[2:end]  # De resterende løsningene\n",
    "\n",
    "\n",
    "uh = Ts\n",
    "# Lagre resultater i Paraview-format (VTK)\n",
    "createpvd(\"results\") do pvd\n",
    "    # Første løsning (t=0)\n",
    "    # pvd[0] = createvtk(Ω, \"tmp/results_0.vtu\", cellfields=[\"u\" => uh0])\n",
    "\n",
    "    # Lagrer løsninger for hver tidssteg\n",
    "    for (tn, uhn) in uh\n",
    "        pvd[tn] = createvtk(Ω, \"tmp/results_$tn.vtu\", cellfields=[\"u\" => uhn])\n",
    "    end\n",
    "end\n"
   ]
  },
  {
   "cell_type": "code",
   "execution_count": null,
   "metadata": {
    "is_executing": true
   },
   "outputs": [],
   "source": [
    "T = get_temperature_int(Ts, width, height)\n",
    "q = get_control_int(qs)\n",
    "result_plot()"
   ]
  }
 ],
 "metadata": {
  "kernelspec": {
   "display_name": "Julia 1.11.3",
   "language": "julia",
   "name": "julia-1.11"
  },
  "language_info": {
   "file_extension": ".jl",
   "mimetype": "application/julia",
   "name": "julia",
   "version": "1.11.3"
  }
 },
 "nbformat": 4,
 "nbformat_minor": 2
}
