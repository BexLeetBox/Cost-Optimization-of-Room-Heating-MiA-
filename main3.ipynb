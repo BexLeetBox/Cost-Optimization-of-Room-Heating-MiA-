{
 "cells": [
  {
   "cell_type": "markdown",
   "metadata": {},
   "source": [
    "#### Import Julia packages"
   ]
  },
  {
   "cell_type": "code",
   "execution_count": 1,
   "metadata": {},
   "outputs": [],
   "source": [
    "# import Pkg\n",
    "# Pkg.add(\"JSON3\")\n",
    "# Pkg.add(\"Interpolations\")"
   ]
  },
  {
   "cell_type": "code",
   "execution_count": 2,
   "metadata": {},
   "outputs": [],
   "source": [
    "using Gridap\n",
    "using GridapMakie, CairoMakie, FileIO\n",
    "using Gridap.FESpaces\n",
    "using Gridap.ReferenceFEs\n",
    "using Gridap.Arrays\n",
    "using Gridap.Algebra\n",
    "using Gridap.Geometry\n",
    "using Gridap.Fields\n",
    "using Gridap.CellData\n",
    "using FillArrays\n",
    "using Test\n",
    "using InteractiveUtils\n",
    "using PyPlot\n",
    "using JSON3\n",
    "using Dates\n",
    "using Interpolations"
   ]
  },
  {
   "cell_type": "markdown",
   "metadata": {},
   "source": [
    "#### Import Custom functions"
   ]
  },
  {
   "cell_type": "code",
   "execution_count": 11,
   "metadata": {},
   "outputs": [
    {
     "data": {
      "text/plain": [
       "get_control_int (generic function with 1 method)"
      ]
     },
     "metadata": {},
     "output_type": "display_data"
    }
   ],
   "source": [
    "include(\"Julia_functions/indicator_chi.jl\")\n",
    "include(\"Julia_functions/cost_fun.jl\")\n",
    "include(\"Julia_functions/gradient_descent.jl\")\n",
    "include(\"Julia_functions/solvers.jl\")\n",
    "include(\"Julia_functions/find.jl\")\n",
    "include(\"Julia_functions/res_plot.jl\")\n",
    "include(\"Julia_functions/get_domain.jl\")\n",
    "include(\"Julia_functions/get_price_temp.jl\")\n",
    "include(\"Julia_functions/post_processing.jl\")"
   ]
  },
  {
   "cell_type": "markdown",
   "metadata": {},
   "source": [
    "#### Read JSON File"
   ]
  },
  {
   "cell_type": "code",
   "execution_count": 4,
   "metadata": {},
   "outputs": [
    {
     "data": {
      "text/plain": [
       "(5, 3, Any[(0.75125, 2.32125, \"Left\"), (0.73125, 2.32125, \"Right\")], Any[(0.235, 0.655, \"Top\")], [[2.005, 3.435, 0.12125, 0.20125], [1.765, 3.215, 2.82125, 2.89125]])"
      ]
     },
     "metadata": {},
     "output_type": "display_data"
    }
   ],
   "source": [
    "width, height, windows, doors, heating_elem = get_room(\"Boundary.json\")"
   ]
  },
  {
   "cell_type": "code",
   "execution_count": 5,
   "metadata": {},
   "outputs": [
    {
     "data": {
      "text/plain": [
       "(Any[0.01669, 0.01319, 0.00967, 0.01037, 0.02006, 0.02314, 0.01764, 0.01828, 0.01869, 0.01863, 0.01817, 0.01777], Any[0.19048, 0.15054, 0.11036, 0.11835, 0.22894, 0.2641, 0.20133, 0.20863, 0.21331, 0.21262, 0.20737, 0.20281], Any[282.15, 282.34999999999997, 282.25, 282.34999999999997, 282.15, 281.45, 280.65, 280.84999999999997, 280.75, 280.45, 280.25, 279.95], Any[10, 11, 12, 13, 14, 15, 16, 17, 18, 19, 20, 21])"
      ]
     },
     "metadata": {},
     "output_type": "display_data"
    }
   ],
   "source": [
    "price_EUR, price_NOK, T_out, hour_lst = get_price_temp(\"WeatherandEnergy.json\")"
   ]
  },
  {
   "cell_type": "markdown",
   "metadata": {},
   "source": [
    "#### Boundary conditions"
   ]
  },
  {
   "cell_type": "code",
   "execution_count": 6,
   "metadata": {},
   "outputs": [
    {
     "data": {
      "text/plain": [
       "f_Γ_wall (generic function with 1 method)"
      ]
     },
     "metadata": {},
     "output_type": "display_data"
    }
   ],
   "source": [
    "f_Γ_w = generate_f_Γ(windows, width, height)\n",
    "f_Γ_d = generate_f_Γ(doors, width, height)\n",
    "f_Γ_wall(x) = !(f_Γ_w(x) || f_Γ_d(x))"
   ]
  },
  {
   "cell_type": "markdown",
   "metadata": {},
   "source": [
    "#### Domain & Discretization"
   ]
  },
  {
   "cell_type": "code",
   "execution_count": 7,
   "metadata": {},
   "outputs": [
    {
     "data": {
      "text/plain": [
       "UnconstrainedFESpace()"
      ]
     },
     "metadata": {},
     "output_type": "display_data"
    }
   ],
   "source": [
    "domain = (0, width , 0, height)\n",
    "partition = (25,25)\n",
    "model = CartesianDiscreteModel(domain,partition) \n",
    "update_labels!(1, model, f_Γ_w, \"window\")\n",
    "update_labels!(2, model, f_Γ_d, \"door\")\n",
    "update_labels!(3, model, f_Γ_wall, \"wall\")\n",
    "\n",
    "order = 1\n",
    "degree = 2*order\n",
    "\n",
    "Ω = Triangulation(model)\n",
    "dΩ = Measure(Ω, degree)\n",
    "\n",
    "Γ_w = BoundaryTriangulation(model, tags=\"window\")\n",
    "dΓ_w = Measure(Γ_w, degree)\n",
    "\n",
    "Γ_d = BoundaryTriangulation(model, tags=\"door\")\n",
    "dΓ_d = Measure(Γ_d, degree)\n",
    "\n",
    "Γ_wall = BoundaryTriangulation(model, tags=\"wall\")\n",
    "dΓ_wall = Measure(Γ_wall, degree)\n",
    "\n",
    "reffe = ReferenceFE(lagrangian,Float64,order)\n",
    "Testspace = TestFESpace(model,reffe,conformity=:H1)                         \n",
    "Trialspace = TransientTrialFESpace(Testspace)                                \n",
    "Uspace = FESpace(model, reffe, conformity=:H1)\n",
    "\n",
    "# fig = CairoMakie.plot(Ω)\n",
    "# scatter!(Ω, marker=:circle, markersize=20, color=:blue) \n",
    "# display(fig)"
   ]
  },
  {
   "cell_type": "markdown",
   "metadata": {},
   "source": [
    "#### Time parameters"
   ]
  },
  {
   "cell_type": "code",
   "execution_count": 8,
   "metadata": {},
   "outputs": [
    {
     "data": {
      "text/plain": [
       "0.05"
      ]
     },
     "metadata": {},
     "output_type": "display_data"
    }
   ],
   "source": [
    "t0 = 0.0    # Start time\n",
    "tF = 10.0   # End time\n",
    "Δt = 0.05   # Timestep"
   ]
  },
  {
   "cell_type": "markdown",
   "metadata": {},
   "source": [
    "#### Room parameters"
   ]
  },
  {
   "cell_type": "code",
   "execution_count": 10,
   "metadata": {},
   "outputs": [
    {
     "data": {
      "text/plain": [
       "SingleFieldFEFunction():\n",
       " num_cells: 625\n",
       " DomainStyle: ReferenceDomain()\n",
       " Triangulation: BodyFittedTriangulation()\n",
       " Triangulation id: 1039127851119791941"
      ]
     },
     "metadata": {},
     "output_type": "display_data"
    }
   ],
   "source": [
    "timescale = 500\n",
    "h_wall(x) = 0.22*timescale            # [W/m^2K]\n",
    "h_window(x) = 1.2*timescale\n",
    "h_door(x) = 1.0*timescale\n",
    "\n",
    "ρ(x)=1.225\n",
    "c(x)=1020.0\n",
    "k(x)=15*timescale\n",
    "\n",
    "h = (h_wall, h_window, h_door) \n",
    "constants = (c, ρ, k, h) \n",
    "\n",
    "#Toutdoor(x,t)=273.0\n",
    "#Tout(t)=x->Toutdoor(x,t)\n",
    "\n",
    "Tout = get_temp_function(T_out, tF)\n",
    "\n",
    "price = get_price_function(price_NOK, tF, 1/timescale*0.1)\n",
    "\n",
    "Tini(x)=297.0\n",
    "\n",
    "TIni=interpolate_everywhere(Tini, Uspace(t0))\n",
    "Tfin=interpolate_everywhere(297.0, Uspace(tF))"
   ]
  },
  {
   "cell_type": "markdown",
   "metadata": {},
   "source": [
    "#### Controll parameter"
   ]
  },
  {
   "cell_type": "code",
   "execution_count": 12,
   "metadata": {},
   "outputs": [
    {
     "data": {
      "text/plain": [
       "Qt (generic function with 1 method)"
      ]
     },
     "metadata": {},
     "output_type": "display_data"
    }
   ],
   "source": [
    "#q_pos(x) = χ(x[1], 0.21, 1.73) * χ(x[2], 0.13, 0.16)\n",
    "q_pos = heating_elements(heating_elem)\n",
    "Q(x,t)=χ(t,0.0,100.0)*3000.0*q_pos(x)*0.0\n",
    "Qt(t)=x->Q(x,t)"
   ]
  },
  {
   "cell_type": "markdown",
   "metadata": {},
   "source": [
    "#### Solver parameters"
   ]
  },
  {
   "cell_type": "code",
   "execution_count": 13,
   "metadata": {},
   "outputs": [
    {
     "data": {
      "text/plain": [
       "Proj (generic function with 2 methods)"
      ]
     },
     "metadata": {},
     "output_type": "display_data"
    }
   ],
   "source": [
    "L2norm(u)=√((tF-t0)*∑(Δt*∑(∫(uu⋅uu)*dΩ) for (t,uu) in u))\n",
    "L2skp(u)=(tF-t0)*∑(Δt*∑(∫(uu⋅uu)*dΩ) for (t,uu) in u)\n",
    "\n",
    "γ = 5000.0\n",
    "\n",
    "Proj(a,b,z) = min(max(a,z),b)\n",
    "a=0.0\n",
    "b=1000.0*timescale\n",
    "Proj(z) = [(t,FEFunction(Uspace,map(x->Proj(a,b,x), get_free_dof_values(zz)))) for (t,zz) in z]"
   ]
  },
  {
   "cell_type": "markdown",
   "metadata": {},
   "source": [
    "#### Test Gradient DEs"
   ]
  },
  {
   "cell_type": "code",
   "execution_count": 14,
   "metadata": {},
   "outputs": [
    {
     "name": "stdout",
     "output_type": "stream",
     "text": [
      "T computed\n",
      "W computed\n",
      "entered for loop, E=1.0396198093705969e7, k = 1\n",
      "α = 1, new_cost = 1.0396198093705969e7\n",
      "entered for loop, E=8.166685714944502e6, k = 2\n",
      "α = 1, new_cost = 8.166685714944502e6\n",
      "entered for loop, E=7.244755563787114e6, k = 3\n",
      "α = 1, new_cost = 7.244755563787114e6\n",
      "entered for loop, E=6.701219864281684e6, k = 4\n",
      "α = 1, new_cost = 6.701219864281684e6\n",
      "entered for loop, E=6.36503824423994e6, k = 5\n",
      "α = 1, new_cost = 6.36503824423994e6\n",
      "entered for loop, E=6.162570558050462e6, k = 6\n",
      "α = 1, new_cost = 6.162570558050462e6\n",
      "entered for loop, E=6.05130610483729e6, k = 7\n",
      "α = 1, new_cost = 6.05130610483729e6\n",
      "entered for loop, E=6.003488449730772e6, k = 8\n",
      "α = 1, new_cost = 6.003488449730772e6\n",
      "entered for loop, E=5.992351785547102e6, k = 9\n",
      "α = 1, new_cost = 5.992351785547102e6\n",
      "entered for loop, E=5.98573784418133e6, k = 10\n",
      "α = 1, new_cost = 5.98573784418133e6\n",
      "entered for loop, E=5.984093061570973e6, k = 11\n",
      "α = 1, new_cost = 5.984093061570973e6\n",
      "α = 0.5, new_cost = 5.984093061570973e6\n",
      "α = 0.25, new_cost = 5.984093061570973e6\n",
      "α = 0.125, new_cost = 5.984093061570973e6\n",
      "α = 0.0625, new_cost = 5.984093061570973e6\n",
      "α = 0.03125, new_cost = 5.984093061570973e6\n",
      "α = 0.015625, new_cost = 5.984093061570973e6\n",
      "α = 0.0078125, new_cost = 5.984093061570973e6\n",
      "α = 0.00390625, new_cost = 5.984093061570973e6\n",
      "α = 0.001953125, new_cost = 5.984093061570973e6\n",
      "α = 0.0009765625, new_cost = 5.984093061570973e6\n",
      "α = 0.00048828125, new_cost = 5.984093061570973e6\n",
      "α = 0.000244140625, new_cost = 5.984093061570973e6\n",
      "α = 0.0001220703125, new_cost = 5.984093061570973e6\n",
      "α = 6.103515625e-5, new_cost = 5.984093061570973e6\n",
      "α = 3.0517578125e-5, new_cost = 5.984093061570973e6\n",
      "α = 1.52587890625e-5, new_cost = 5.984093061570973e6\n",
      "Armijo rule failed, α = 7.62939453125e-6\n"
     ]
    },
    {
     "data": {
      "text/plain": [
       "(Tuple{Float64, SingleFieldFEFunction{GenericCellField{ReferenceDomain}}}[(0.0, SingleFieldFEFunction()), (0.05, SingleFieldFEFunction()), (0.1, SingleFieldFEFunction()), (0.15000000000000002, SingleFieldFEFunction()), (0.2, SingleFieldFEFunction()), (0.25, SingleFieldFEFunction()), (0.3, SingleFieldFEFunction()), (0.35, SingleFieldFEFunction()), (0.39999999999999997, SingleFieldFEFunction()), (0.44999999999999996, SingleFieldFEFunction())  …  (9.55, SingleFieldFEFunction()), (9.600000000000001, SingleFieldFEFunction()), (9.650000000000002, SingleFieldFEFunction()), (9.700000000000003, SingleFieldFEFunction()), (9.750000000000004, SingleFieldFEFunction()), (9.800000000000004, SingleFieldFEFunction()), (9.850000000000005, SingleFieldFEFunction()), (9.900000000000006, SingleFieldFEFunction()), (9.950000000000006, SingleFieldFEFunction()), (10.000000000000007, SingleFieldFEFunction())], Tuple{Float64, SingleFieldFEFunction{GenericCellField{ReferenceDomain}}}[(0.0, SingleFieldFEFunction()), (0.05, SingleFieldFEFunction()), (0.1, SingleFieldFEFunction()), (0.15, SingleFieldFEFunction()), (0.2, SingleFieldFEFunction()), (0.25, SingleFieldFEFunction()), (0.3, SingleFieldFEFunction()), (0.35, SingleFieldFEFunction()), (0.4, SingleFieldFEFunction()), (0.45, SingleFieldFEFunction())  …  (9.55, SingleFieldFEFunction()), (9.6, SingleFieldFEFunction()), (9.65, SingleFieldFEFunction()), (9.7, SingleFieldFEFunction()), (9.75, SingleFieldFEFunction()), (9.8, SingleFieldFEFunction()), (9.85, SingleFieldFEFunction()), (9.9, SingleFieldFEFunction()), (9.95, SingleFieldFEFunction()), (10.0, SingleFieldFEFunction())], Tuple{Float64, SingleFieldFEFunction{GenericCellField{ReferenceDomain}}}[(10.000000000000007, SingleFieldFEFunction()), (9.950000000000006, SingleFieldFEFunction()), (9.900000000000006, SingleFieldFEFunction()), (9.850000000000005, SingleFieldFEFunction()), (9.800000000000004, SingleFieldFEFunction()), (9.750000000000004, SingleFieldFEFunction()), (9.700000000000003, SingleFieldFEFunction()), (9.650000000000002, SingleFieldFEFunction()), (9.600000000000001, SingleFieldFEFunction()), (9.55, SingleFieldFEFunction())  …  (0.44999999999999996, SingleFieldFEFunction()), (0.39999999999999997, SingleFieldFEFunction()), (0.35, SingleFieldFEFunction()), (0.3, SingleFieldFEFunction()), (0.25, SingleFieldFEFunction()), (0.2, SingleFieldFEFunction()), (0.15000000000000002, SingleFieldFEFunction()), (0.1, SingleFieldFEFunction()), (0.05, SingleFieldFEFunction()), (10.0, SingleFieldFEFunction())], 5.984093061570973e6)"
      ]
     },
     "metadata": {},
     "output_type": "display_data"
    }
   ],
   "source": [
    "(Ts,qs,Ws,costs) = GradientDescent(;solveSE=SEsolver, \n",
    "solveAE=AEsolver, \n",
    "spaces=(Trialspace, Testspace, Uspace), \n",
    "dΩ=dΩ, \n",
    "dΓ=(dΓ_w,dΓ_d,dΓ_wall), \n",
    "Q=Qt, \n",
    "J=E, \n",
    "∇f=∇e, \n",
    "P=Proj, \n",
    "s_min=s_min,\n",
    "sminargs=nothing, \n",
    "saveall=false, \n",
    "tol=1e-5, \n",
    "iter_max=25,\n",
    "armijoparas=(ρ=0.5, α_0=1, α_min=1e-5, σ=1e-4), \n",
    "Δt=Δt, \n",
    "t0=t0,\n",
    "tF=tF,\n",
    "Tout=Tout,\n",
    "constants=constants,\n",
    "Tfin=Tfin,\n",
    "q_pos=q_pos)"
   ]
  },
  {
   "cell_type": "code",
   "execution_count": 15,
   "metadata": {},
   "outputs": [
    {
     "data": {
      "text/plain": [
       "202-element Vector{String}:\n",
       " \"results.pvd\"\n",
       " \"tmp/results_0.0.vtu\"\n",
       " \"tmp/results_0.05.vtu\"\n",
       " \"tmp/results_0.1.vtu\"\n",
       " \"tmp/results_0.15000000000000002.vtu\"\n",
       " \"tmp/results_0.2.vtu\"\n",
       " \"tmp/results_0.25.vtu\"\n",
       " \"tmp/results_0.3.vtu\"\n",
       " \"tmp/results_0.35.vtu\"\n",
       " \"tmp/results_0.39999999999999997.vtu\"\n",
       " ⋮\n",
       " \"tmp/results_9.600000000000001.vtu\"\n",
       " \"tmp/results_9.650000000000002.vtu\"\n",
       " \"tmp/results_9.700000000000003.vtu\"\n",
       " \"tmp/results_9.750000000000004.vtu\"\n",
       " \"tmp/results_9.800000000000004.vtu\"\n",
       " \"tmp/results_9.850000000000005.vtu\"\n",
       " \"tmp/results_9.900000000000006.vtu\"\n",
       " \"tmp/results_9.950000000000006.vtu\"\n",
       " \"tmp/results_10.000000000000007.vtu\""
      ]
     },
     "metadata": {},
     "output_type": "display_data"
    }
   ],
   "source": [
    "# Opprett en mappe for midlertidige filer hvis den ikke eksisterer\n",
    "if !isdir(\"tmp\")\n",
    "    mkdir(\"tmp\")\n",
    "end\n",
    "\n",
    "# Initialtilstanden og resten av tidsløsningene\n",
    "# uh0 = solution[1][2]  # Første element er (t0, T0), vi henter T0\n",
    "# uh  = solution[2:end]  # De resterende løsningene\n",
    "\n",
    "\n",
    "uh = Ts\n",
    "# Lagre resultater i Paraview-format (VTK)\n",
    "createpvd(\"results\") do pvd\n",
    "    # Første løsning (t=0)\n",
    "    # pvd[0] = createvtk(Ω, \"tmp/results_0.vtu\", cellfields=[\"u\" => uh0])\n",
    "\n",
    "    # Lagrer løsninger for hver tidssteg\n",
    "    for (tn, uhn) in uh\n",
    "        pvd[tn] = createvtk(Ω, \"tmp/results_$tn.vtu\", cellfields=[\"u\" => uhn])\n",
    "    end\n",
    "end\n"
   ]
  },
  {
   "cell_type": "code",
   "execution_count": 16,
   "metadata": {},
   "outputs": [
    {
     "name": "stderr",
     "output_type": "stream",
     "text": [
      "sys:1: UserWarning: No artists with labels found to put in legend.  Note that artists whose label start with an underscore are ignored when legend() is called with no argument.\n"
     ]
    }
   ],
   "source": [
    "T = get_temperature_int(Ts, width, height)\n",
    "q = get_control_int(qs)\n",
    "result_plot()"
   ]
  }
 ],
 "metadata": {
  "kernelspec": {
   "display_name": "Julia 1.11.3",
   "language": "julia",
   "name": "julia-1.11"
  },
  "language_info": {
   "file_extension": ".jl",
   "mimetype": "application/julia",
   "name": "julia",
   "version": "1.11.3"
  }
 },
 "nbformat": 4,
 "nbformat_minor": 2
}
