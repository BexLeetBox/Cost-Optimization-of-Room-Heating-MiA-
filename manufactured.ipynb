{
 "cells": [
  {
   "cell_type": "code",
   "execution_count": 7,
   "id": "25184f44",
   "metadata": {},
   "outputs": [],
   "source": [
    "using Gridap\n",
    "using GridapMakie, CairoMakie, FileIO\n",
    "using Gridap.FESpaces\n",
    "using Gridap.ReferenceFEs\n",
    "using Gridap.Arrays\n",
    "using Gridap.Algebra\n",
    "using Gridap.Geometry\n",
    "using Gridap.Fields\n",
    "using Gridap.CellData\n",
    "using FillArrays\n",
    "using Test\n",
    "using InteractiveUtils\n",
    "using PyPlot\n",
    "using JSON3\n",
    "using Dates\n",
    "# using Interpolations"
   ]
  },
  {
   "cell_type": "code",
   "execution_count": 8,
   "id": "4f409095",
   "metadata": {},
   "outputs": [
    {
     "data": {
      "text/plain": [
       "get_control_int (generic function with 1 method)"
      ]
     },
     "metadata": {},
     "output_type": "display_data"
    }
   ],
   "source": [
    "include(\"Julia_functions/indicator_chi.jl\")\n",
    "include(\"Julia_functions/cost_fun.jl\")\n",
    "include(\"Julia_functions/gradient_descent.jl\")\n",
    "include(\"Julia_functions/solvers.jl\")\n",
    "include(\"Julia_functions/find.jl\")\n",
    "include(\"Julia_functions/res_plot.jl\")\n",
    "include(\"Julia_functions/get_domain.jl\")\n",
    "include(\"Julia_functions/get_price_temp.jl\")\n",
    "include(\"Julia_functions/post_processing.jl\")"
   ]
  },
  {
   "cell_type": "code",
   "execution_count": null,
   "id": "221b7250",
   "metadata": {},
   "outputs": [
    {
     "name": "stdout",
     "output_type": "stream",
     "text": [
      "0.1411200080598672"
     ]
    },
    {
     "ename": "UndefVarError",
     "evalue": "UndefVarError: `add_tag_from_function!` not defined in `Main`\nSuggestion: check for spelling errors or missing imports.",
     "output_type": "error",
     "traceback": [
      "UndefVarError: `add_tag_from_function!` not defined in `Main`\n",
      "Suggestion: check for spelling errors or missing imports.\n",
      "\n",
      "Stacktrace:\n",
      " [1] top-level scope\n",
      "   @ c:\\Users\\henni\\OneDrive\\Dokumenter\\GitHub\\Cost-Optimization-of-Room-Heating-MiA-\\jl_notebook_cell_df34fa98e69747e1a8f8a730347b8e2f_W0sZmlsZQ==.jl:31"
     ]
    }
   ],
   "source": [
    "#Skriv kode for å manufactured solution\n",
    "\n",
    "T(x,t) = sin(x[1] + x[2] + t)\n",
    "\n",
    "print(T((1,1),1))\n",
    "\n",
    "T_t(x,t) = cos(x[1]+x[2]+t)\n",
    "ΔT(x,t) = -2*sin(x[1]+x[2]+t)\n",
    "Q(x,t) = T_t - ΔT\n",
    "\n",
    "T_out_up(x,t) = cos(x[1]+x[2]+t) - T(x,t)\n",
    "T_out_down(x,t) = -cos(x[1]+x[2]+t) - T(x,y)\n",
    "T_out_left(x,t) = -cos(x[1]+x[2]+t)- T(x,y)\n",
    "T_out_right(x,t) = cos(x[1]+x[2]+t)- T(x,y)\n",
    "\n",
    "ls = LUSolver()\n",
    "θ = 0.5\n",
    "Δt = 0.05\n",
    "solver = ThetaMethod(ls, Δt, θ)\n",
    "h = 1.0\n",
    "k = 1\n",
    "ρ = 1\n",
    "c = 1\n",
    "t0 = 0\n",
    "tF = 1\n",
    "TIni(x) = 1\n",
    "\n",
    "\n",
    "\n",
    "domain = (0, 1, 0, 1)\n",
    "partition = (25, 25)\n",
    "model = CartesianDiscreteModel(domain, partition)\n",
    "\n",
    "#???????\n",
    "labels = get_face_labeling(model)\n",
    "add_tag_from_tags!(labels, \"up\", x -> isapprox(x[2], 1.0; atol=1e-8))\n",
    "add_tag_from_tags!(labels, \"down\", x -> isapprox(x[2], 0.0; atol=1e-8))\n",
    "add_tag_from_tags!(labels, \"left\", x -> isapprox(x[1], 0.0; atol=1e-8))\n",
    "add_tag_from_tags!(labels, \"right\", x -> isapprox(x[1], 1.0; atol=1e-8))\n",
    "\n",
    "\n",
    "neumanntags = [\"up\", \"down\", \"left\",\"right\"]\n",
    "Γ = BoundaryTriangulation(model,tags=neumanntags)\n",
    "dΓ = Measure(Γ,degree)\n",
    "\n",
    "order = 1\n",
    "degree = 2*order\n",
    "\n",
    "Ω = Triangulation(model)\n",
    "dΩ = Measure(Ω, degree)\n",
    "\n",
    "Γ_up = BoundaryTriangulation(model, tags=\"up\")\n",
    "dΓ_up = Measure(Γ_up, degree)\n",
    "\n",
    "Γ_down = BoundaryTriangulation(model, tags=\"down\")\n",
    "dΓ_down = Measure(Γ_down, degree)\n",
    "\n",
    "Γ_left = BoundaryTriangulation(model, tags=\"left\")\n",
    "dΓ_left = Measure(Γ_left, degree)\n",
    "\n",
    "Γ_right = BoundaryTriangulation(model, tags=\"right\")\n",
    "dΓ_right = Measure(Γ_right, degree)\n",
    "\n",
    "\n",
    "reffe = ReferenceFE(lagrangian,Float64,order)\n",
    "Testspace = TestFESpace(model,reffe,conformity=:H1)                         \n",
    "Trialspace = TransientTrialFESpace(Testspace)                                \n",
    "Uspace = FESpace(model, reffe, conformity=:H1)\n",
    "\n",
    "a_dt(t, dtT, ϕ) = ∫(c*dtT*ϕ*ρ)dΩ\n",
    "\n",
    "a_SE(t, T, ϕ) =\n",
    "    ∫(k * ∇(T) ⋅ ∇(ϕ))dΩ +\n",
    "    ∫(h * T * ϕ)dΓ\n",
    "\n",
    "l_SE(t, ϕ) =\n",
    "    ∫(Qt(t) * ϕ)dΩ +\n",
    "    ∫(T_out_up(x,t) * ϕ * h_wall)dΓ_up +\n",
    "    ∫(T_out_down(x,t) * ϕ * h_wall)dΓ_down +\n",
    "    ∫(T_out_left(x,t) * ϕ * h_wall)dΓ_left +\n",
    "    ∫(T_out_right(x,t) * ϕ * h_wall)dΓ_right +\n",
    "\n",
    "op_SE = TransientLinearFEOperator((a_dt, a_SE), l_SE, Trialspace, Testspace, constant_forms=(true, true))\n",
    "\n",
    "T = solve(solver, op_SE, t0, tF, TIni)\n",
    "\n"
   ]
  },
  {
   "cell_type": "code",
   "execution_count": null,
   "id": "a452990d",
   "metadata": {},
   "outputs": [],
   "source": []
  }
 ],
 "metadata": {
  "kernelspec": {
   "display_name": "Julia 1.11.3",
   "language": "julia",
   "name": "julia-1.11"
  },
  "language_info": {
   "file_extension": ".jl",
   "mimetype": "application/julia",
   "name": "julia",
   "version": "1.11.3"
  }
 },
 "nbformat": 4,
 "nbformat_minor": 5
}
