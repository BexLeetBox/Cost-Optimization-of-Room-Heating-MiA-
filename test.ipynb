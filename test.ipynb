{
 "cells": [
  {
   "cell_type": "code",
   "execution_count": 1,
   "metadata": {},
   "outputs": [],
   "source": [
    "using Gridap\n",
    "using GridapMakie, CairoMakie, FileIO\n",
    "using Gridap.FESpaces\n",
    "using Gridap.ReferenceFEs\n",
    "using Gridap.Arrays\n",
    "using Gridap.Algebra\n",
    "using Gridap.Geometry\n",
    "using Gridap.Fields\n",
    "using Gridap.CellData\n",
    "using FillArrays\n",
    "using Test\n",
    "using InteractiveUtils"
   ]
  },
  {
   "cell_type": "code",
   "execution_count": 2,
   "metadata": {},
   "outputs": [
    {
     "data": {
      "text/plain": [
       "χ (generic function with 1 method)"
      ]
     },
     "metadata": {},
     "output_type": "display_data"
    }
   ],
   "source": [
    "include(\"Julia_functions/solution_animation.jl\")\n",
    "include(\"Julia_functions/indicator_chi.jl\")"
   ]
  },
  {
   "cell_type": "code",
   "execution_count": 123,
   "metadata": {},
   "outputs": [
    {
     "data": {
      "text/plain": [
       "1"
      ]
     },
     "metadata": {},
     "output_type": "display_data"
    }
   ],
   "source": [
    "domain = (0,1,0,1)\n",
    "partition = (50,50)\n",
    "model = CartesianDiscreteModel(domain,partition) |> simplexify\n",
    "order = 1\n",
    "reffe = ReferenceFE(lagrangian,Float64,order)\n",
    "Testspace = TestFESpace(model,reffe,conformity=:H1) ###### conformity correct?\n",
    "Trialspace = TransientTrialFESpace(Testspace)                                # maybe add a function for/if Dirichlet conditions\n",
    "\n",
    "\n",
    "\n",
    "Uspace = FESpace(model, reffe, conformity=:H1)\n",
    "\n",
    "degree = 2*order                                                    # degree of the method used for approximating integrals over Ω\n",
    "Ω = Triangulation(model)\n",
    "dΩ = Measure(Ω,degree)      \t\t\t\t\t\t\t\t\t\t# make the measure dΩ\n",
    "Γ = BoundaryTriangulation(model)                                    # triangulate the boundary ∂Ω\n",
    "dΓ = Measure(Γ,degree)   \n",
    "\n",
    "\n",
    "q_pos(x) = χ(x[1], -0.9, -0.85) * χ(x[2], 0, 0.20)\n",
    "\n",
    "ρ=1.225\n",
    "c = 1# c=1020.0\n",
    "k = 1# k=15.0\n",
    "h = 0.1# h=0.7\n",
    "Tout(x,t)=5.0\n",
    "Q(x,t) = 0 #100.0*q_pos(x)\n",
    "Tini(x) = 0.0\n",
    "t0=0.0\n",
    "tF=5.0\n",
    "TIni=interpolate_everywhere(Tini, Uspace(t0))\n",
    "Tfin=interpolate_everywhere(20.0, Uspace(tF))\n",
    "Δt = 0.05\n",
    "\n",
    "γ = 1"
   ]
  },
  {
   "cell_type": "code",
   "execution_count": 124,
   "metadata": {},
   "outputs": [],
   "source": [
    "ls = LUSolver()\n",
    "θ = 0.5\n",
    "solver = ThetaMethod(ls, Δt, θ)\n",
    "\n",
    "Q(t)=x->Q(x,t)\n",
    "Tout(t)=x->Tout(x,t)\n",
    "\n",
    "a_SE_tconst(t, dtT, ϕ) = ∫(c*dtT*ϕ*ρ)dΩ\n",
    "a_SE_tnonconst(t, T, ϕ) = (-1)*∫(k * ∇(T) ⋅ ∇(ϕ) + tr(h*T*ϕ))dΩ\n",
    "# a_SE_tnonconst(t, T, ϕ) = (-1)*∫(k * ∇(T)⊙∇(ϕ))dΩ - ∫(h*T*ϕ)dΓ\n",
    "\n",
    "\n",
    "l_SE(t, ϕ) = ∫(Q(t) * ϕ)dΩ - ∫(Tout(t) * ϕ * h)dΓ\n",
    "op_SE = TransientLinearFEOperator((a_SE_tconst, a_SE_tnonconst), l_SE, Trialspace, Testspace, constant_forms=(true, false))\n",
    "\n",
    "T = solve(solver, op_SE, t0, tF, TIni)\n",
    "\n",
    "sol = []\n",
    "count = 0\n",
    "for (tn, uhn) in T\n",
    "    if count%5 == 0\n",
    "        push!(sol,uhn)\n",
    "    end\n",
    "    count += 1\n",
    "\n",
    "end\n"
   ]
  },
  {
   "cell_type": "code",
   "execution_count": 125,
   "metadata": {},
   "outputs": [
    {
     "name": "stdout",
     "output_type": "stream",
     "text": []
    },
    {
     "data": {
      "text/plain": [
       "CairoMakie.Screen{IMAGE}\n"
      ]
     },
     "metadata": {},
     "output_type": "display_data"
    }
   ],
   "source": [
    "fig, ax, hm = plot(sol[1])\n",
    "Colorbar(fig[1,2], hm)\n",
    "display(fig)"
   ]
  },
  {
   "cell_type": "code",
   "execution_count": 126,
   "metadata": {},
   "outputs": [
    {
     "ename": "ErrorException",
     "evalue": "Can't interpolate in a range where cmin == cmax. This can happen, for example, if a colorrange is set automatically but there's only one unique value present.",
     "output_type": "error",
     "traceback": [
      "Can't interpolate in a range where cmin == cmax. This can happen, for example, if a colorrange is set automatically but there's only one unique value present.\n",
      "\n",
      "Stacktrace:\n",
      "  [1] error(s::String)\n",
      "    @ Base .\\error.jl:35\n",
      "  [2] interpolated_getindex\n",
      "    @ C:\\Users\\henni\\.julia\\packages\\Makie\\Y3ABD\\src\\colorsampler.jl:36 [inlined]\n",
      "  [3] #110\n",
      "    @ C:\\Users\\henni\\.julia\\packages\\Makie\\Y3ABD\\src\\colorsampler.jl:172 [inlined]\n",
      "  [4] iterate\n",
      "    @ .\\generator.jl:48 [inlined]\n",
      "  [5] _collect(c::Vector{Float32}, itr::Base.Generator{Vector{Float32}, Makie.var\"#110#111\"{Vector{ColorTypes.RGBA{Float32}}, typeof(identity), ColorTypes.RGBA{Float32}, ColorTypes.RGBA{Float32}, ColorTypes.RGBA{Float32}, Float32, Float32}}, ::Base.EltypeUnknown, isz::Base.HasShape{1})\n",
      "    @ Base .\\array.jl:811\n",
      "  [6] collect_similar\n",
      "    @ .\\array.jl:720 [inlined]\n",
      "  [7] map\n",
      "    @ .\\abstractarray.jl:3371 [inlined]\n",
      "  [8] numbers_to_colors\n",
      "    @ C:\\Users\\henni\\.julia\\packages\\Makie\\Y3ABD\\src\\colorsampler.jl:163 [inlined]\n",
      "  [9] to_color\n",
      "    @ C:\\Users\\henni\\.julia\\packages\\Makie\\Y3ABD\\src\\colorsampler.jl:356 [inlined]\n",
      " [10] per_face_colors(_color::Makie.ColorMapping{1, Vector{Float64}, Vector{Float32}}, matcap::Nothing, faces::Vector{GeometryBasics.NgonFace{3, GeometryBasics.OffsetInteger{-1, UInt32}}}, normals::Nothing, uv::Vector{Vec{2, Float32}})\n",
      "    @ CairoMakie C:\\Users\\henni\\.julia\\packages\\CairoMakie\\JchUZ\\src\\utils.jl:572\n",
      " [11] draw_mesh2D(scene::Scene, screen::CairoMakie.Screen{CairoMakie.IMAGE}, plot::Mesh, mesh::GeometryBasics.Mesh)\n",
      "    @ CairoMakie C:\\Users\\henni\\.julia\\packages\\CairoMakie\\JchUZ\\src\\primitives.jl:928\n",
      " [12] draw_atomic(scene::Scene, screen::CairoMakie.Screen{CairoMakie.IMAGE}, primitive::Mesh)\n",
      "    @ CairoMakie C:\\Users\\henni\\.julia\\packages\\CairoMakie\\JchUZ\\src\\primitives.jl:904\n",
      " [13] draw_plot(scene::Scene, screen::CairoMakie.Screen{CairoMakie.IMAGE}, primitive::Mesh{Tuple{GeometryBasics.Mesh{2, Float64, GeometryBasics.Ngon{2, Float64, 3, GeometryBasics.Point{2, Float64}}, GeometryBasics.SimpleFaceView{2, Float64, 3, GeometryBasics.OffsetInteger{-1, UInt32}, GeometryBasics.Point{2, Float64}, GeometryBasics.NgonFace{3, GeometryBasics.OffsetInteger{-1, UInt32}}}}}})\n",
      "    @ CairoMakie C:\\Users\\henni\\.julia\\packages\\CairoMakie\\JchUZ\\src\\infrastructure.jl:135\n",
      " [14] cairo_draw(screen::CairoMakie.Screen{CairoMakie.IMAGE}, scene::Scene)\n",
      "    @ CairoMakie C:\\Users\\henni\\.julia\\packages\\CairoMakie\\JchUZ\\src\\infrastructure.jl:49\n",
      " [15] colorbuffer(screen::CairoMakie.Screen{CairoMakie.IMAGE})\n",
      "    @ CairoMakie C:\\Users\\henni\\.julia\\packages\\CairoMakie\\JchUZ\\src\\screen.jl:375\n",
      " [16] VideoStream(fig::Figure; format::SubString{String}, framerate::Int64, compression::Nothing, profile::Nothing, pixel_format::Nothing, loop::Nothing, loglevel::String, visible::Bool, update::Bool, filter_ticks::Bool, backend::Module, screen_config::@Kwargs{})\n",
      "    @ Makie C:\\Users\\henni\\.julia\\packages\\Makie\\Y3ABD\\src\\ffmpeg-util.jl:267\n",
      " [17] VideoStream\n",
      "    @ C:\\Users\\henni\\.julia\\packages\\Makie\\Y3ABD\\src\\ffmpeg-util.jl:250 [inlined]\n",
      " [18] Record(func::var\"#12#14\"{Observable{Int64}}, figlike::Figure, iter::UnitRange{Int64}; kw_args::@Kwargs{format::SubString{String}, framerate::Int64})\n",
      "    @ Makie C:\\Users\\henni\\.julia\\packages\\Makie\\Y3ABD\\src\\recording.jl:171\n",
      " [19] record(func::Function, figlike::Figure, path::String, iter::UnitRange{Int64}; kw_args::@Kwargs{framerate::Int64})\n",
      "    @ Makie C:\\Users\\henni\\.julia\\packages\\Makie\\Y3ABD\\src\\recording.jl:154\n",
      " [20] record\n",
      "    @ C:\\Users\\henni\\.julia\\packages\\Makie\\Y3ABD\\src\\recording.jl:152 [inlined]\n",
      " [21] solution_animation(solutions::Vector{Any}, framerate::Int64)\n",
      "    @ Main c:\\Users\\henni\\OneDrive\\Dokumenter\\GitHub\\Cost-Optimization-of-Room-Heating-MiA-\\Julia_functions\\solution_animation.jl:20\n",
      " [22] top-level scope\n",
      "    @ c:\\Users\\henni\\OneDrive\\Dokumenter\\GitHub\\Cost-Optimization-of-Room-Heating-MiA-\\jl_notebook_cell_df34fa98e69747e1a8f8a730347b8e2f_W5sZmlsZQ==.jl:1"
     ]
    }
   ],
   "source": [
    "solution_animation(sol,30)"
   ]
  },
  {
   "cell_type": "code",
   "execution_count": null,
   "metadata": {},
   "outputs": [],
   "source": []
  }
 ],
 "metadata": {
  "kernelspec": {
   "display_name": "Julia 1.11.3",
   "language": "julia",
   "name": "julia-1.11"
  },
  "language_info": {
   "file_extension": ".jl",
   "mimetype": "application/julia",
   "name": "julia",
   "version": "1.11.3"
  }
 },
 "nbformat": 4,
 "nbformat_minor": 2
}
