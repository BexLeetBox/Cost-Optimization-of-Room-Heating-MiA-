{
 "cells": [
  {
   "cell_type": "markdown",
   "metadata": {},
   "source": [
    "# Exercise 2 Task 4"
   ]
  },
  {
   "cell_type": "markdown",
   "metadata": {},
   "source": [
    "We consider the elliptic problem\n",
    "$$\\begin{cases} -\\Delta y+y&=f\\quad \\text{in}\\ \\Omega:=[-1,1]^2\\\\ -\\frac{\\partial y}{\\partial \\nu}&=g\\quad\\text{on}\\ \\partial\\Omega \\end{cases}$$\n",
    "\n",
    "a) Compute $f$ and $g$ such that $y(x)=\\lVert x\\rVert_{\\ell^2}=x_1^2+x_2^2$ is the unique solution.\n",
    "\n",
    "We find\n",
    "$$\\begin{align*}\n",
    "f(x)&=-\\Delta y(x)+y(x)=-4+y(x)=-4+x_1^2+x_2^2 \\\\\n",
    "g(x)&=-\\frac{\\partial y(x)}{\\partial \\nu(x)}=-\\nabla y(x)\\cdot\\nu(x)=-\\begin{pmatrix} 2x_1\\\\2x_2 \\end{pmatrix}\\cdot\\nu(x)=\n",
    "\\begin{cases}\n",
    "-\\begin{pmatrix} 2x_1\\\\2x_2 \\end{pmatrix}\\cdot\\begin{pmatrix} -1\\\\0 \\end{pmatrix}=2x_1 &\\text{on}\\ \\{-1\\}\\times[-1,1] \\\\\n",
    "-\\begin{pmatrix} 2x_1\\\\2x_2 \\end{pmatrix}\\cdot\\begin{pmatrix} 0\\\\-1 \\end{pmatrix}=2x_2 &\\text{on}\\ [-1,1]\\times\\{-1\\} \\\\\n",
    "-\\begin{pmatrix} 2x_1\\\\2x_2 \\end{pmatrix}\\cdot\\begin{pmatrix} 1\\\\0 \\end{pmatrix}=-2x_1 &\\text{on}\\ \\{1\\}\\times[-1,1] \\\\\n",
    "-\\begin{pmatrix} 2x_1\\\\2x_2 \\end{pmatrix}\\cdot\\begin{pmatrix} 0\\\\1 \\end{pmatrix}=-2x_2 &\\text{on}\\ [-1,1]\\times\\{1\\}\n",
    "\\end{cases}=-2\n",
    "\\end{align*}$$\n",
    "\n",
    "b) Compute the finite-element approximation for 5 refinement levels and the resulting $L^2$-error.\n",
    "\n",
    "For Gridap we need the week formulation of the problem. We get with Green's formula\n",
    "$$\\int\\limits_\\Omega -\\Delta y\\varphi+y\\phi\\,\\mathrm dx=\\int\\limits_\\Omega \\nabla y\\cdot\\nabla\\varphi\\,\\mathrm dx-\\int\\limits_{\\partial\\Omega} \\nabla y\\cdot\\nu\\,\\varphi\\,\\mathrm ds+\\int\\limits_\\Omega y\\varphi\\,\\mathrm dx=\\int\\limits_\\Omega f\\varphi\\,\\mathrm dx$$\n",
    "where inputting the boundary condition leads to\n",
    "$$\\begin{align*} a(y,\\varphi)&=\\int\\limits_\\Omega \\nabla y\\cdot\\nabla\\varphi\\,\\mathrm dx+\\int\\limits_\\Omega y\\varphi\\,\\mathrm dx \\\\ l(\\varphi)&=\\int\\limits_\\Omega f\\varphi\\,\\mathrm dx-\\int\\limits_{\\partial\\Omega} g\\varphi\\,\\mathrm ds \\end{align*}$$\n",
    "The following code produces three plots: the grid, the numerical solution (finite-element approximation) and the error $u-u_h$. Lastly, the L2-norm of the error is printed."
   ]
  },
  {
   "cell_type": "code",
   "execution_count": null,
   "metadata": {},
   "outputs": [
    {
     "ename": "Base.Meta.ParseError",
     "evalue": "ParseError:\n# Error @ c:\\Users\\henni\\OneDrive\\Dokumenter\\GitHub\\Cost-Optimization-of-Room-Heating-MiA-\\jl_notebook_cell_df34fa98e69747e1a8f8a730347b8e2f_W2sZmlsZQ==.jl:7:1\n\r\n\\int\r\n╙ ── not a unary operator",
     "output_type": "error",
     "traceback": [
      "ParseError:\n",
      "# Error @ c:\\Users\\henni\\OneDrive\\Dokumenter\\GitHub\\Cost-Optimization-of-Room-Heating-MiA-\\jl_notebook_cell_df34fa98e69747e1a8f8a730347b8e2f_W2sZmlsZQ==.jl:7:1\n",
      "\r\n",
      "\\int\r\n",
      "╙ ── not a unary operator\n",
      "\n",
      "Stacktrace:\n",
      " [1] top-level scope\n",
      "   @ c:\\Users\\henni\\OneDrive\\Dokumenter\\GitHub\\Cost-Optimization-of-Room-Heating-MiA-\\jl_notebook_cell_df34fa98e69747e1a8f8a730347b8e2f_W2sZmlsZQ==.jl:7"
     ]
    }
   ],
   "source": [
    "using Gridap\n",
    "\n",
    "u(x) = x[1]^2 + x[2]^2\n",
    "f(x) = u(x)-4\n",
    "g(x) = -2\n",
    "    \n",
    "\n",
    "domain = (-1, 1, -1, 1)\n",
    "partition = nx, ny = 5,5\n",
    "model = CartesianDiscreteModel(domain, partition) |> simplexify\n",
    "\n",
    "using GridapMakie, CairoMakie, FileIO\n",
    "Ω = Triangulation(model)                                # make Triangulation\n",
    "fig = plot(Ω)\n",
    "wireframe!(Ω, color=:black)                             # Plot edges of each element\n",
    "scatter!(Ω, marker=:circle, markersize=20, color=:blue) # Plot mesh nodes\n",
    "display(fig)                                            # show plot\n",
    "save(\"Exercise3_task2_Triangulation.svg\", fig)          # save for later\n",
    "\n",
    "\n",
    "order = 1\n",
    "reffe = ReferenceFE(lagrangian,Float64,order)\n",
    "Testspace = TestFESpace(model,reffe,conformity=:H1)     # no Dirichlet (/ everything Neumann)\n",
    "\n",
    "Trialspace = TrialFESpace(Testspace)                    # make trial space based on test space\n",
    "\n",
    "degree = 2*order                                        # degree of the method used for approximating integrals over Ω                   \n",
    "dΩ = Measure(Ω,degree)                                  # make the measure dΩ\n",
    "\n",
    "Γ = BoundaryTriangulation(model)                        # triangulate the boundary ∂Ω\n",
    "dΓ = Measure(Γ,degree)                                  # measure on Γ\n",
    "\n",
    "a(u,ϕ) = ∫( ∇(ϕ)⊙∇(u)+u*ϕ)*dΩ                          # bilinear form\n",
    "l(ϕ) = ∫( ϕ*f )*dΩ - ∫( ϕ*g )*dΓ                        # linear functional\n",
    "\n",
    "op = AffineFEOperator(a,l,Trialspace,Testspace)         # make FE operator - affine because the PDE is affine\n",
    "\n",
    "uh = solve(op)                                          # solve problem\n",
    "\n",
    "fig, _ , plt = plot(Ω, uh, colormap=:plasma)            # make plot of u_h\n",
    "wireframe!(Ω, color=:black, linewidth=1)                # add triangulation to plot\n",
    "Colorbar(fig[1,2], plt)                                 # add color bar\n",
    "display(fig)                                            # show plot\n",
    "save(\"Exercise3_task2_Solution.svg\", fig)               # save picture\n",
    "\n",
    "\n",
    "e = u - uh                                              # error\n",
    "\n",
    "fig, _ , plt = plot(Ω, e, colormap=:plasma)             # plot of error\n",
    "wireframe!(Ω, color=:black, linewidth=1)                # add triangulation\n",
    "Colorbar(fig[1,2], plt)                                 # add color bar\n",
    "display(fig)                                            # show plot\n",
    "save(\"Exercise3_task2_Error.svg\", fig)                  # save picture\n",
    "\n",
    "el2 = sqrt(sum( ∫( e*e )*dΩ ))                         # calculate ||u-u_h||_L2\n",
    "print(\"The L2 error ||u-uₕ|| is $el2\")"
   ]
  },
  {
   "cell_type": "code",
   "execution_count": null,
   "metadata": {},
   "outputs": [
    {
     "name": "stdout",
     "output_type": "stream",
     "text": [
      "8\n"
     ]
    }
   ],
   "source": [
    "import Pkg; Pkg.add(\"GridapMakie\")\n",
    "import Pkg; Pkg.add(\"CairoMakie\")\n",
    "import Pkg; Pkg.add(\"FileIO\")"
   ]
  }
 ],
 "metadata": {
  "kernelspec": {
   "display_name": "Julia 1.11.3",
   "language": "julia",
   "name": "julia-1.11"
  },
  "language_info": {
   "file_extension": ".jl",
   "mimetype": "application/julia",
   "name": "julia",
   "version": "1.11.3"
  }
 },
 "nbformat": 4,
 "nbformat_minor": 2
}
