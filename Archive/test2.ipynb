{
 "cells": [
  {
   "cell_type": "code",
   "execution_count": 1,
   "metadata": {},
   "outputs": [],
   "source": [
    "using Gridap, GridapMakie, CairoMakie"
   ]
  },
  {
   "cell_type": "code",
   "execution_count": 2,
   "metadata": {},
   "outputs": [
    {
     "data": {
      "text/plain": [
       "draw (generic function with 1 method)"
      ]
     },
     "metadata": {},
     "output_type": "display_data"
    }
   ],
   "source": [
    "include(\"Julia_functions/solution_animation.jl\")\n",
    "#include(\"Julia_functions/indicator_chi.jl\")"
   ]
  },
  {
   "cell_type": "code",
   "execution_count": 3,
   "metadata": {},
   "outputs": [
    {
     "data": {
      "text/plain": [
       "χ (generic function with 1 method)"
      ]
     },
     "metadata": {},
     "output_type": "display_data"
    }
   ],
   "source": [
    "function χ(x, a, b)\n",
    "    if a < x && x < b\n",
    "        return 1\n",
    "    else\n",
    "        return 0\n",
    "    end\n",
    "end"
   ]
  },
  {
   "cell_type": "code",
   "execution_count": 4,
   "metadata": {},
   "outputs": [
    {
     "data": {
      "text/plain": [
       "GenericTransientFESolution()"
      ]
     },
     "metadata": {},
     "output_type": "display_data"
    }
   ],
   "source": [
    "domain = (-1, +1, -1, +1)\n",
    "partition = (20, 20)\n",
    "model = CartesianDiscreteModel(domain, partition)\n",
    "\n",
    "order = 1\n",
    "reffe = ReferenceFE(lagrangian, Float64, order)\n",
    "V0 = TestFESpace(model, reffe, conformity=:H1)\n",
    "\n",
    "Ug = TransientTrialFESpace(V0)\n",
    "\n",
    "degree = 2\n",
    "Ω = Triangulation(model)\n",
    "dΩ = Measure(Ω, degree)\n",
    "\n",
    "Γ = BoundaryTriangulation(model)                        # triangulate the boundary ∂Ω\n",
    "dΓ = Measure(Γ,degree)  \n",
    "\n",
    "\n",
    "q_pos(x) = χ(x[1], -0.9, -0.7) * χ(x[2], 0, 0.20) + χ(x[1], 0.2, 0.4) * χ(x[2], -0.5, 0)\n",
    "\n",
    "α(t) = x -> 1.0\n",
    "f(t) = x -> 1000.0\n",
    "Tout(x,t)= 4.0\n",
    "Tout(t)=x->Tout(x,t)\n",
    "\n",
    "m(t, dtu, v) = ∫(v * dtu)dΩ\n",
    "a(t, u, v) = ∫(α(t) * ∇(v) ⋅ ∇(u))dΩ + ∫(u*v)dΓ\n",
    "l(t, v) = ∫(q_pos*v * f(t))dΩ + ∫(Tout(t) * v)dΓ\n",
    "\n",
    "op = TransientLinearFEOperator((a, m), l, Ug, V0)\n",
    "\n",
    "op_opt = TransientLinearFEOperator((a, m), l, Ug, V0, constant_forms=(true, true))\n",
    "\n",
    "ls = LUSolver()\n",
    "Δt = 0.01\n",
    "θ = 0.5\n",
    "solver = ThetaMethod(ls, Δt, θ)\n",
    "\n",
    "t0, tF = 0.0, 10.0\n",
    "uh0 = interpolate_everywhere(20.0, Ug(t0))\n",
    "uh = solve(solver, op, t0, tF, uh0)"
   ]
  },
  {
   "cell_type": "code",
   "execution_count": null,
   "metadata": {},
   "outputs": [],
   "source": [
    "if !isdir(\"tmp\")\n",
    "    mkdir(\"tmp\")\n",
    "  end\n",
    "  \n",
    "  createpvd(\"results\") do pvd\n",
    "    pvd[0] = createvtk(Ω, \"tmp/results_0\" * \".vtu\", cellfields=[\"u\" => uh0])\n",
    "    for (tn, uhn) in uh\n",
    "      pvd[tn] = createvtk(Ω, \"tmp/results_$tn\" * \".vtu\", cellfields=[\"u\" => uhn])\n",
    "    end\n",
    "  end"
   ]
  },
  {
   "cell_type": "code",
   "execution_count": 11,
   "metadata": {},
   "outputs": [],
   "source": [
    "solutions = []\n",
    "time_steps = []\n",
    "for (tn, uhn) in uh\n",
    "    push!(solutions, uhn)\n",
    "    push!(time_steps, tn)\n",
    "end"
   ]
  },
  {
   "cell_type": "code",
   "execution_count": 9,
   "metadata": {},
   "outputs": [
    {
     "name": "stdout",
     "output_type": "stream",
     "text": [
      "1001"
     ]
    },
    {
     "ename": "BoundsError",
     "evalue": "BoundsError: attempt to access 1600-element Array{RGBA{Float32},1} with eltype ColorTypes.RGBA{Float32} at index [TriangleFace(GeometryBasics.OffsetInteger{-1, UInt32}(0x0000063f), GeometryBasics.OffsetInteger{-1, UInt32}(0x00000640), GeometryBasics.OffsetInteger{-1, UInt32}(0x00000641))]",
     "output_type": "error",
     "traceback": [
      "BoundsError: attempt to access 1600-element Array{RGBA{Float32},1} with eltype ColorTypes.RGBA{Float32} at index [TriangleFace(GeometryBasics.OffsetInteger{-1, UInt32}(0x0000063f), GeometryBasics.OffsetInteger{-1, UInt32}(0x00000640), GeometryBasics.OffsetInteger{-1, UInt32}(0x00000641))]\n",
      "\n",
      "Stacktrace:\n",
      "  [1] throw_boundserror(A::Vector{ColorTypes.RGBA{Float32}}, I::Tuple{GeometryBasics.NgonFace{3, GeometryBasics.OffsetInteger{-1, UInt32}}})\n",
      "    @ Base .\\essentials.jl:14\n",
      "  [2] checkbounds\n",
      "    @ .\\abstractarray.jl:699 [inlined]\n",
      "  [3] _getindex\n",
      "    @ .\\multidimensional.jl:914 [inlined]\n",
      "  [4] getindex\n",
      "    @ .\\abstractarray.jl:1312 [inlined]\n",
      "  [5] getindex(fi::CairoMakie.FaceIterator{:PerVert, Vector{ColorTypes.RGBA{Float32}}, Vector{GeometryBasics.NgonFace{3, GeometryBasics.OffsetInteger{-1, UInt32}}}, Tuple{ColorTypes.RGBA{Float32}, ColorTypes.RGBA{Float32}, ColorTypes.RGBA{Float32}}}, i::Int64)\n",
      "    @ CairoMakie C:\\Users\\Bruker\\.julia\\packages\\CairoMakie\\JchUZ\\src\\utils.jl:563\n",
      "  [6] iterate\n",
      "    @ .\\abstractarray.jl:1209 [inlined]\n",
      "  [7] _zip_iterate_some\n",
      "    @ .\\iterators.jl:444 [inlined]\n",
      "  [8] _zip_iterate_some\n",
      "    @ .\\iterators.jl:446 [inlined]\n",
      "  [9] _zip_iterate_all\n",
      "    @ .\\iterators.jl:436 [inlined]\n",
      " [10] iterate\n",
      "    @ .\\iterators.jl:427 [inlined]\n",
      " [11] draw_mesh2D(screen::CairoMakie.Screen{CairoMakie.IMAGE}, per_face_cols::CairoMakie.FaceIterator{:PerVert, Vector{ColorTypes.RGBA{Float32}}, Vector{GeometryBasics.NgonFace{3, GeometryBasics.OffsetInteger{-1, UInt32}}}, Tuple{ColorTypes.RGBA{Float32}, ColorTypes.RGBA{Float32}, ColorTypes.RGBA{Float32}}}, vs::Vector{GeometryBasics.Point{2, Float32}}, fs::Vector{GeometryBasics.NgonFace{3, GeometryBasics.OffsetInteger{-1, UInt32}}})\n",
      "    @ CairoMakie C:\\Users\\Bruker\\.julia\\packages\\CairoMakie\\JchUZ\\src\\primitives.jl:963\n",
      " [12] draw_mesh2D(scene::Scene, screen::CairoMakie.Screen{CairoMakie.IMAGE}, plot::Mesh, mesh::GeometryBasics.Mesh)\n",
      "    @ CairoMakie C:\\Users\\Bruker\\.julia\\packages\\CairoMakie\\JchUZ\\src\\primitives.jl:929\n",
      " [13] draw_atomic(scene::Scene, screen::CairoMakie.Screen{CairoMakie.IMAGE}, primitive::Mesh)\n",
      "    @ CairoMakie C:\\Users\\Bruker\\.julia\\packages\\CairoMakie\\JchUZ\\src\\primitives.jl:904\n",
      " [14] draw_plot(scene::Scene, screen::CairoMakie.Screen{CairoMakie.IMAGE}, primitive::Mesh{Tuple{GeometryBasics.Mesh{2, Float64, GeometryBasics.Ngon{2, Float64, 3, GeometryBasics.Point{2, Float64}}, GeometryBasics.SimpleFaceView{2, Float64, 3, GeometryBasics.OffsetInteger{-1, UInt32}, GeometryBasics.Point{2, Float64}, GeometryBasics.NgonFace{3, GeometryBasics.OffsetInteger{-1, UInt32}}}}}})\n",
      "    @ CairoMakie C:\\Users\\Bruker\\.julia\\packages\\CairoMakie\\JchUZ\\src\\infrastructure.jl:135\n",
      " [15] cairo_draw(screen::CairoMakie.Screen{CairoMakie.IMAGE}, scene::Scene)\n",
      "    @ CairoMakie C:\\Users\\Bruker\\.julia\\packages\\CairoMakie\\JchUZ\\src\\infrastructure.jl:49\n",
      " [16] colorbuffer(screen::CairoMakie.Screen{CairoMakie.IMAGE})\n",
      "    @ CairoMakie C:\\Users\\Bruker\\.julia\\packages\\CairoMakie\\JchUZ\\src\\screen.jl:375\n",
      " [17] VideoStream(fig::Figure; format::SubString{String}, framerate::Int64, compression::Nothing, profile::Nothing, pixel_format::Nothing, loop::Nothing, loglevel::String, visible::Bool, update::Bool, filter_ticks::Bool, backend::Module, screen_config::@Kwargs{})\n",
      "    @ Makie C:\\Users\\Bruker\\.julia\\packages\\Makie\\Y3ABD\\src\\ffmpeg-util.jl:267\n",
      " [18] VideoStream\n",
      "    @ C:\\Users\\Bruker\\.julia\\packages\\Makie\\Y3ABD\\src\\ffmpeg-util.jl:250 [inlined]\n",
      " [19] Record(func::var\"#12#14\"{Observable{Int64}}, figlike::Figure, iter::UnitRange{Int64}; kw_args::@Kwargs{format::SubString{String}, framerate::Int64})\n",
      "    @ Makie C:\\Users\\Bruker\\.julia\\packages\\Makie\\Y3ABD\\src\\recording.jl:171\n",
      " [20] record(func::Function, figlike::Figure, path::String, iter::UnitRange{Int64}; kw_args::@Kwargs{framerate::Int64})\n",
      "    @ Makie C:\\Users\\Bruker\\.julia\\packages\\Makie\\Y3ABD\\src\\recording.jl:154\n",
      " [21] record\n",
      "    @ C:\\Users\\Bruker\\.julia\\packages\\Makie\\Y3ABD\\src\\recording.jl:152 [inlined]\n",
      " [22] solution_animation(solutions::Vector{Any}, framerate::Int64)\n",
      "    @ Main c:\\Users\\Bruker\\Documents\\NTNU\\8. Semester\\MiA\\Cost-Optimization-of-Room-Heating-MiA-\\Julia_functions\\solution_animation.jl:20\n",
      " [23] top-level scope\n",
      "    @ c:\\Users\\Bruker\\Documents\\NTNU\\8. Semester\\MiA\\Cost-Optimization-of-Room-Heating-MiA-\\jl_notebook_cell_df34fa98e69747e1a8f8a730347b8e2f_W6sZmlsZQ==.jl:2"
     ]
    }
   ],
   "source": [
    "print(length(solutions))\n",
    "solution_animation(solutions, 30)"
   ]
  }
 ],
 "metadata": {
  "kernelspec": {
   "display_name": "Julia 1.11.3",
   "language": "julia",
   "name": "julia-1.11"
  },
  "language_info": {
   "file_extension": ".jl",
   "mimetype": "application/julia",
   "name": "julia",
   "version": "1.11.3"
  }
 },
 "nbformat": 4,
 "nbformat_minor": 2
}
