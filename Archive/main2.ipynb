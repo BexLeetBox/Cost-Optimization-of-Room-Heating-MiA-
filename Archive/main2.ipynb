{
 "cells": [
  {
   "cell_type": "markdown",
   "metadata": {},
   "source": [
    "#### Import Julia packages"
   ]
  },
  {
   "cell_type": "code",
   "execution_count": 47,
   "metadata": {},
   "outputs": [],
   "source": [
    "using Gridap\n",
    "using GridapMakie, CairoMakie, FileIO\n",
    "using Gridap.FESpaces\n",
    "using Gridap.ReferenceFEs\n",
    "using Gridap.Arrays\n",
    "using Gridap.Algebra\n",
    "using Gridap.Geometry\n",
    "using Gridap.Fields\n",
    "using Gridap.CellData\n",
    "using FillArrays\n",
    "using Test\n",
    "using InteractiveUtils\n",
    "using PyPlot"
   ]
  },
  {
   "cell_type": "code",
   "execution_count": 48,
   "metadata": {},
   "outputs": [
    {
     "data": {
      "text/plain": [
       "_update_labels_locally! (generic function with 1 method)"
      ]
     },
     "metadata": {},
     "output_type": "display_data"
    }
   ],
   "source": [
    "# using Pkg\n",
    "# Pkg.add(\"PyPlot\")\n",
    "\n",
    "\n",
    "function mark_nodes(f,model::DiscreteModel)\n",
    "  topo   = get_grid_topology(model)\n",
    "  coords = get_vertex_coordinates(topo)\n",
    "  mask = map(f,coords)\n",
    "  return mask\n",
    "end\n",
    "function update_labels!(e::Integer,model::CartesianDiscreteModel,f_Γ::Function,name::String)\n",
    "    mask = mark_nodes(f_Γ,model)\n",
    "    _update_labels_locally!(e,model,mask,name)\n",
    "    nothing\n",
    "end\n",
    "function _update_labels_locally!(e,model::CartesianDiscreteModel{2},mask,name)\n",
    "  topo   = get_grid_topology(model)\n",
    "  labels = get_face_labeling(model)\n",
    "  cell_to_entity = labels.d_to_dface_to_entity[end]\n",
    "  entity = maximum(cell_to_entity) + e\n",
    "  # Vertices\n",
    "  vtxs_Γ = findall(mask)\n",
    "  vtx_edge_connectivity = Array(get_faces(topo,0,1)[vtxs_Γ])\n",
    "  # Edges\n",
    "  edge_entries = [findall(x->any(x .∈  vtx_edge_connectivity[1:end.!=j]),\n",
    "    vtx_edge_connectivity[j]) for j = 1:length(vtx_edge_connectivity)]\n",
    "  edge_Γ = unique(reduce(vcat,getindex.(vtx_edge_connectivity,edge_entries),init=[]))\n",
    "  labels.d_to_dface_to_entity[1][vtxs_Γ] .= entity\n",
    "  labels.d_to_dface_to_entity[2][edge_Γ] .= entity\n",
    "  add_tag!(labels,name,[entity])\n",
    "  return cell_to_entity\n",
    "end"
   ]
  },
  {
   "cell_type": "markdown",
   "metadata": {},
   "source": [
    "#### Import Custom functions"
   ]
  },
  {
   "cell_type": "code",
   "execution_count": 49,
   "metadata": {},
   "outputs": [
    {
     "data": {
      "text/plain": [
       "result_plot (generic function with 1 method)"
      ]
     },
     "metadata": {},
     "output_type": "display_data"
    }
   ],
   "source": [
    "#include(\"Julia_functions/solution_animation.jl\")\n",
    "include(\"Julia_functions/indicator_chi.jl\")\n",
    "include(\"Julia_functions/cost_fun.jl\")\n",
    "include(\"Julia_functions/gradient_descent.jl\")\n",
    "include(\"Julia_functions/solvers.jl\")\n",
    "include(\"Julia_functions/find.jl\")\n",
    "include(\"Julia_functions/res_plot.jl\")"
   ]
  },
  {
   "cell_type": "markdown",
   "metadata": {},
   "source": [
    "#### Boundary conditions"
   ]
  },
  {
   "cell_type": "code",
   "execution_count": 50,
   "metadata": {},
   "outputs": [
    {
     "data": {
      "text/plain": [
       "f_Γ_wall (generic function with 1 method)"
      ]
     },
     "metadata": {},
     "output_type": "display_data"
    }
   ],
   "source": [
    "# Funksjon for å definere vinduer: x[1] i intervallet [-0.25, 0.25] og x[2] på y = -1 (nedre kant)\n",
    "f_Γ_w(x) = (-0.25 ≤ x[1] ≤ 0.25) && (x[2] ≈ -1)\n",
    "\n",
    "# Funksjon for å definere dører: x[2] i intervallet [-0.10, 0.10] og x[1] på x = -1 (venstre kant)\n",
    "f_Γ_d(x) = (-0.10 ≤ x[2] ≤ 0.10) && (x[1] ≈ -1)\n",
    "\n",
    "# Definer vegger som de områdene som ikke er vinduer eller dører\n",
    "f_Γ_wall(x) = !(f_Γ_w(x) || f_Γ_d(x))\n",
    "\n"
   ]
  },
  {
   "cell_type": "markdown",
   "metadata": {},
   "source": [
    "#### Domain & Discretization"
   ]
  },
  {
   "cell_type": "code",
   "execution_count": 51,
   "metadata": {},
   "outputs": [
    {
     "data": {
      "text/plain": [
       "UnconstrainedFESpace()"
      ]
     },
     "metadata": {},
     "output_type": "display_data"
    }
   ],
   "source": [
    "domain = (-1,+1,-1,+1)\n",
    "partition = (20,20)\n",
    "model = CartesianDiscreteModel(domain,partition)\n",
    "update_labels!(1, model, f_Γ_w, \"window\")\n",
    "update_labels!(2, model, f_Γ_d, \"door\")\n",
    "update_labels!(3, model, f_Γ_wall, \"wall\")\n",
    "\n",
    "order = 1\n",
    "degree = 2*order\n",
    "\n",
    "Ω = Triangulation(model)\n",
    "dΩ = Measure(Ω, degree)\n",
    "\n",
    "Γ_w = BoundaryTriangulation(model, tags=\"window\")\n",
    "dΓ_w = Measure(Γ_w, degree)\n",
    "\n",
    "Γ_d = BoundaryTriangulation(model, tags=\"door\")\n",
    "dΓ_d = Measure(Γ_d, degree)\n",
    "\n",
    "Γ_wall = BoundaryTriangulation(model, tags=\"wall\")\n",
    "dΓ_wall = Measure(Γ_wall, degree)\n",
    "\n",
    "reffe = ReferenceFE(lagrangian,Float64,order)\n",
    "Testspace = TestFESpace(model,reffe,conformity=:H1)                         \n",
    "Trialspace = TransientTrialFESpace(Testspace)                                \n",
    "Uspace = FESpace(model, reffe, conformity=:H1)                                           "
   ]
  },
  {
   "cell_type": "markdown",
   "metadata": {},
   "source": [
    "#### Time parameters"
   ]
  },
  {
   "cell_type": "code",
   "execution_count": 52,
   "metadata": {},
   "outputs": [
    {
     "data": {
      "text/plain": [
       "0.05"
      ]
     },
     "metadata": {},
     "output_type": "display_data"
    }
   ],
   "source": [
    "t0 = 0.0    # Start time\n",
    "tF = 10.0   # End time\n",
    "Δt = 0.05   # Timestep"
   ]
  },
  {
   "cell_type": "markdown",
   "metadata": {},
   "source": [
    "#### Room parameters"
   ]
  },
  {
   "cell_type": "code",
   "execution_count": 53,
   "metadata": {},
   "outputs": [
    {
     "data": {
      "text/plain": [
       "SingleFieldFEFunction():\n",
       " num_cells: 400\n",
       " DomainStyle: ReferenceDomain()\n",
       " Triangulation: BodyFittedTriangulation()\n",
       " Triangulation id: 16041350878974327689"
      ]
     },
     "metadata": {},
     "output_type": "display_data"
    }
   ],
   "source": [
    "\n",
    "Toutdoor(x,t)=5.0\n",
    "Tout(t)=x->Toutdoor(x,t)\n",
    "\n",
    "price(t)=1.0\n",
    "\n",
    "Tini(x)=20.0\n",
    "\n",
    "TIni=interpolate_everywhere(Tini, Uspace(t0))\n",
    "Tfin=interpolate_everywhere(20.0, Uspace(tF))"
   ]
  },
  {
   "cell_type": "markdown",
   "metadata": {},
   "source": [
    "#### Controll parameter"
   ]
  },
  {
   "cell_type": "code",
   "execution_count": 54,
   "metadata": {},
   "outputs": [
    {
     "data": {
      "text/plain": [
       "Qt (generic function with 1 method)"
      ]
     },
     "metadata": {},
     "output_type": "display_data"
    }
   ],
   "source": [
    "q_pos(x) = χ(x[1], -0.9, -0.7) * χ(x[2], 0, 0.20) + χ(x[1], 0.2, 0.4) * χ(x[2], -0.5, 0)\n",
    "Q(x,t)=χ(t,0.0,3.0)*100.0*q_pos(x)\n",
    "Qt(t)=x->Q(x,t)"
   ]
  },
  {
   "cell_type": "markdown",
   "metadata": {},
   "source": [
    "#### Solver parameters"
   ]
  },
  {
   "cell_type": "code",
   "execution_count": 55,
   "metadata": {},
   "outputs": [
    {
     "data": {
      "text/plain": [
       "Proj (generic function with 2 methods)"
      ]
     },
     "metadata": {},
     "output_type": "display_data"
    }
   ],
   "source": [
    "L2norm(u)=√((tF-t0)*∑(Δt*∑(∫(uu⋅uu)*dΩ) for (t,uu) in u))\n",
    "L2skp(u)=(tF-t0)*∑(Δt*∑(∫(uu⋅uu)*dΩ) for (t,uu) in u)\n",
    "ls = LUSolver()\n",
    "θ = 0.5\n",
    "solver = ThetaMethod(ls, Δt, θ)\n",
    "γ = 1\n",
    "\n",
    "Proj(a,b,z) = min(max(a,z),b)\n",
    "# Proj(z) = map(x->Proj(a,b,x),z)\n",
    "a=0.0\n",
    "b=1000.0\n",
    "Proj(z) = [(t,FEFunction(Uspace,map(x->Proj(a,b,x), get_free_dof_values(zz)))) for (t,zz) in z]\n",
    "# [(t,interpolate_everywhere(map(x->P(a,b,x),get_free_dof_values(zz)),Uspace(t))) for (t,zz) in z]\n"
   ]
  },
  {
   "cell_type": "markdown",
   "metadata": {},
   "source": [
    "#### SE Test"
   ]
  },
  {
   "cell_type": "code",
   "execution_count": 56,
   "metadata": {},
   "outputs": [
    {
     "ename": "ErrorException",
     "evalue": "invalid redefinition of constant Main.h",
     "output_type": "error",
     "traceback": [
      "invalid redefinition of constant Main.h\n",
      "\n",
      "Stacktrace:\n",
      " [1] top-level scope\n",
      "   @ c:\\Users\\Bruker\\Documents\\NTNU\\8. Semester\\MiA\\Cost-Optimization-of-Room-Heating-MiA-\\jl_notebook_cell_df34fa98e69747e1a8f8a730347b8e2f_X24sZmlsZQ==.jl:9"
     ]
    }
   ],
   "source": [
    "h_wall(x) = 1.0\n",
    "h_window(x) = 1.0\n",
    "h_door(x) = 1.0\n",
    "\n",
    "ρ(x)=1.225\n",
    "c(x)=1.0#1020.0\n",
    "k(x)=1.0#15.0\n",
    "\n",
    "h = h_wall, h_window, h_door\n",
    "constants = (c, ρ, k, h) \n",
    "\n",
    "\n",
    "dΓ = dΓ_w, dΓ_d, dΓ_wall\n",
    "\n",
    "ls = LUSolver()\n",
    "θ = 0.5\n",
    "solver = ThetaMethod(ls, Δt, θ)\n",
    "\n",
    "solution, _, _ = SEsolver(solver, Qt, Trialspace, Testspace; dΩ, dΓ, Tout, constants) \n"
   ]
  },
  {
   "cell_type": "code",
   "execution_count": 57,
   "metadata": {},
   "outputs": [
    {
     "ename": "UndefVarError",
     "evalue": "UndefVarError: `solution` not defined in `Main`\nSuggestion: check for spelling errors or missing imports.",
     "output_type": "error",
     "traceback": [
      "UndefVarError: `solution` not defined in `Main`\n",
      "Suggestion: check for spelling errors or missing imports.\n",
      "\n",
      "Stacktrace:\n",
      " [1] top-level scope\n",
      "   @ c:\\Users\\Bruker\\Documents\\NTNU\\8. Semester\\MiA\\Cost-Optimization-of-Room-Heating-MiA-\\jl_notebook_cell_df34fa98e69747e1a8f8a730347b8e2f_X25sZmlsZQ==.jl:7"
     ]
    }
   ],
   "source": [
    "# Opprett en mappe for midlertidige filer hvis den ikke eksisterer\n",
    "if !isdir(\"tmp\")\n",
    "    mkdir(\"tmp\")\n",
    "end\n",
    "\n",
    "# Initialtilstanden og resten av tidsløsningene\n",
    "uh0 = solution[1][2]  # Første element er (t0, T0), vi henter T0\n",
    "uh  = solution[2:end]  # De resterende løsningene\n",
    "\n",
    "# Lagre resultater i Paraview-format (VTK)\n",
    "createpvd(\"results\") do pvd\n",
    "    # Første løsning (t=0)\n",
    "    pvd[0] = createvtk(Ω, \"tmp/results_0.vtu\", cellfields=[\"u\" => uh0])\n",
    "\n",
    "    # Lagrer løsninger for hver tidssteg\n",
    "    for (tn, uhn) in uh\n",
    "        pvd[tn] = createvtk(Ω, \"tmp/results_$tn.vtu\", cellfields=[\"u\" => uhn])\n",
    "    end\n",
    "end\n"
   ]
  },
  {
   "cell_type": "markdown",
   "metadata": {},
   "source": [
    "#### Optimize"
   ]
  },
  {
   "cell_type": "code",
   "execution_count": 58,
   "metadata": {},
   "outputs": [
    {
     "ename": "UndefVarError",
     "evalue": "UndefVarError: `dΓ` not defined in `Main`\nSuggestion: check for spelling errors or missing imports.",
     "output_type": "error",
     "traceback": [
      "UndefVarError: `dΓ` not defined in `Main`\n",
      "Suggestion: check for spelling errors or missing imports.\n",
      "\n",
      "Stacktrace:\n",
      " [1] top-level scope\n",
      "   @ c:\\Users\\Bruker\\Documents\\NTNU\\8. Semester\\MiA\\Cost-Optimization-of-Room-Heating-MiA-\\jl_notebook_cell_df34fa98e69747e1a8f8a730347b8e2f_X30sZmlsZQ==.jl:8"
     ]
    }
   ],
   "source": [
    "include(\"Julia_functions/solution_animation.jl\")\n",
    "include(\"Julia_functions/indicator_chi.jl\")\n",
    "include(\"Julia_functions/cost_fun.jl\")\n",
    "include(\"Julia_functions/gradient_descent.jl\")\n",
    "include(\"Julia_functions/solvers.jl\")\n",
    "include(\"Julia_functions/find.jl\")\n",
    "\n",
    "(ys,qs,ps,costs) = GradientDescent(;solveSE=SEsolver, \n",
    "solveAE=AEsolver, \n",
    "spaces=(Trialspace, Testspace, Uspace), \n",
    "dΩ=dΩ, \n",
    "dΓ=dΓ, \n",
    "Q=Qt, \n",
    "J=E, \n",
    "∇f=∇e, \n",
    "P=Proj, \n",
    "s_min=s_min,\n",
    "sminargs=nothing, \n",
    "saveall=true, \n",
    "tol=1e-5, \n",
    "iter_max=2, \n",
    "Δt=Δt, \n",
    "t0=t0, \n",
    "tF=tF)"
   ]
  },
  {
   "cell_type": "markdown",
   "metadata": {},
   "source": [
    "#### Results"
   ]
  },
  {
   "cell_type": "code",
   "execution_count": 59,
   "metadata": {},
   "outputs": [],
   "source": [
    "#TODO: lag plot; pris, pådrag, temperatur "
   ]
  },
  {
   "cell_type": "code",
   "execution_count": 60,
   "metadata": {},
   "outputs": [],
   "source": [
    "result_plot()"
   ]
  }
 ],
 "metadata": {
  "kernelspec": {
   "display_name": "Julia 1.11.3",
   "language": "julia",
   "name": "julia-1.11"
  },
  "language_info": {
   "file_extension": ".jl",
   "mimetype": "application/julia",
   "name": "julia",
   "version": "1.11.3"
  }
 },
 "nbformat": 4,
 "nbformat_minor": 2
}
