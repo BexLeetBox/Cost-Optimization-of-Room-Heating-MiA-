{
 "cells": [
  {
   "cell_type": "code",
   "execution_count": 131,
   "metadata": {},
   "outputs": [],
   "source": [
    "using Gridap\n",
    "using GridapMakie, CairoMakie, FileIO\n",
    "using Gridap.FESpaces\n",
    "using Gridap.ReferenceFEs\n",
    "using Gridap.Arrays\n",
    "using Gridap.Algebra\n",
    "using Gridap.Geometry\n",
    "using Gridap.Fields\n",
    "using Gridap.CellData\n",
    "using FillArrays\n",
    "using Test\n",
    "using InteractiveUtils"
   ]
  },
  {
   "cell_type": "code",
   "execution_count": 132,
   "metadata": {},
   "outputs": [
    {
     "data": {
      "text/plain": [
       "χ (generic function with 1 method)"
      ]
     },
     "metadata": {},
     "output_type": "display_data"
    }
   ],
   "source": [
    "include(\"Julia_functions/solution_animation.jl\")\n",
    "include(\"Julia_functions/indicator_chi.jl\")"
   ]
  },
  {
   "cell_type": "code",
   "execution_count": 154,
   "metadata": {},
   "outputs": [
    {
     "data": {
      "text/plain": [
       "draw (generic function with 1 method)"
      ]
     },
     "metadata": {},
     "output_type": "display_data"
    }
   ],
   "source": [
    "domain = (0,1,0,1)\n",
    "partition = (100,100)\n",
    "model = CartesianDiscreteModel(domain,partition) #|> simplexify\n",
    "order = 1\n",
    "reffe = ReferenceFE(lagrangian,Float64,order)\n",
    "Testspace = TestFESpace(model,reffe,conformity=:H1) ###### conformity correct?\n",
    "Trialspace = TransientTrialFESpace(Testspace)                                # maybe add a function for/if Dirichlet conditions\n",
    "\n",
    "Uspace = FESpace(model, reffe, conformity=:H1)\n",
    "\n",
    "degree = 2*order                                                    # degree of the method used for approximating integrals over Ω\n",
    "Ω = Triangulation(model)\n",
    "dΩ = Measure(Ω,degree)      \t\t\t\t\t\t\t\t\t\t# make the measure dΩ\n",
    "Γ = BoundaryTriangulation(model)                                    # triangulate the boundary ∂Ω\n",
    "dΓ = Measure(Γ,degree)   \n",
    "\n",
    "\n",
    "q_pos(x) = χ(x[1], 0.9, 0.85) * χ(x[2], 0, 0.20)\n",
    "\n",
    "ρ=1.0 #1.225\n",
    "c = 1.0# c=1020.0\n",
    "k = 1.0#1.0# k=15.0\n",
    "h = 1.0# h=0.7\n",
    "Tout(x,t)= 0.0*x[1]\n",
    "Q(x,t) = 0.0#x[1] + x[2] #0.0#10.0*q_pos(x)\n",
    "Tini(x) = 20.0 #1.0 * x[1] + 10.0\n",
    "t0=0.0\n",
    "tF=10.0\n",
    "TIni=interpolate_everywhere(Tini, Uspace(t0))\n",
    "Tfin=interpolate_everywhere(20.0, Uspace(tF))\n",
    "Δt = 0.05\n",
    "\n",
    "function draw(ysol)\n",
    "\tfig, _ , plt = CairoMakie.plot(Ω, ysol, colormap=:plasma)               # plot of last state (numerical solution)\n",
    "\tCairoMakie.wireframe!(Ω, color=:black, linewidth=1)                        # add triangulation\n",
    "\tCairoMakie.Colorbar(fig[1,2], plt)                                         # add color bar\n",
    "\tdisplay(fig)\t\t\t\t\t\t\t\t\t\t\t\t\t\t\t  # display the plot\n",
    "end\n",
    "# draw(TIni)\n"
   ]
  },
  {
   "cell_type": "code",
   "execution_count": null,
   "metadata": {},
   "outputs": [],
   "source": [
    "ls = LUSolver()\n",
    "θ = 0.5\n",
    "solver = ThetaMethod(ls, Δt, θ)\n",
    "\n",
    "Q(t)=x->Q(x,t)\n",
    "Tout(t)=x->Tout(x,t)\n",
    "\n",
    "a_SE_tconst(t, dtT, ϕ) = ∫(c*dtT*ϕ*ρ)dΩ\n",
    "# a_SE_tnonconst(t, T, ϕ) = (1)*∫(k * ∇(T) ⋅ ∇(ϕ) - tr(h*T*ϕ))dΩ\n",
    "a_SE_tnonconst(t, T, ϕ) = ∫(k * ∇(T)⊙∇(ϕ))dΩ + ∫(h*T*ϕ)dΓ\n",
    "\n",
    "\n",
    "l_SE(t, ϕ) = ∫(Q(t) * ϕ)dΩ + ∫(Tout(t) * ϕ * h)dΓ\n",
    "\n",
    "op_SE = TransientLinearFEOperator((a_SE_tconst, a_SE_tnonconst), l_SE, Trialspace, Testspace, constant_forms=(true, true))\n",
    "\n",
    "T = solve(solver, op_SE, t0, tF, TIni)\n",
    "\n",
    "sol = []\n",
    "count = 0\n",
    "for (tn, uhn) in T\n",
    "    if count%5 == 0\n",
    "        push!(sol,uhn)\n",
    "    end\n",
    "    count += 1\n",
    "    \n",
    "end\n"
   ]
  },
  {
   "cell_type": "code",
   "execution_count": 162,
   "metadata": {},
   "outputs": [
    {
     "data": {
      "text/plain": [
       "202-element Vector{String}:\n",
       " \"results.pvd\"\n",
       " \"tmp/results_0.vtu\"\n",
       " \"tmp/results_0.05.vtu\"\n",
       " \"tmp/results_0.1.vtu\"\n",
       " \"tmp/results_0.15000000000000002.vtu\"\n",
       " \"tmp/results_0.2.vtu\"\n",
       " \"tmp/results_0.25.vtu\"\n",
       " \"tmp/results_0.3.vtu\"\n",
       " \"tmp/results_0.35.vtu\"\n",
       " \"tmp/results_0.39999999999999997.vtu\"\n",
       " ⋮\n",
       " \"tmp/results_9.600000000000001.vtu\"\n",
       " \"tmp/results_9.650000000000002.vtu\"\n",
       " \"tmp/results_9.700000000000003.vtu\"\n",
       " \"tmp/results_9.750000000000004.vtu\"\n",
       " \"tmp/results_9.800000000000004.vtu\"\n",
       " \"tmp/results_9.850000000000005.vtu\"\n",
       " \"tmp/results_9.900000000000006.vtu\"\n",
       " \"tmp/results_9.950000000000006.vtu\"\n",
       " \"tmp/results_10.000000000000007.vtu\""
      ]
     },
     "metadata": {},
     "output_type": "display_data"
    }
   ],
   "source": [
    "if !isdir(\"tmp\")\n",
    "    mkdir(\"tmp\")\n",
    "  end\n",
    "  \n",
    "  createpvd(\"results\") do pvd\n",
    "    pvd[0] = createvtk(Ω, \"tmp/results_0\" * \".vtu\", cellfields=[\"u\" => TIni])\n",
    "    for (tn, uhn) in T\n",
    "      pvd[tn] = createvtk(Ω, \"tmp/results_$tn\" * \".vtu\", cellfields=[\"u\" => uhn])\n",
    "    end\n",
    "  end"
   ]
  },
  {
   "cell_type": "code",
   "execution_count": 163,
   "metadata": {},
   "outputs": [
    {
     "name": "stdout",
     "output_type": "stream",
     "text": []
    },
    {
     "data": {
      "text/plain": [
       "CairoMakie.Screen{IMAGE}\n"
      ]
     },
     "metadata": {},
     "output_type": "display_data"
    }
   ],
   "source": [
    "fig, ax, hm = plot(sol[1])\n",
    "Colorbar(fig[1,2], hm)\n",
    "display(fig)"
   ]
  },
  {
   "cell_type": "code",
   "execution_count": 164,
   "metadata": {},
   "outputs": [],
   "source": [
    "#solution_animation(sol,30)"
   ]
  },
  {
   "cell_type": "code",
   "execution_count": 138,
   "metadata": {},
   "outputs": [],
   "source": []
  },
  {
   "cell_type": "code",
   "execution_count": 139,
   "metadata": {},
   "outputs": [],
   "source": []
  }
 ],
 "metadata": {
  "kernelspec": {
   "display_name": "Julia 1.11.3",
   "language": "julia",
   "name": "julia-1.11"
  },
  "language_info": {
   "file_extension": ".jl",
   "mimetype": "application/julia",
   "name": "julia",
   "version": "1.11.3"
  }
 },
 "nbformat": 4,
 "nbformat_minor": 2
}
