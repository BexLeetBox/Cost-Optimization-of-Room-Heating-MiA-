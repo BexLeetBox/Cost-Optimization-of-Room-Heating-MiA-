{
 "cells": [
  {
   "cell_type": "markdown",
   "metadata": {},
   "source": [
    "## Notebook\n",
    "\n",
    "Add julia functions by calling"
   ]
  },
  {
   "cell_type": "code",
   "execution_count": 25,
   "metadata": {},
   "outputs": [
    {
     "data": {
      "text/plain": [
       "χ (generic function with 1 method)"
      ]
     },
     "metadata": {},
     "output_type": "display_data"
    }
   ],
   "source": [
    "include(\"Julia_functions/solution_animation.jl\")\n",
    "include(\"Julia_functions/indicator_chi.jl\")\n"
   ]
  },
  {
   "cell_type": "markdown",
   "metadata": {},
   "source": [
    "In a julia code env"
   ]
  },
  {
   "cell_type": "code",
   "execution_count": 2,
   "metadata": {},
   "outputs": [],
   "source": [
    "using Gridap, GridapMakie, CairoMakie, FileIO\n",
    "\n",
    "#GLMakie"
   ]
  },
  {
   "cell_type": "code",
   "execution_count": null,
   "metadata": {},
   "outputs": [
    {
     "data": {
      "text/plain": [
       "\"animation.mp4\""
      ]
     },
     "metadata": {},
     "output_type": "display_data"
    }
   ],
   "source": [
    "domain = (-1, 1, -1, 1)\n",
    "partition = nx, ny = 10,10\n",
    "model = CartesianDiscreteModel(domain, partition) |> simplexify\n",
    "\n",
    "Ω = Triangulation(model)                                # make Triangulation\n",
    "# fig = plot(Ω)\n",
    "# wireframe!(Ω, color=:black)                             # Plot edges of each element\n",
    "# scatter!(Ω, marker=:circle, markersize=20, color=:blue) # Plot mesh nodes\n",
    "# display(fig)                                            # show plot\n",
    "\n",
    "\n",
    "order = 1\n",
    "reffe = ReferenceFE(lagrangian,Float64,order)\n",
    "Testspace = TestFESpace(model,reffe,conformity=:H1)     # no Dirichlet (/ everything Neumann)\n",
    "\n",
    "Trialspace = TrialFESpace(Testspace)                    # make trial space based on test space\n",
    "\n",
    "degree = 2*order                                        # degree of the method used for approximating integrals over Ω                   \n",
    "dΩ = Measure(Ω,degree)                                  # make the measure dΩ\n",
    "\n",
    "Γ = BoundaryTriangulation(model)                        # triangulate the boundary ∂Ω\n",
    "dΓ = Measure(Γ,degree)                                  # measure on Γ\n",
    "\n",
    "\n",
    "# Varmekilden q er 1 i dette området og 0 ellers\n",
    "Q(t) = χ(t, 0, 0.03)*100\n",
    "q_pos(x) = χ(x[1], -0.05, 0.05) * χ(x[2], -0.10, 0.10)\n",
    "\n",
    "\n",
    "τ = 0.01\n",
    "k = 1\n",
    "h = 0.01\n",
    "T_old = 290\n",
    "T_out = 290\n",
    "\n",
    "\n",
    "# To store the solution over time\n",
    "solutions = []\n",
    "\n",
    "for step in 1:100\n",
    "    \n",
    "    a(T,ϕ) = ∫( T/τ*ϕ + k*∇(ϕ)⊙∇(T))*dΩ - ∫(k*h*T*ϕ)*dΓ\n",
    "    l(ϕ) = ∫(q_pos*ϕ*Q(step*τ) + T_old/τ*ϕ)*dΩ - ∫( k*h*T_out*ϕ)*dΓ \n",
    "    \n",
    "    # Set up system matrix\n",
    "    op = AffineFEOperator(a,l,Trialspace,Testspace)\n",
    "\n",
    "    # Solve system matrix\n",
    "    uh = solve(op) \n",
    "    \n",
    "    # Store the solution\n",
    "    push!(solutions, uh)\n",
    "\n",
    "    # Update T_old\n",
    "    T_old = uh\n",
    "end\n",
    "\n",
    "solution_animation(solutions, 30)\n"
   ]
  }
 ],
 "metadata": {
  "kernelspec": {
   "display_name": "Julia 1.11.3",
   "language": "julia",
   "name": "julia-1.11"
  },
  "language_info": {
   "file_extension": ".jl",
   "mimetype": "application/julia",
   "name": "julia",
   "version": "1.11.3"
  }
 },
 "nbformat": 4,
 "nbformat_minor": 2
}
