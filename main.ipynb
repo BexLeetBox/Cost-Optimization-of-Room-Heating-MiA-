{
 "cells": [
  {
   "cell_type": "markdown",
   "metadata": {},
   "source": [
    "## Notebook\n",
    "\n",
    "Add julia functions by calling"
   ]
  },
  {
   "cell_type": "code",
   "execution_count": 1,
   "metadata": {},
   "outputs": [
    {
     "ename": "SystemError",
     "evalue": "SystemError: opening file \"c:\\\\Users\\\\oyvin\\\\OneDrive - NTNU\\\\Documents\\\\NTNU\\\\NTNU 8. Semester\\\\EiT\\\\optimalisering\\\\Julia_function\\\\func_1.jl\": No such file or directory",
     "output_type": "error",
     "traceback": [
      "SystemError: opening file \"c:\\\\Users\\\\oyvin\\\\OneDrive - NTNU\\\\Documents\\\\NTNU\\\\NTNU 8. Semester\\\\EiT\\\\optimalisering\\\\Julia_function\\\\func_1.jl\": No such file or directory\n",
      "\n",
      "Stacktrace:\n",
      " [1] include(fname::String)\n",
      "   @ Main .\\sysimg.jl:38\n",
      " [2] top-level scope\n",
      "   @ c:\\Users\\oyvin\\OneDrive - NTNU\\Documents\\NTNU\\NTNU 8. Semester\\EiT\\optimalisering\\jl_notebook_cell_df34fa98e69747e1a8f8a730347b8e2f_W1sZmlsZQ==.jl:1"
     ]
    }
   ],
   "source": [
    "include(\"Julia_function/func_1.jl\")"
   ]
  },
  {
   "cell_type": "markdown",
   "metadata": {},
   "source": [
    "In a julia code env"
   ]
  },
  {
   "cell_type": "code",
   "execution_count": 5,
   "metadata": {},
   "outputs": [
    {
     "name": "stdout",
     "output_type": "stream",
     "text": [
      "hhh\n"
     ]
    }
   ],
   "source": [
    "using Gridap\n",
    "\n",
    "# Define computational domain\n",
    "model = CartesianDiscreteModel((0,1,0,1), (4,4))\n",
    "println(\"hhh\")"
   ]
  },
  {
   "cell_type": "code",
   "execution_count": 3,
   "metadata": {},
   "outputs": [],
   "source": []
  }
 ],
 "metadata": {
  "kernelspec": {
   "display_name": "Julia 1.11.3",
   "language": "julia",
   "name": "julia-1.11"
  },
  "language_info": {
   "file_extension": ".jl",
   "mimetype": "application/julia",
   "name": "julia",
   "version": "1.11.3"
  }
 },
 "nbformat": 4,
 "nbformat_minor": 2
}
