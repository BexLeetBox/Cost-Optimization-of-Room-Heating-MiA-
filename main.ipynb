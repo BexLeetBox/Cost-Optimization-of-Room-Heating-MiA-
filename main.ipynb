{
 "cells": [
  {
   "cell_type": "markdown",
   "metadata": {},
   "source": [
    "## Notebook\n",
    "\n",
    "Add julia functions by calling"
   ]
  },
  {
   "cell_type": "code",
   "execution_count": 2,
   "metadata": {},
   "outputs": [
    {
     "data": {
      "text/plain": [
       "get_room (generic function with 1 method)"
      ]
     },
     "metadata": {},
     "output_type": "display_data"
    }
   ],
   "source": [
    "include(\"Julia_functions/get_room.jl\")\n"
   ]
  },
  {
   "cell_type": "markdown",
   "metadata": {},
   "source": [
    "In a julia code env"
   ]
  },
  {
   "cell_type": "code",
   "execution_count": 3,
   "metadata": {},
   "outputs": [],
   "source": [
    "using Gridap, GridapMakie, CairoMakie, FileIO, GLMakie"
   ]
  },
  {
   "cell_type": "code",
   "execution_count": null,
   "metadata": {},
   "outputs": [
    {
     "ename": "MethodError",
     "evalue": "MethodError: no method matching replace!(::Observable{Gridap.Geometry.BodyFittedTriangulation{2, 2, Gridap.Geometry.UnstructuredDiscreteModel{2, 2, Float64, Gridap.Geometry.Oriented}, Gridap.Geometry.UnstructuredGrid{2, 2, Float64, Gridap.Geometry.Oriented, Nothing}, Gridap.Arrays.IdentityVector{Int64}, Gridap.Geometry.Injective}}, ::Gridap.FESpaces.SingleFieldFEFunction{Gridap.CellData.GenericCellField{ReferenceDomain}})\nThe function `replace!` exists, but no method is defined for this combination of argument types.\n\nClosest candidates are:\n  replace!(::Any, !Matched::Pair...; count)\n   @ Base set.jl:735\n  replace!(!Matched::Union{Function, Type}, ::Any; count)\n   @ Base set.jl:777\n  replace!(!Matched::Attributes, ::Any, !Matched::Union{AbstractScene, MakieCore.ScenePlot}, !Matched::Attributes)\n   @ Makie C:\\Users\\Bruker\\.julia\\packages\\Makie\\Y3ABD\\src\\utilities\\utilities.jl:307\n  ...\n",
     "output_type": "error",
     "traceback": [
      "MethodError: no method matching replace!(::Observable{Gridap.Geometry.BodyFittedTriangulation{2, 2, Gridap.Geometry.UnstructuredDiscreteModel{2, 2, Float64, Gridap.Geometry.Oriented}, Gridap.Geometry.UnstructuredGrid{2, 2, Float64, Gridap.Geometry.Oriented, Nothing}, Gridap.Arrays.IdentityVector{Int64}, Gridap.Geometry.Injective}}, ::Gridap.FESpaces.SingleFieldFEFunction{Gridap.CellData.GenericCellField{ReferenceDomain}})\n",
      "The function `replace!` exists, but no method is defined for this combination of argument types.\n",
      "\n",
      "Closest candidates are:\n",
      "  replace!(::Any, !Matched::Pair...; count)\n",
      "   @ Base set.jl:735\n",
      "  replace!(!Matched::Union{Function, Type}, ::Any; count)\n",
      "   @ Base set.jl:777\n",
      "  replace!(!Matched::Attributes, ::Any, !Matched::Union{AbstractScene, MakieCore.ScenePlot}, !Matched::Attributes)\n",
      "   @ Makie C:\\Users\\Bruker\\.julia\\packages\\Makie\\Y3ABD\\src\\utilities\\utilities.jl:307\n",
      "  ...\n",
      "\n",
      "\n",
      "Stacktrace:\n",
      " [1] (::var\"#21#22\")(t_idx::Int64)\n",
      "   @ Main c:\\Users\\Bruker\\Documents\\NTNU\\8. Semester\\MiA\\Cost-Optimization-of-Room-Heating-MiA-\\jl_notebook_cell_df34fa98e69747e1a8f8a730347b8e2f_W4sZmlsZQ==.jl:82\n",
      " [2] Record(func::var\"#21#22\", figlike::Figure, iter::UnitRange{Int64}; kw_args::@Kwargs{format::SubString{String}, framerate::Int64})\n",
      "   @ Makie C:\\Users\\Bruker\\.julia\\packages\\Makie\\Y3ABD\\src\\recording.jl:173\n",
      " [3] record(func::Function, figlike::Figure, path::String, iter::UnitRange{Int64}; kw_args::@Kwargs{framerate::Int64})\n",
      "   @ Makie C:\\Users\\Bruker\\.julia\\packages\\Makie\\Y3ABD\\src\\recording.jl:154\n",
      " [4] top-level scope\n",
      "   @ c:\\Users\\Bruker\\Documents\\NTNU\\8. Semester\\MiA\\Cost-Optimization-of-Room-Heating-MiA-\\jl_notebook_cell_df34fa98e69747e1a8f8a730347b8e2f_W4sZmlsZQ==.jl:80"
     ]
    }
   ],
   "source": [
    "domain = (-1, 1, -1, 1)\n",
    "partition = nx, ny = 50,50\n",
    "model = CartesianDiscreteModel(domain, partition) |> simplexify\n",
    "\n",
    "Ω = Triangulation(model)                                # make Triangulation\n",
    "# fig = plot(Ω)\n",
    "# wireframe!(Ω, color=:black)                             # Plot edges of each element\n",
    "# scatter!(Ω, marker=:circle, markersize=20, color=:blue) # Plot mesh nodes\n",
    "# display(fig)                                            # show plot\n",
    "\n",
    "\n",
    "order = 1\n",
    "reffe = ReferenceFE(lagrangian,Float64,order)\n",
    "Testspace = TestFESpace(model,reffe,conformity=:H1)     # no Dirichlet (/ everything Neumann)\n",
    "\n",
    "Trialspace = TrialFESpace(Testspace)                    # make trial space based on test space\n",
    "\n",
    "degree = 2*order                                        # degree of the method used for approximating integrals over Ω                   \n",
    "dΩ = Measure(Ω,degree)                                  # make the measure dΩ\n",
    "\n",
    "Γ = BoundaryTriangulation(model)                        # triangulate the boundary ∂Ω\n",
    "dΓ = Measure(Γ,degree)                                  # measure on Γ\n",
    "\n",
    "\n",
    "# Definer indicator \n",
    "function χ(x, a, b)\n",
    "    if a < x && x < b\n",
    "        return 1\n",
    "    else\n",
    "        return 0\n",
    "    end\n",
    "end\n",
    "\n",
    "# Varmekilden q er 1 i dette området og 0 ellers\n",
    "Q(t) = χ(t, 0, 0.03)*100\n",
    "q_pos(x) = χ(x[1], -0.05, 0.05) * χ(x[2], -0.10, 0.10)\n",
    "\n",
    "\n",
    "τ = 0.01\n",
    "k = 1\n",
    "h = 0.01\n",
    "T_old = 290\n",
    "T_out = 290\n",
    "\n",
    "\n",
    "# To store the solution over time for animation\n",
    "solutions = []\n",
    "\n",
    "\n",
    "for step in 1:10\n",
    "    \n",
    "    a(T,ϕ) = ∫( T/τ*ϕ + k*∇(ϕ)⊙∇(T))*dΩ - ∫(k*h*T*ϕ)*dΓ\n",
    "    l(ϕ) = ∫(q_pos*ϕ*Q(step*τ) + T_old/τ*ϕ)*dΩ - ∫( k*h*T_out*ϕ)*dΓ \n",
    "\n",
    "    op = AffineFEOperator(a,l,Trialspace,Testspace)\n",
    "\n",
    "    uh = solve(op) \n",
    "    \n",
    "    # Store the solution\n",
    "    push!(solutions, uh)\n",
    "\n",
    "    T_old = uh\n",
    "\n",
    "    fig, _ , plt = plot(Ω, uh, colormap=:plasma)            # make plot of u_h\n",
    "    #wireframe!(Ω, color=:black, linewidth=1)                # add triangulation to plot\n",
    "    Colorbar(fig[1,2], plt)                                 # add color bar\n",
    "    display(fig)\n",
    "end\n",
    "\n",
    "# Set up the figure for the animation\n",
    "# fig, ax, plt = plot(Ω, solutions[1], colormap=:plasma)\n",
    "\n",
    "#Wireframe and colorbar for visualization\n",
    "#wireframe!(Ω, color=:black, linewidth=1)\n",
    "# Colorbar(fig[1, 2], plt)\n",
    "\n",
    "# # Create the animation\n",
    "# framerate = 30\n",
    "# timestamps = 1:length(solutions)\n",
    "# record(fig, \"animation.gif\", timestamps; framerate=framerate) do t_idx\n",
    "#     # Update the solution plot for each time step\n",
    "#     replace!(plt[1], solutions[t_idx]) # Update the plot with the current solution\n",
    "# end"
   ]
  }
 ],
 "metadata": {
  "kernelspec": {
   "display_name": "Julia 1.11.3",
   "language": "julia",
   "name": "julia-1.11"
  },
  "language_info": {
   "file_extension": ".jl",
   "mimetype": "application/julia",
   "name": "julia",
   "version": "1.11.3"
  }
 },
 "nbformat": 4,
 "nbformat_minor": 2
}
