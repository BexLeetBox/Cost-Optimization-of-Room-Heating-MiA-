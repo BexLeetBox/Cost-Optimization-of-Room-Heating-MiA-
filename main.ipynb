{
 "cells": [
  {
   "cell_type": "markdown",
   "metadata": {},
   "source": [
    "## Notebook\n",
    "\n",
    "Add julia functions by calling"
   ]
  },
  {
   "cell_type": "code",
   "execution_count": null,
   "metadata": {},
   "outputs": [],
   "source": [
    "include(\"Julia_functions/get_room.jl\")\n"
   ]
  },
  {
   "cell_type": "markdown",
   "metadata": {},
   "source": [
    "In a julia code env"
   ]
  },
  {
   "cell_type": "code",
   "execution_count": 1,
   "metadata": {},
   "outputs": [],
   "source": [
    "using Gridap, GridapMakie, CairoMakie, FileIO"
   ]
  },
  {
   "cell_type": "code",
   "execution_count": null,
   "metadata": {},
   "outputs": [],
   "source": [
    "u(x) = x[1]^2 + x[2]^2\n",
    "f(x) = u(x)-4\n",
    "g(x) = -2\n",
    "    \n",
    "\n",
    "domain = (-1, 1, -1, 1)\n",
    "partition = nx, ny = 20,20\n",
    "model = CartesianDiscreteModel(domain, partition) |> simplexify\n",
    "\n",
    "Ω = Triangulation(model)                                # make Triangulation\n",
    "fig = plot(Ω)\n",
    "wireframe!(Ω, color=:black)                             # Plot edges of each element\n",
    "scatter!(Ω, marker=:circle, markersize=20, color=:blue) # Plot mesh nodes\n",
    "display(fig)                                            # show plot\n",
    "save(\"Exercise3_task2_Triangulation.svg\", fig)          # save for later\n",
    "\n",
    "\n",
    "order = 1\n",
    "reffe = ReferenceFE(lagrangian,Float64,order)\n",
    "Testspace = TestFESpace(model,reffe,conformity=:H1)     # no Dirichlet (/ everything Neumann)\n",
    "\n",
    "Trialspace = TrialFESpace(Testspace)                    # make trial space based on test space\n",
    "\n",
    "degree = 2*order                                        # degree of the method used for approximating integrals over Ω                   \n",
    "dΩ = Measure(Ω,degree)                                  # make the measure dΩ\n",
    "\n",
    "Γ = BoundaryTriangulation(model)                        # triangulate the boundary ∂Ω\n",
    "dΓ = Measure(Γ,degree)                                  # measure on Γ\n",
    "\n",
    "a(u,ϕ) = ∫( ∇(ϕ)⊙∇(u)+u*ϕ)*dΩ                          # bilinear form\n",
    "l(ϕ) = ∫( ϕ*f )*dΩ - ∫( ϕ*g )*dΓ                        # linear functional\n",
    "\n",
    "op = AffineFEOperator(a,l,Trialspace,Testspace)         # make FE operator - affine because the PDE is affine\n",
    "\n",
    "uh = solve(op)                                          # solve problem\n",
    "\n",
    "fig, _ , plt = plot(Ω, uh, colormap=:plasma)            # make plot of u_h\n",
    "wireframe!(Ω, color=:black, linewidth=1)                # add triangulation to plot\n",
    "Colorbar(fig[1,2], plt)                                 # add color bar\n",
    "display(fig)                                            # show plot\n",
    "save(\"Exercise3_task2_Solution.svg\", fig)               # save picture\n",
    "\n",
    "\n",
    "e = u - uh                                              # error\n",
    "\n",
    "fig, _ , plt = plot(Ω, e, colormap=:plasma)             # plot of error\n",
    "wireframe!(Ω, color=:black, linewidth=1)                # add triangulation\n",
    "Colorbar(fig[1,2], plt)                                 # add color bar\n",
    "display(fig)                                            # show plot\n",
    "save(\"Exercise3_task2_Error.svg\", fig)                  # save picture\n",
    "\n",
    "el2 = sqrt(sum( ∫( e*e )*dΩ ))                         # calculate ||u-u_h||_L2\n",
    "print(\"The L2 error ||u-uₕ|| is $el2\")"
   ]
  }
 ],
 "metadata": {
  "kernelspec": {
   "display_name": "Julia 1.11.3",
   "language": "julia",
   "name": "julia-1.11"
  },
  "language_info": {
   "file_extension": ".jl",
   "mimetype": "application/julia",
   "name": "julia",
   "version": "1.11.3"
  }
 },
 "nbformat": 4,
 "nbformat_minor": 2
}
