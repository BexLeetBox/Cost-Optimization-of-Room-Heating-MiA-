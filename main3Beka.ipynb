{
 "cells": [
  {
   "cell_type": "markdown",
   "metadata": {},
   "source": [
    "#### Import Julia packages"
   ]
  },
  {
   "cell_type": "code",
   "execution_count": 1,
   "metadata": {},
   "outputs": [],
   "source": [
    "# import Pkg\n",
    "# Pkg.add(\"JSON3\")\n",
    "# Pkg.add(\"Interpolations\")"
   ]
  },
  {
   "cell_type": "code",
   "execution_count": 2,
   "metadata": {},
   "outputs": [],
   "source": [
    "using Gridap\n",
    "using GridapMakie, CairoMakie, FileIO\n",
    "using Gridap.FESpaces\n",
    "using Gridap.ReferenceFEs\n",
    "using Gridap.Arrays\n",
    "using Gridap.Algebra\n",
    "using Gridap.Geometry\n",
    "using Gridap.Fields\n",
    "using Gridap.CellData\n",
    "using FillArrays\n",
    "using Test\n",
    "using InteractiveUtils\n",
    "using PyPlot\n",
    "using JSON3\n",
    "using Dates\n",
    "using Makie\n",
    "# using Interpolations"
   ]
  },
  {
   "cell_type": "markdown",
   "metadata": {},
   "source": [
    "#### Import Custom functions"
   ]
  },
  {
   "cell_type": "code",
   "execution_count": 3,
   "metadata": {},
   "outputs": [
    {
     "data": {
      "text/plain": [
       "get_control_int (generic function with 1 method)"
      ]
     },
     "metadata": {},
     "output_type": "display_data"
    }
   ],
   "source": [
    "include(\"Julia_functions/indicator_chi.jl\")\n",
    "include(\"Julia_functions/cost_fun.jl\")\n",
    "include(\"Julia_functions/gradient_descent.jl\")\n",
    "include(\"Julia_functions/solvers.jl\")\n",
    "include(\"Julia_functions/find.jl\")\n",
    "include(\"Julia_functions/res_plot.jl\")\n",
    "include(\"Julia_functions/get_domain.jl\")\n",
    "include(\"Julia_functions/get_price_temp.jl\")\n",
    "include(\"Julia_functions/post_processing.jl\")"
   ]
  },
  {
   "cell_type": "markdown",
   "metadata": {},
   "source": [
    "#### Read JSON File"
   ]
  },
  {
   "cell_type": "code",
   "execution_count": 4,
   "metadata": {},
   "outputs": [
    {
     "data": {
      "text/plain": [
       "(5, 3, Any[(0.75125, 2.32125, \"Left\"), (0.73125, 2.32125, \"Right\")], Any[(0.235, 0.655, \"Top\")], [[2.005, 3.435, 0.10125, 0.20125], [1.765, 3.215, 2.80125, 2.92125]])"
      ]
     },
     "metadata": {},
     "output_type": "display_data"
    }
   ],
   "source": [
    "width, height, windows, doors, heating_elem = get_room(\"Boundary.json\")"
   ]
  },
  {
   "cell_type": "code",
   "execution_count": 5,
   "metadata": {},
   "outputs": [
    {
     "data": {
      "text/plain": [
       "(Any[0.11781, 0.11106, 0.10592, 0.10341, 0.10836, 0.10655, 0.16935, 0.43496, 0.39644], Any[1.38209, 1.3029, 1.2426, 1.21315, 1.27123, 1.24999, 1.98673, 5.10273, 4.65084], Any[282.15, 282.34999999999997, 282.25, 282.34999999999997, 282.15, 281.45, 280.65, 280.84999999999997, 280.75], Any[10, 11, 12, 13, 14, 15, 16, 17, 18])"
      ]
     },
     "metadata": {},
     "output_type": "display_data"
    }
   ],
   "source": [
    "price_EUR, price_NOK, T_out, hour_lst = get_price_temp(\"WeatherandEnergy.json\")"
   ]
  },
  {
   "cell_type": "markdown",
   "metadata": {},
   "source": [
    "#### Boundary conditions"
   ]
  },
  {
   "cell_type": "code",
   "execution_count": 6,
   "metadata": {},
   "outputs": [
    {
     "data": {
      "text/plain": [
       "f_Γ_wall (generic function with 1 method)"
      ]
     },
     "metadata": {},
     "output_type": "display_data"
    }
   ],
   "source": [
    "f_Γ_w = generate_f_Γ(windows, width, height)\n",
    "f_Γ_d = generate_f_Γ(doors, width, height)\n",
    "f_Γ_wall(x) = !(f_Γ_w(x) || f_Γ_d(x))"
   ]
  },
  {
   "cell_type": "markdown",
   "metadata": {},
   "source": [
    "#### Domain & Discretization"
   ]
  },
  {
   "cell_type": "code",
   "execution_count": 7,
   "metadata": {},
   "outputs": [
    {
     "data": {
      "text/plain": [
       "UnconstrainedFESpace()"
      ]
     },
     "metadata": {},
     "output_type": "display_data"
    }
   ],
   "source": [
    "domain = (0, width , 0, height)\n",
    "partition = (25,25)\n",
    "model = CartesianDiscreteModel(domain,partition)\n",
    "update_labels!(1, model, f_Γ_w, \"window\")\n",
    "update_labels!(2, model, f_Γ_d, \"door\")\n",
    "update_labels!(3, model, f_Γ_wall, \"wall\")\n",
    "\n",
    "order = 1\n",
    "degree = 2*order\n",
    "\n",
    "Ω = Triangulation(model)\n",
    "dΩ = Measure(Ω, degree)\n",
    "\n",
    "Γ_w = BoundaryTriangulation(model, tags=\"window\")\n",
    "dΓ_w = Measure(Γ_w, degree)\n",
    "\n",
    "Γ_d = BoundaryTriangulation(model, tags=\"door\")\n",
    "dΓ_d = Measure(Γ_d, degree)\n",
    "\n",
    "Γ_wall = BoundaryTriangulation(model, tags=\"wall\")\n",
    "dΓ_wall = Measure(Γ_wall, degree)\n",
    "\n",
    "reffe = ReferenceFE(lagrangian,Float64,order)\n",
    "Testspace = TestFESpace(model,reffe,conformity=:H1)                         \n",
    "Trialspace = TransientTrialFESpace(Testspace)                                \n",
    "Uspace = FESpace(model, reffe, conformity=:H1)"
   ]
  },
  {
   "cell_type": "markdown",
   "metadata": {},
   "source": [
    "#### Time parameters"
   ]
  },
  {
   "cell_type": "code",
   "execution_count": 8,
   "metadata": {},
   "outputs": [
    {
     "data": {
      "text/plain": [
       "40"
      ]
     },
     "metadata": {},
     "output_type": "display_data"
    }
   ],
   "source": [
    "t0 = 0.0    # Start time\n",
    "tF = 28800   # End time\n",
    "Δt = 40"
   ]
  },
  {
   "cell_type": "markdown",
   "metadata": {},
   "source": [
    "#### Room parameters"
   ]
  },
  {
   "cell_type": "code",
   "execution_count": 9,
   "metadata": {},
   "outputs": [
    {
     "data": {
      "text/plain": [
       "SingleFieldFEFunction():\n",
       " num_cells: 625\n",
       " DomainStyle: ReferenceDomain()\n",
       " Triangulation: BodyFittedTriangulation()\n",
       " Triangulation id: 11801284990662421406"
      ]
     },
     "metadata": {},
     "output_type": "display_data"
    }
   ],
   "source": [
    "h_wall(x) = 0.22*0.02           # [W/m^2K]\n",
    "h_window(x) = 1.2*0.02\n",
    "h_door(x) = 1.0*0.02\n",
    "\n",
    "ρ(x)=1.225\n",
    "c(x)=1020.0\n",
    "k(x)=5#3.5\n",
    "\n",
    "\n",
    "h = (h_wall, h_window, h_door) \n",
    "constants = (c, ρ, k, h) \n",
    "\n",
    "\n",
    "Tout = get_temp_function(T_out, tF)\n",
    "\n",
    "Tini(x)=273.15 + 22.0\n",
    "\n",
    "TIni=interpolate_everywhere(Tini, Uspace(t0))\n",
    "Tfin=interpolate_everywhere(Tini, Uspace(tF))"
   ]
  },
  {
   "cell_type": "markdown",
   "metadata": {},
   "source": [
    "#### Controll parameter"
   ]
  },
  {
   "cell_type": "code",
   "execution_count": 50,
   "metadata": {},
   "outputs": [
    {
     "data": {
      "text/plain": [
       "Qt (generic function with 1 method)"
      ]
     },
     "metadata": {},
     "output_type": "display_data"
    }
   ],
   "source": [
    "#q_pos(x) = χ(x[1], 0.21, 1.73) * χ(x[2], 0.13, 0.16)\n",
    "q_pos = heating_elements(heating_elem)\n",
    "\n",
    "Q(x,t)=0#150*q_pos(x)*χ(t,6.0,9.0)\n",
    "Qt(t)=x->Q(x,t)"
   ]
  },
  {
   "cell_type": "markdown",
   "metadata": {},
   "source": [
    "#### Solver parameters"
   ]
  },
  {
   "cell_type": "code",
   "execution_count": 11,
   "metadata": {},
   "outputs": [
    {
     "data": {
      "text/plain": [
       "Proj (generic function with 2 methods)"
      ]
     },
     "metadata": {},
     "output_type": "display_data"
    }
   ],
   "source": [
    "L2norm(u)=√(Δt*((∑(∫(u[1][2]⋅u[1][2])*dΩ)+∑(∫(u[end][2]⋅u[end][2])*dΩ))/2 + ∑(∑(∫(u[k][2]⋅u[k][2])*dΩ) for k=2:length(u)-1)))\n",
    "L2skp(u)=Δt*((∑(∫(u[1][2]⋅u[1][2])*dΩ)+∑(∫(u[end][2]⋅u[end][2])*dΩ))/2 + ∑(∑(∫(u[k][2]⋅u[k][2])*dΩ) for k=2:length(u)-1))\n",
    "get_control_int(qs) = [∑(∫(u)*dΩ) for (t,u) in qs] ./ ∑(∫(q_pos)*dΩ)\n",
    "get_temperature_int(Ts) = [∑(∫(temp)*dΩ) for (t,temp) in Ts] ./ ∑(∫(1)*dΩ)\n",
    "\n",
    "Proj(a,b,z) = min(max(a,z),b)\n",
    "a=0.0\n",
    "b=400*(∑(∫(q_pos)*dΩ))\n",
    "Proj(z) = [(t,FEFunction(Uspace,map(x->Proj(a,b,x), get_free_dof_values(zz)))) for (t,zz) in z]"
   ]
  },
  {
   "cell_type": "code",
   "execution_count": 12,
   "metadata": {},
   "outputs": [
    {
     "data": {
      "text/plain": [
       "plot_costs2 (generic function with 1 method)"
      ]
     },
     "metadata": {},
     "output_type": "display_data"
    }
   ],
   "source": [
    "get_control_int(qs) = [∑(∫(u)*dΩ) for (t,u) in qs] ./ ∑(∫(q_pos)*dΩ)\n",
    "get_temperature_int(Ts) = [∑(∫(temp)*dΩ) for (t,temp) in Ts] ./ ∑(∫(1)*dΩ)\n",
    "\n",
    "\n",
    "function result_plot2(; T_int, Q_int, t0, tF, hour_lst, price_NOK, T_out)\n",
    "    # time = LinRange(t0, tF, length(T_int))\n",
    "    time = LinRange(t0, tF, length(T_int)) ./ 3600  # convert from seconds to hours\n",
    "    time2 = LinRange(t0, tF, length(T_int))\n",
    "\n",
    "    \n",
    "    time_price = [price(t) for t in time2]\n",
    "\n",
    "    fig = CairoMakie.Figure(size=(600, 900), figure_padding=(0, 5, 0, 5))\n",
    "\n",
    "    # Formatter for temperature axis (Kelvin to Celsius)\n",
    "    temp_formatter = v -> [\"$(round(vi - 273.15, digits=1))\" for vi in v]\n",
    "\n",
    "    # Temperature profile\n",
    "    ax = CairoMakie.Axis(\n",
    "        fig[1, 1],\n",
    "        title = \"Temperature profile\",\n",
    "        xlabel = \"Time (hours)\",\n",
    "        ylabel = \"Temperature (°C)\",\n",
    "        ytickformat = temp_formatter\n",
    "    )\n",
    "    lines!(ax, time, T_int, color = :green)\n",
    "\n",
    "    # Heating output\n",
    "    ax = CairoMakie.Axis(\n",
    "        fig[2, 1],\n",
    "        title = \"Optimal Heating Schedule\",\n",
    "        xlabel = \"Time (hours)\",\n",
    "        ylabel = \"Heating Output (W)\"\n",
    "    )\n",
    "    lines!(ax, time, Q_int, color = :red)\n",
    "\n",
    "    # Energy price\n",
    "    ax = CairoMakie.Axis(\n",
    "        fig[3, 1],\n",
    "        title = \"Energy price over time\",\n",
    "        xlabel = \"Time (hours)\",\n",
    "        ylabel = \"Price (NOK)\"\n",
    "    )\n",
    "    lines!(ax, time, time_price, color = :blue)\n",
    "\n",
    "    # Outside temperature\n",
    "    ax = CairoMakie.Axis(\n",
    "        fig[4, 1],\n",
    "        title = \"Outside Temperature over time\",\n",
    "        xlabel = \"Time (hours)\",\n",
    "        ylabel = \"Temperature (°C)\",\n",
    "        ytickformat = temp_formatter\n",
    "    )\n",
    "    lines!(ax, hour_lst .-10, T_out, color = :orange)\n",
    "\n",
    "    return fig\n",
    "end\n",
    "\n",
    "function plot_costs2(costs)\n",
    "    fig = CairoMakie.Figure(size=(600, 300))\n",
    "\n",
    "    ax = CairoMakie.Axis(\n",
    "        fig[1, 1],\n",
    "        xlabel = \"Iteration\",\n",
    "        ylabel = \"Cost\",\n",
    "        yscale = log10  # Make y-axis logarithmic\n",
    "    )\n",
    "\n",
    "    lines!(ax, 1:length(costs), costs, color = :purple)\n",
    "\n",
    "    return fig\n",
    "end\n",
    "\n"
   ]
  },
  {
   "cell_type": "markdown",
   "metadata": {},
   "source": [
    "#### Test Gradient DEs"
   ]
  },
  {
   "cell_type": "code",
   "execution_count": 36,
   "metadata": {},
   "outputs": [
    {
     "name": "stdout",
     "output_type": "stream",
     "text": [
      "T computed\n",
      "W computed\n",
      "entered for loop, E=3.062372600991197e6, k = 1\n",
      "α = 10, new_cost = 1.0892622906096334e7, L2fgrad = 10389.635550868732, interm = 0.0\n",
      "α = 5.0, new_cost = 6.205124691313479e6, L2fgrad = 10389.635550868732, interm = 0.0\n",
      "α = 2.5, new_cost = 944815.062952947, L2fgrad = 10389.635550868732, interm = 0.0\n",
      "entered for loop, E=944815.062952947, k = 2\n",
      "α = 10, new_cost = 3.062372600991197e6, L2fgrad = 3666.120803322863, interm = 0.0\n",
      "α = 5.0, new_cost = 1.4579696193936511e6, L2fgrad = 3666.120803322863, interm = 0.0\n",
      "α = 2.5, new_cost = 667052.0569364149, L2fgrad = 3666.120803322863, interm = 0.0\n",
      "entered for loop, E=667052.0569364149, k = 3\n",
      "α = 10, new_cost = 1.2497949175206302e6, L2fgrad = 1393.2788337114116, interm = 0.0\n",
      "α = 5.0, new_cost = 696573.6659260283, L2fgrad = 1393.2788337114116, interm = 0.0\n",
      "α = 2.5, new_cost = 616350.4061055984, L2fgrad = 1393.2788337114116, interm = 0.0\n",
      "entered for loop, E=616350.4061055984, k = 4\n",
      "α = 10, new_cost = 618798.197950853, L2fgrad = 713.3290333922038, interm = 0.0\n",
      "α = 5.0, new_cost = 585587.51682071, L2fgrad = 713.3290333922038, interm = 0.0\n",
      "entered for loop, E=585587.51682071, k = 5\n",
      "α = 10, new_cost = 742603.5219312339, L2fgrad = 943.9726213960914, interm = 0.0\n",
      "α = 5.0, new_cost = 571382.9679226673, L2fgrad = 943.9726213960914, interm = 0.0\n",
      "entered for loop, E=571382.9679226673, k = 6\n",
      "α = 10, new_cost = 803582.4840732405, L2fgrad = 1399.6659470403526, interm = 0.0\n",
      "α = 5.0, new_cost = 585275.2318951712, L2fgrad = 1399.6659470403526, interm = 0.0\n",
      "α = 2.5, new_cost = 519634.6512785832, L2fgrad = 1399.6659470403526, interm = 0.0\n",
      "entered for loop, E=519634.6512785832, k = 7\n",
      "α = 10, new_cost = 548205.0560081262, L2fgrad = 719.6437847424834, interm = 0.0\n",
      "α = 5.0, new_cost = 494125.3736718463, L2fgrad = 719.6437847424834, interm = 0.0\n",
      "entered for loop, E=494125.3736718463, k = 8\n",
      "α = 10, new_cost = 515072.8493750381, L2fgrad = 990.6619049194073, interm = 0.0\n",
      "α = 5.0, new_cost = 478434.83210093935, L2fgrad = 990.6619049194073, interm = 0.0\n",
      "entered for loop, E=478434.83210093935, k = 9\n",
      "α = 10, new_cost = 551627.8935433077, L2fgrad = 710.5029311063934, interm = 0.0\n",
      "α = 5.0, new_cost = 468404.084023248, L2fgrad = 710.5029311063934, interm = 0.0\n",
      "entered for loop, E=468404.084023248, k = 10\n",
      "α = 10, new_cost = 505411.5418900195, L2fgrad = 1156.6866526467993, interm = 0.0\n",
      "α = 5.0, new_cost = 461159.2551592067, L2fgrad = 1156.6866526467993, interm = 0.0\n",
      "entered for loop, E=461159.2551592067, k = 11\n",
      "α = 10, new_cost = 481218.7650082654, L2fgrad = 567.177579630908, interm = 0.0\n",
      "α = 5.0, new_cost = 455741.57090316364, L2fgrad = 567.177579630908, interm = 0.0\n",
      "entered for loop, E=455741.57090316364, k = 12\n",
      "α = 10, new_cost = 463186.61131832853, L2fgrad = 936.003459741877, interm = 0.0\n",
      "α = 5.0, new_cost = 451782.3127693147, L2fgrad = 936.003459741877, interm = 0.0\n",
      "entered for loop, E=451782.3127693147, k = 13\n",
      "α = 10, new_cost = 454402.6858385649, L2fgrad = 582.4350201910578, interm = 0.0\n",
      "α = 5.0, new_cost = 448768.53018245916, L2fgrad = 582.4350201910578, interm = 0.0\n",
      "entered for loop, E=448768.53018245916, k = 14\n",
      "α = 10, new_cost = 447900.6783597726, L2fgrad = 815.2793562646291, interm = 0.0\n",
      "entered for loop, E=447900.6783597726, k = 15\n",
      "α = 10, new_cost = 459885.4729203173, L2fgrad = 561.8405897991988, interm = 0.0\n",
      "α = 5.0, new_cost = 444168.9372349298, L2fgrad = 561.8405897991988, interm = 0.0\n",
      "entered for loop, E=444168.9372349298, k = 16\n",
      "α = 10, new_cost = 447257.54286259104, L2fgrad = 887.6025462549936, interm = 0.0\n",
      "α = 5.0, new_cost = 441608.32204871124, L2fgrad = 887.6025462549936, interm = 0.0\n",
      "entered for loop, E=441608.32204871124, k = 17\n",
      "α = 10, new_cost = 441356.263065812, L2fgrad = 616.5745519176166, interm = 0.0\n",
      "entered for loop, E=441356.263065812, k = 18\n",
      "α = 10, new_cost = 451693.8582710415, L2fgrad = 999.1144927896523, interm = 0.0\n",
      "α = 5.0, new_cost = 437847.2565459039, L2fgrad = 999.1144927896523, interm = 0.0\n",
      "entered for loop, E=437847.2565459039, k = 19\n",
      "α = 10, new_cost = 439647.61707139405, L2fgrad = 594.0600214466585, interm = 0.0\n",
      "α = 5.0, new_cost = 435756.32875052525, L2fgrad = 594.0600214466585, interm = 0.0\n",
      "entered for loop, E=435756.32875052525, k = 20\n",
      "α = 10, new_cost = 435012.00094443036, L2fgrad = 800.3322950748286, interm = 0.0\n",
      "entered for loop, E=435012.00094443036, k = 21\n",
      "α = 10, new_cost = 437606.3943927197, L2fgrad = 580.9113268412231, interm = 0.0\n",
      "α = 5.0, new_cost = 432753.7683798219, L2fgrad = 580.9113268412231, interm = 0.0\n",
      "entered for loop, E=432753.7683798219, k = 22\n",
      "α = 10, new_cost = 432111.41328135197, L2fgrad = 791.6593177723818, interm = 0.0\n",
      "entered for loop, E=432111.41328135197, k = 23\n",
      "α = 10, new_cost = 433264.37871139863, L2fgrad = 591.358428794988, interm = 0.0\n",
      "α = 5.0, new_cost = 430342.84068186255, L2fgrad = 591.358428794988, interm = 0.0\n",
      "entered for loop, E=430342.84068186255, k = 24\n",
      "α = 10, new_cost = 429500.16014682257, L2fgrad = 762.3790650597742, interm = 0.0\n",
      "entered for loop, E=429500.16014682257, k = 25\n",
      "α = 10, new_cost = 429283.7277447405, L2fgrad = 621.6975074059419, interm = 0.0\n",
      "entered for loop, E=429283.7277447405, k = 26\n",
      "α = 10, new_cost = 430423.34838859126, L2fgrad = 868.74180905757, interm = 0.0\n",
      "α = 5.0, new_cost = 427639.4711589938, L2fgrad = 868.74180905757, interm = 0.0\n",
      "entered for loop, E=427639.4711589938, k = 27\n",
      "α = 10, new_cost = 426887.3952534245, L2fgrad = 660.1707586047083, interm = 0.0\n",
      "entered for loop, E=426887.3952534245, k = 28\n",
      "α = 10, new_cost = 426399.57710819214, L2fgrad = 766.5771828033936, interm = 0.0\n",
      "entered for loop, E=426399.57710819214, k = 29\n",
      "α = 10, new_cost = 426223.9108627066, L2fgrad = 615.7312617355637, interm = 0.0\n",
      "entered for loop, E=426223.9108627066, k = 30\n",
      "α = 10, new_cost = 426607.4246628639, L2fgrad = 843.6314882825196, interm = 0.0\n",
      "α = 5.0, new_cost = 424877.3665648381, L2fgrad = 843.6314882825196, interm = 0.0\n"
     ]
    },
    {
     "data": {
      "text/plain": [
       "(Tuple{Float64, SingleFieldFEFunction{GenericCellField{ReferenceDomain}}}[(0.0, SingleFieldFEFunction()), (40.0, SingleFieldFEFunction()), (80.0, SingleFieldFEFunction()), (120.0, SingleFieldFEFunction()), (160.0, SingleFieldFEFunction()), (200.0, SingleFieldFEFunction()), (240.0, SingleFieldFEFunction()), (280.0, SingleFieldFEFunction()), (320.0, SingleFieldFEFunction()), (360.0, SingleFieldFEFunction())  …  (28440.0, SingleFieldFEFunction()), (28480.0, SingleFieldFEFunction()), (28520.0, SingleFieldFEFunction()), (28560.0, SingleFieldFEFunction()), (28600.0, SingleFieldFEFunction()), (28640.0, SingleFieldFEFunction()), (28680.0, SingleFieldFEFunction()), (28720.0, SingleFieldFEFunction()), (28760.0, SingleFieldFEFunction()), (28800.0, SingleFieldFEFunction())], Tuple{Float64, SingleFieldFEFunction{GenericCellField{ReferenceDomain}}}[(0.0, SingleFieldFEFunction()), (40.0, SingleFieldFEFunction()), (80.0, SingleFieldFEFunction()), (120.0, SingleFieldFEFunction()), (160.0, SingleFieldFEFunction()), (200.0, SingleFieldFEFunction()), (240.0, SingleFieldFEFunction()), (280.0, SingleFieldFEFunction()), (320.0, SingleFieldFEFunction()), (360.0, SingleFieldFEFunction())  …  (28440.0, SingleFieldFEFunction()), (28480.0, SingleFieldFEFunction()), (28520.0, SingleFieldFEFunction()), (28560.0, SingleFieldFEFunction()), (28600.0, SingleFieldFEFunction()), (28640.0, SingleFieldFEFunction()), (28680.0, SingleFieldFEFunction()), (28720.0, SingleFieldFEFunction()), (28760.0, SingleFieldFEFunction()), (28800.0, SingleFieldFEFunction())], Tuple{Real, SingleFieldFEFunction{GenericCellField{ReferenceDomain}}}[(0.0, SingleFieldFEFunction()), (40.0, SingleFieldFEFunction()), (80.0, SingleFieldFEFunction()), (120.0, SingleFieldFEFunction()), (160.0, SingleFieldFEFunction()), (200.0, SingleFieldFEFunction()), (240.0, SingleFieldFEFunction()), (280.0, SingleFieldFEFunction()), (320.0, SingleFieldFEFunction()), (360.0, SingleFieldFEFunction())  …  (28440.0, SingleFieldFEFunction()), (28480.0, SingleFieldFEFunction()), (28520.0, SingleFieldFEFunction()), (28560.0, SingleFieldFEFunction()), (28600.0, SingleFieldFEFunction()), (28640.0, SingleFieldFEFunction()), (28680.0, SingleFieldFEFunction()), (28720.0, SingleFieldFEFunction()), (28760.0, SingleFieldFEFunction()), (28800, SingleFieldFEFunction())], [3.062372600991197e6, 944815.062952947, 667052.0569364149, 616350.4061055984, 585587.51682071, 571382.9679226673, 519634.6512785832, 494125.3736718463, 478434.83210093935, 468404.084023248  …  432753.7683798219, 432111.41328135197, 430342.84068186255, 429500.16014682257, 429283.7277447405, 427639.4711589938, 426887.3952534245, 426399.57710819214, 426223.9108627066, 424877.3665648381])"
      ]
     },
     "metadata": {},
     "output_type": "display_data"
    }
   ],
   "source": [
    "price = get_price_function(price_NOK, tF, 1)\n",
    "γ = 1.225*1020*3\n",
    "\n",
    "(Ts3,qs3,Ws3,costs3) = GradientDescent(;solveSE=SEsolver, \n",
    "solveAE=AEsolver, \n",
    "spaces=(Trialspace, Testspace, Uspace), \n",
    "dΩ=dΩ, \n",
    "dΓ=(dΓ_w,dΓ_d,dΓ_wall), \n",
    "Q=Qt, \n",
    "J=E, \n",
    "∇f=∇e, \n",
    "P=Proj, \n",
    "s_min=s_min,\n",
    "sminargs=nothing, \n",
    "saveall=false, \n",
    "tol=1e-5, \n",
    "iter_max=30,\n",
    "armijoparas=(ρ=0.5, α_0=10, α_min=1e-4, σ=0.0), \n",
    "Δt=Δt, \n",
    "t0=t0,\n",
    "tF=tF,\n",
    "Tout=Tout,\n",
    "constants=constants,\n",
    "Tfin=Tfin,\n",
    "q_pos=q_pos)"
   ]
  },
  {
   "cell_type": "code",
   "execution_count": 51,
   "metadata": {},
   "outputs": [
    {
     "data": {
      "text/plain": [
       "CairoMakie.Screen{IMAGE}\n"
      ]
     },
     "metadata": {},
     "output_type": "display_data"
    }
   ],
   "source": [
    "price = get_price_function(price_NOK, tF, 1)\n",
    "\n",
    "# c1_real = (plot_costs(costs3))\n",
    "c1_real = (plot_costs2(costs3))\n",
    "\n",
    "CairoMakie.save(\"price_real_convergence_beka.png\", c1_real)\n",
    "\n",
    "Q_int = get_control_int(qs3)\n",
    "T_int = get_temperature_int(Ts3)\n",
    "c2_real = result_plot2(;T_int,Q_int,t0,tF,hour_lst,price_NOK,T_out)\n",
    "CairoMakie.save(\"price_real_result_beka.png\", c2_real)\n"
   ]
  },
  {
   "cell_type": "code",
   "execution_count": 49,
   "metadata": {},
   "outputs": [
    {
     "name": "stdout",
     "output_type": "stream",
     "text": [
      "0.11195937124249278\n",
      "-0.8810225208162611\n"
     ]
    }
   ],
   "source": [
    "#Dette ga ikke veldig realistiske tall... hmmm\n",
    "\n",
    "real_price = 0\n",
    "for (t,QQ) in qs3\n",
    "    real_price+=Δt*price(t)*∑(∫(QQ)*dΩ)*(1/1000/3600)#*(∑(∫(q_pos)*dΩ))\n",
    "end\n",
    "temp_difference =  0\n",
    "tmp = last(Ts3)[2]-Tfin\n",
    "temp_difference = ∑(∫(tmp)*dΩ)\n",
    "println(real_price) \n",
    "println(temp_difference/(width*height))"
   ]
  },
  {
   "cell_type": "code",
   "execution_count": 16,
   "metadata": {},
   "outputs": [],
   "source": [
    "# # Opprett en mappe for midlertidige filer hvis den ikke eksisterer\n",
    "# if !isdir(\"tmp\")\n",
    "#     mkdir(\"tmp\")\n",
    "# end\n",
    "\n",
    "# # Initialtilstanden og resten av tidsløsningene\n",
    "# # uh0 = solution[1][2]  # Første element er (t0, T0), vi henter T0\n",
    "# # uh  = solution[2:end]  # De resterende løsningene\n",
    "\n",
    "\n",
    "# uh = Ts3\n",
    "# # Lagre resultater i Paraview-format (VTK)\n",
    "# createpvd(\"resultsOutisde\") do pvd\n",
    "#     # Første løsning (t=0)\n",
    "#     # pvd[0] = createvtk(Ω, \"tmp/results_0.vtu\", cellfields=[\"u\" => uh0])\n",
    "\n",
    "#     # Lagrer løsninger for hver tidssteg\n",
    "#     count = 0\n",
    "#     for (tn, uhn) in uh\n",
    "#         if count%2 == 0\n",
    "#             pvd[tn] = createvtk(Ω, \"tmp/results_$count.vtu\", cellfields=[\"u\" => uhn])\n",
    "#         end\n",
    "#         count+=1\n",
    "#     end\n",
    "# end\n"
   ]
  }
 ],
 "metadata": {
  "kernelspec": {
   "display_name": "Julia 1.11.3",
   "language": "julia",
   "name": "julia-1.11"
  },
  "language_info": {
   "file_extension": ".jl",
   "mimetype": "application/julia",
   "name": "julia",
   "version": "1.11.3"
  }
 },
 "nbformat": 4,
 "nbformat_minor": 2
}
